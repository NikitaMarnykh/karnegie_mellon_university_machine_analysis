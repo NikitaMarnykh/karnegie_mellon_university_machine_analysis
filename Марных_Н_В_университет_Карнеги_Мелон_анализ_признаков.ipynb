{
  "nbformat": 4,
  "nbformat_minor": 0,
  "metadata": {
    "colab": {
      "provenance": [],
      "authorship_tag": "ABX9TyOhdcnJF5BGY+ooCMouaoXK",
      "include_colab_link": true
    },
    "kernelspec": {
      "name": "python3",
      "display_name": "Python 3"
    },
    "language_info": {
      "name": "python"
    }
  },
  "cells": [
    {
      "cell_type": "markdown",
      "metadata": {
        "id": "view-in-github",
        "colab_type": "text"
      },
      "source": [
        "<a href=\"https://colab.research.google.com/github/NikitaMarnykh/karnegie_mellon_university_machine_analysis/blob/main/%D0%9C%D0%B0%D1%80%D0%BD%D1%8B%D1%85_%D0%9D_%D0%92_%D1%83%D0%BD%D0%B8%D0%B2%D0%B5%D1%80%D1%81%D0%B8%D1%82%D0%B5%D1%82_%D0%9A%D0%B0%D1%80%D0%BD%D0%B5%D0%B3%D0%B8_%D0%9C%D0%B5%D0%BB%D0%BE%D0%BD_%D0%B0%D0%BD%D0%B0%D0%BB%D0%B8%D0%B7_%D0%BF%D1%80%D0%B8%D0%B7%D0%BD%D0%B0%D0%BA%D0%BE%D0%B2.ipynb\" target=\"_parent\"><img src=\"https://colab.research.google.com/assets/colab-badge.svg\" alt=\"Open In Colab\"/></a>"
      ]
    },
    {
      "cell_type": "markdown",
      "source": [
        "Признаки, которые будут использованы для дальнейшего анализа:\n",
        "\n",
        "  * Количественные признаки:\n",
        "  \n",
        "    - mpg\n",
        "\n",
        "    - cylinders\n",
        "\n",
        "    - displacement\n",
        "\n",
        "    - horsepower\n",
        "\n",
        "    - weight\n",
        "\n",
        "    - acceleration\n",
        "\n",
        "    - model year\n",
        "\n",
        "  * Категориальные признаки:\n",
        "\n",
        "    - origin"
      ],
      "metadata": {
        "id": "j4pbbe0_dOGO"
      }
    },
    {
      "cell_type": "markdown",
      "metadata": {
        "id": "WKpooC4ZGSPp"
      },
      "source": [
        "## 6. Установка и подключение зависимостей"
      ]
    },
    {
      "cell_type": "markdown",
      "metadata": {
        "id": "DbuyptL22vOG"
      },
      "source": [
        "Устанавливаем все необходимые зависимости"
      ]
    },
    {
      "cell_type": "code",
      "execution_count": 186,
      "metadata": {
        "colab": {
          "base_uri": "https://localhost:8080/"
        },
        "id": "90XlK26G2Bv1",
        "outputId": "8f44b5aa-c15a-4ae5-c7eb-67c3063b9fb7"
      },
      "outputs": [
        {
          "output_type": "stream",
          "name": "stdout",
          "text": [
            "Requirement already satisfied: numpy in /usr/local/lib/python3.12/dist-packages (2.0.2)\n",
            "Requirement already satisfied: matplotlib in /usr/local/lib/python3.12/dist-packages (3.10.0)\n",
            "Requirement already satisfied: contourpy>=1.0.1 in /usr/local/lib/python3.12/dist-packages (from matplotlib) (1.3.3)\n",
            "Requirement already satisfied: cycler>=0.10 in /usr/local/lib/python3.12/dist-packages (from matplotlib) (0.12.1)\n",
            "Requirement already satisfied: fonttools>=4.22.0 in /usr/local/lib/python3.12/dist-packages (from matplotlib) (4.60.1)\n",
            "Requirement already satisfied: kiwisolver>=1.3.1 in /usr/local/lib/python3.12/dist-packages (from matplotlib) (1.4.9)\n",
            "Requirement already satisfied: numpy>=1.23 in /usr/local/lib/python3.12/dist-packages (from matplotlib) (2.0.2)\n",
            "Requirement already satisfied: packaging>=20.0 in /usr/local/lib/python3.12/dist-packages (from matplotlib) (25.0)\n",
            "Requirement already satisfied: pillow>=8 in /usr/local/lib/python3.12/dist-packages (from matplotlib) (11.3.0)\n",
            "Requirement already satisfied: pyparsing>=2.3.1 in /usr/local/lib/python3.12/dist-packages (from matplotlib) (3.2.5)\n",
            "Requirement already satisfied: python-dateutil>=2.7 in /usr/local/lib/python3.12/dist-packages (from matplotlib) (2.9.0.post0)\n",
            "Requirement already satisfied: six>=1.5 in /usr/local/lib/python3.12/dist-packages (from python-dateutil>=2.7->matplotlib) (1.17.0)\n",
            "Requirement already satisfied: pandas in /usr/local/lib/python3.12/dist-packages (2.2.2)\n",
            "Requirement already satisfied: numpy>=1.26.0 in /usr/local/lib/python3.12/dist-packages (from pandas) (2.0.2)\n",
            "Requirement already satisfied: python-dateutil>=2.8.2 in /usr/local/lib/python3.12/dist-packages (from pandas) (2.9.0.post0)\n",
            "Requirement already satisfied: pytz>=2020.1 in /usr/local/lib/python3.12/dist-packages (from pandas) (2025.2)\n",
            "Requirement already satisfied: tzdata>=2022.7 in /usr/local/lib/python3.12/dist-packages (from pandas) (2025.2)\n",
            "Requirement already satisfied: six>=1.5 in /usr/local/lib/python3.12/dist-packages (from python-dateutil>=2.8.2->pandas) (1.17.0)\n",
            "Requirement already satisfied: scipy in /usr/local/lib/python3.12/dist-packages (1.16.2)\n",
            "Requirement already satisfied: numpy<2.6,>=1.25.2 in /usr/local/lib/python3.12/dist-packages (from scipy) (2.0.2)\n",
            "Requirement already satisfied: seaborn in /usr/local/lib/python3.12/dist-packages (0.13.2)\n",
            "Requirement already satisfied: numpy!=1.24.0,>=1.20 in /usr/local/lib/python3.12/dist-packages (from seaborn) (2.0.2)\n",
            "Requirement already satisfied: pandas>=1.2 in /usr/local/lib/python3.12/dist-packages (from seaborn) (2.2.2)\n",
            "Requirement already satisfied: matplotlib!=3.6.1,>=3.4 in /usr/local/lib/python3.12/dist-packages (from seaborn) (3.10.0)\n",
            "Requirement already satisfied: contourpy>=1.0.1 in /usr/local/lib/python3.12/dist-packages (from matplotlib!=3.6.1,>=3.4->seaborn) (1.3.3)\n",
            "Requirement already satisfied: cycler>=0.10 in /usr/local/lib/python3.12/dist-packages (from matplotlib!=3.6.1,>=3.4->seaborn) (0.12.1)\n",
            "Requirement already satisfied: fonttools>=4.22.0 in /usr/local/lib/python3.12/dist-packages (from matplotlib!=3.6.1,>=3.4->seaborn) (4.60.1)\n",
            "Requirement already satisfied: kiwisolver>=1.3.1 in /usr/local/lib/python3.12/dist-packages (from matplotlib!=3.6.1,>=3.4->seaborn) (1.4.9)\n",
            "Requirement already satisfied: packaging>=20.0 in /usr/local/lib/python3.12/dist-packages (from matplotlib!=3.6.1,>=3.4->seaborn) (25.0)\n",
            "Requirement already satisfied: pillow>=8 in /usr/local/lib/python3.12/dist-packages (from matplotlib!=3.6.1,>=3.4->seaborn) (11.3.0)\n",
            "Requirement already satisfied: pyparsing>=2.3.1 in /usr/local/lib/python3.12/dist-packages (from matplotlib!=3.6.1,>=3.4->seaborn) (3.2.5)\n",
            "Requirement already satisfied: python-dateutil>=2.7 in /usr/local/lib/python3.12/dist-packages (from matplotlib!=3.6.1,>=3.4->seaborn) (2.9.0.post0)\n",
            "Requirement already satisfied: pytz>=2020.1 in /usr/local/lib/python3.12/dist-packages (from pandas>=1.2->seaborn) (2025.2)\n",
            "Requirement already satisfied: tzdata>=2022.7 in /usr/local/lib/python3.12/dist-packages (from pandas>=1.2->seaborn) (2025.2)\n",
            "Requirement already satisfied: six>=1.5 in /usr/local/lib/python3.12/dist-packages (from python-dateutil>=2.7->matplotlib!=3.6.1,>=3.4->seaborn) (1.17.0)\n"
          ]
        }
      ],
      "source": [
        "!pip install numpy\n",
        "!pip install matplotlib\n",
        "!pip install pandas\n",
        "!pip install scipy\n",
        "!pip install seaborn"
      ]
    },
    {
      "cell_type": "markdown",
      "metadata": {
        "id": "MygCIarB6USw"
      },
      "source": [
        "Подключаем все необходимые зависимости"
      ]
    },
    {
      "cell_type": "code",
      "execution_count": 187,
      "metadata": {
        "id": "FQ0te3zv6lPl"
      },
      "outputs": [],
      "source": [
        "import numpy as np\n",
        "\n",
        "import pandas as pd\n",
        "\n",
        "import matplotlib.pyplot as plt\n",
        "\n",
        "import scipy.stats as stats\n",
        "\n",
        "import seaborn as sns"
      ]
    },
    {
      "cell_type": "markdown",
      "metadata": {
        "id": "qWW4h8pt7Fay"
      },
      "source": [
        "Подгружаем репозиторий для работы с ним"
      ]
    },
    {
      "cell_type": "code",
      "execution_count": 188,
      "metadata": {
        "colab": {
          "base_uri": "https://localhost:8080/"
        },
        "id": "Q3RBAhLf7P_w",
        "outputId": "5af0c46d-f59a-4f95-b417-853ee8cb83de"
      },
      "outputs": [
        {
          "output_type": "stream",
          "name": "stdout",
          "text": [
            "Cloning into 'karnegie_mellon_university_machine_analysis'...\n",
            "remote: Enumerating objects: 36, done.\u001b[K\n",
            "remote: Counting objects: 100% (36/36), done.\u001b[K\n",
            "remote: Compressing objects: 100% (35/35), done.\u001b[K\n",
            "remote: Total 36 (delta 23), reused 0 (delta 0), pack-reused 0 (from 0)\u001b[K\n",
            "Receiving objects: 100% (36/36), 296.26 KiB | 3.41 MiB/s, done.\n",
            "Resolving deltas: 100% (23/23), done.\n"
          ]
        }
      ],
      "source": [
        "!git clone https://github.com/NikitaMarnykh/karnegie_mellon_university_machine_analysis"
      ]
    },
    {
      "cell_type": "markdown",
      "source": [
        "Перейдём в установленный репозиторий"
      ],
      "metadata": {
        "id": "aqey6HCRBvF4"
      }
    },
    {
      "cell_type": "code",
      "source": [
        "%cd karnegie_mellon_university_machine_analysis/"
      ],
      "metadata": {
        "id": "Z6i5dfVFzm_J",
        "colab": {
          "base_uri": "https://localhost:8080/"
        },
        "outputId": "1a745add-8f34-4377-9f4c-60fa3727958e"
      },
      "execution_count": 189,
      "outputs": [
        {
          "output_type": "stream",
          "name": "stdout",
          "text": [
            "/content/karnegie_mellon_university_machine_analysis\n"
          ]
        }
      ]
    },
    {
      "cell_type": "markdown",
      "source": [
        "Сохраним датасет в переменную"
      ],
      "metadata": {
        "id": "EebVZFB4Zvry"
      }
    },
    {
      "cell_type": "code",
      "source": [
        "dtypes = {\n",
        "    'origin': 'category'\n",
        "}\n",
        "\n",
        "dataset = pd.read_csv('auto-mpg-cleaned.csv',\n",
        "                      na_values=['NA', 'N/A', 'null', 'missing', '-', '?', '...'],\n",
        "                      keep_default_na=True,\n",
        "                      na_filter=True,\n",
        "                      dtype=dtypes)"
      ],
      "metadata": {
        "id": "60NGxFFQZ_t7"
      },
      "execution_count": 190,
      "outputs": []
    },
    {
      "cell_type": "markdown",
      "source": [
        "Посмотрим информацию о датасете"
      ],
      "metadata": {
        "id": "FyMCcHJ_aFLU"
      }
    },
    {
      "cell_type": "code",
      "source": [
        "dataset.info()"
      ],
      "metadata": {
        "colab": {
          "base_uri": "https://localhost:8080/"
        },
        "id": "c6s2RnysaFl9",
        "outputId": "f6c3d6a4-bf11-4a51-fb2b-400dde10d666"
      },
      "execution_count": 191,
      "outputs": [
        {
          "output_type": "stream",
          "name": "stdout",
          "text": [
            "<class 'pandas.core.frame.DataFrame'>\n",
            "RangeIndex: 398 entries, 0 to 397\n",
            "Data columns (total 10 columns):\n",
            " #   Column         Non-Null Count  Dtype   \n",
            "---  ------         --------------  -----   \n",
            " 0   mpg            398 non-null    float64 \n",
            " 1   cylinders      398 non-null    int64   \n",
            " 2   displacement   398 non-null    float64 \n",
            " 3   horsepower     398 non-null    float64 \n",
            " 4   weight         398 non-null    int64   \n",
            " 5   acceleration   398 non-null    float64 \n",
            " 6   model year     398 non-null    int64   \n",
            " 7   origin         398 non-null    category\n",
            " 8   origin_Europe  398 non-null    bool    \n",
            " 9   origin_Asia    398 non-null    bool    \n",
            "dtypes: bool(2), category(1), float64(4), int64(3)\n",
            "memory usage: 23.2 KB\n"
          ]
        }
      ]
    },
    {
      "cell_type": "markdown",
      "metadata": {
        "id": "0CaFQKaCDn61"
      },
      "source": [
        "## 7. Неграфический и графический анализ количественных признаков"
      ]
    },
    {
      "cell_type": "markdown",
      "metadata": {
        "id": "9lowZiWgEctT"
      },
      "source": [
        "### 7.1 Признак mpg"
      ]
    },
    {
      "cell_type": "markdown",
      "metadata": {
        "id": "4flZanKkJbz2"
      },
      "source": [
        "Сохраним признак в переменную sign"
      ]
    },
    {
      "cell_type": "code",
      "execution_count": 192,
      "metadata": {
        "id": "yoKOu35OEyQk"
      },
      "outputs": [],
      "source": [
        "sign = 'mpg'"
      ]
    },
    {
      "cell_type": "markdown",
      "metadata": {
        "id": "Q8eet56IJpKH"
      },
      "source": [
        "Рассчитаем минимальное и максимальное значение признака"
      ]
    },
    {
      "cell_type": "code",
      "execution_count": 193,
      "metadata": {
        "id": "bf802O9HJx8d",
        "colab": {
          "base_uri": "https://localhost:8080/"
        },
        "outputId": "bae2eb22-0ea7-45a8-b850-01340a841196"
      },
      "outputs": [
        {
          "output_type": "stream",
          "name": "stdout",
          "text": [
            "Минимум mpg: 9.0\n",
            "Максимум mpg: 46.6\n"
          ]
        }
      ],
      "source": [
        "min_value = dataset[sign].min()\n",
        "max_value =  dataset[sign].max()\n",
        "print(f'Минимум {sign}: {min_value}')\n",
        "print(f'Максимум {sign}: {max_value}')"
      ]
    },
    {
      "cell_type": "markdown",
      "metadata": {
        "id": "wtDsN1G4Lcz_"
      },
      "source": [
        "Рассчитаем среднее значение признака"
      ]
    },
    {
      "cell_type": "code",
      "execution_count": 194,
      "metadata": {
        "id": "s2jwfyflLzH-",
        "colab": {
          "base_uri": "https://localhost:8080/"
        },
        "outputId": "b6f53162-c1c3-426c-fabb-671241010f6f"
      },
      "outputs": [
        {
          "output_type": "stream",
          "name": "stdout",
          "text": [
            "Среднее mpg: 23.514572864321607\n"
          ]
        }
      ],
      "source": [
        "mean_value = dataset[sign].mean()\n",
        "print(f'Среднее {sign}: {mean_value}')"
      ]
    },
    {
      "cell_type": "markdown",
      "metadata": {
        "id": "bpCR8CGFL-lE"
      },
      "source": [
        "Рассчитаем медианный пробег на галлон топлива"
      ]
    },
    {
      "cell_type": "code",
      "execution_count": 195,
      "metadata": {
        "id": "siYj-R57MJfe",
        "colab": {
          "base_uri": "https://localhost:8080/"
        },
        "outputId": "1b5563a6-18ec-44a0-fb61-48ef0f3448f6"
      },
      "outputs": [
        {
          "output_type": "stream",
          "name": "stdout",
          "text": [
            "Медианное mpg: 23.0\n"
          ]
        }
      ],
      "source": [
        "median_value = dataset[sign].median()\n",
        "print(f'Медианное {sign}: {median_value}')"
      ]
    },
    {
      "cell_type": "markdown",
      "metadata": {
        "id": "42bAnikPMoXc"
      },
      "source": [
        "Рассчитаем процентили 10, 25, 50, 75, 90"
      ]
    },
    {
      "cell_type": "code",
      "execution_count": 196,
      "metadata": {
        "id": "JTVCBiuKMydt",
        "colab": {
          "base_uri": "https://localhost:8080/"
        },
        "outputId": "ee108e05-b18e-4581-faa8-53653215ec44"
      },
      "outputs": [
        {
          "output_type": "stream",
          "name": "stdout",
          "text": [
            "10-й процентиль mpg: 14.0\n",
            "25-й процентиль mpg: 17.5\n",
            "50-й процентиль mpg: 23.0\n",
            "75-й процентиль mpg: 29.0\n",
            "90-й процентиль mpg: 34.33\n"
          ]
        }
      ],
      "source": [
        "percentile_10_value = dataset[sign].quantile(0.10)\n",
        "percentile_25_value = dataset[sign].quantile(0.25)\n",
        "percentile_50_value = dataset[sign].quantile(0.50)\n",
        "percentile_75_value = dataset[sign].quantile(0.75)\n",
        "percentile_90_value = dataset[sign].quantile(0.90)\n",
        "print(f'10-й процентиль {sign}: {percentile_10_value}')\n",
        "print(f'25-й процентиль {sign}: {percentile_25_value}')\n",
        "print(f'50-й процентиль {sign}: {percentile_50_value}')\n",
        "print(f'75-й процентиль {sign}: {percentile_75_value}')\n",
        "print(f'90-й процентиль {sign}: {percentile_90_value}')"
      ]
    },
    {
      "cell_type": "markdown",
      "metadata": {
        "id": "hS3E_kgfRnO8"
      },
      "source": [
        "Посмотрим значение описательной статистики"
      ]
    },
    {
      "cell_type": "code",
      "execution_count": 197,
      "metadata": {
        "id": "OrVfw91gRy8l",
        "colab": {
          "base_uri": "https://localhost:8080/",
          "height": 0
        },
        "outputId": "9cd25c38-f46f-43da-b0aa-1a56f48ba0f3"
      },
      "outputs": [
        {
          "output_type": "execute_result",
          "data": {
            "text/plain": [
              "count    398.000000\n",
              "mean      23.514573\n",
              "std        7.815984\n",
              "min        9.000000\n",
              "25%       17.500000\n",
              "50%       23.000000\n",
              "75%       29.000000\n",
              "max       46.600000\n",
              "Name: mpg, dtype: float64"
            ],
            "text/html": [
              "<div>\n",
              "<style scoped>\n",
              "    .dataframe tbody tr th:only-of-type {\n",
              "        vertical-align: middle;\n",
              "    }\n",
              "\n",
              "    .dataframe tbody tr th {\n",
              "        vertical-align: top;\n",
              "    }\n",
              "\n",
              "    .dataframe thead th {\n",
              "        text-align: right;\n",
              "    }\n",
              "</style>\n",
              "<table border=\"1\" class=\"dataframe\">\n",
              "  <thead>\n",
              "    <tr style=\"text-align: right;\">\n",
              "      <th></th>\n",
              "      <th>mpg</th>\n",
              "    </tr>\n",
              "  </thead>\n",
              "  <tbody>\n",
              "    <tr>\n",
              "      <th>count</th>\n",
              "      <td>398.000000</td>\n",
              "    </tr>\n",
              "    <tr>\n",
              "      <th>mean</th>\n",
              "      <td>23.514573</td>\n",
              "    </tr>\n",
              "    <tr>\n",
              "      <th>std</th>\n",
              "      <td>7.815984</td>\n",
              "    </tr>\n",
              "    <tr>\n",
              "      <th>min</th>\n",
              "      <td>9.000000</td>\n",
              "    </tr>\n",
              "    <tr>\n",
              "      <th>25%</th>\n",
              "      <td>17.500000</td>\n",
              "    </tr>\n",
              "    <tr>\n",
              "      <th>50%</th>\n",
              "      <td>23.000000</td>\n",
              "    </tr>\n",
              "    <tr>\n",
              "      <th>75%</th>\n",
              "      <td>29.000000</td>\n",
              "    </tr>\n",
              "    <tr>\n",
              "      <th>max</th>\n",
              "      <td>46.600000</td>\n",
              "    </tr>\n",
              "  </tbody>\n",
              "</table>\n",
              "</div><br><label><b>dtype:</b> float64</label>"
            ]
          },
          "metadata": {},
          "execution_count": 197
        }
      ],
      "source": [
        "dataset[sign].describe()"
      ]
    },
    {
      "cell_type": "markdown",
      "source": [
        "Построим диаграмму \"ящик с усами\" для признака"
      ],
      "metadata": {
        "id": "FaMxEXfveEXL"
      }
    },
    {
      "cell_type": "code",
      "source": [
        "plt.boxplot(dataset[sign], tick_labels=[sign])\n",
        "plt.title(f'Распределение {sign}')\n",
        "plt.show()"
      ],
      "metadata": {
        "colab": {
          "base_uri": "https://localhost:8080/",
          "height": 0
        },
        "id": "r84_uO4ceEzi",
        "outputId": "08859c2a-11f8-4c28-fcdd-df6f686b8850"
      },
      "execution_count": 198,
      "outputs": [
        {
          "output_type": "display_data",
          "data": {
            "text/plain": [
              "<Figure size 640x480 with 1 Axes>"
            ],
            "image/png": "[encoded data removed]"
          },
          "metadata": {}
        }
      ]
    },
    {
      "cell_type": "markdown",
      "source": [
        "Построим гисторграмму для признака по формуле Стёрджеса"
      ],
      "metadata": {
        "id": "ZnvTnLCLeulj"
      }
    },
    {
      "cell_type": "code",
      "source": [
        "plt.hist(dataset[sign], bins='sturges', alpha=0.5, label=f'{sign}')\n",
        "plt.title(f'Распределение {sign}')\n",
        "plt.xlabel(f'{sign}')\n",
        "plt.ylabel('Количество наблюдений')\n",
        "plt.legend()\n",
        "plt.grid(True, linestyle='--', alpha=0.7)\n",
        "plt.show()"
      ],
      "metadata": {
        "colab": {
          "base_uri": "https://localhost:8080/",
          "height": 0
        },
        "id": "sanDZ5hlevD-",
        "outputId": "d8a6b8ad-ac4d-407e-8023-16ef87fe4db9"
      },
      "execution_count": 199,
      "outputs": [
        {
          "output_type": "display_data",
          "data": {
            "text/plain": [
              "<Figure size 640x480 with 1 Axes>"
            ],
            "image/png": "[encoded data removed]"
          },
          "metadata": {}
        }
      ]
    },
    {
      "cell_type": "markdown",
      "source": [
        "Посмотрим на коэффициент асимметрии"
      ],
      "metadata": {
        "id": "mA_tpKmGfUSH"
      }
    },
    {
      "cell_type": "code",
      "source": [
        "print(f\"Коэффициент асимметрии {sign}: {stats.skew(dataset[sign])}\")"
      ],
      "metadata": {
        "colab": {
          "base_uri": "https://localhost:8080/"
        },
        "id": "46SSgJ9ffUry",
        "outputId": "acf7eb4c-ecd4-4eb9-dc3e-f393edef01df"
      },
      "execution_count": 200,
      "outputs": [
        {
          "output_type": "stream",
          "name": "stdout",
          "text": [
            "Коэффициент асимметрии mpg: 0.45534192556309266\n"
          ]
        }
      ]
    },
    {
      "cell_type": "markdown",
      "source": [
        "Посмотрим на коэффициент эксцесса"
      ],
      "metadata": {
        "id": "6Ah-lC5afZV7"
      }
    },
    {
      "cell_type": "code",
      "source": [
        "print(f\"Коэффициент эксцесса {sign}: {stats.kurtosis(dataset[sign])}\")"
      ],
      "metadata": {
        "colab": {
          "base_uri": "https://localhost:8080/"
        },
        "id": "xIaWXKW-fZ0c",
        "outputId": "ca29b6f2-5a13-4e41-f835-8de8fefd26ec"
      },
      "execution_count": 201,
      "outputs": [
        {
          "output_type": "stream",
          "name": "stdout",
          "text": [
            "Коэффициент эксцесса mpg: -0.5194245405990441\n"
          ]
        }
      ]
    },
    {
      "cell_type": "markdown",
      "metadata": {
        "id": "ta1Ah4CmYDrj"
      },
      "source": [
        "Выводы по анализу признака:\n",
        "  * **О размахе значений**:\n",
        "\n",
        "    * Минимальное значение признака составляет **9.0**.\n",
        "\n",
        "    * Максимальное значение признака составляет **46.6**.\n",
        "\n",
        "    * Таким образом, размах значений признака довольно велик, что указывает на значительную вариативность данных.\n",
        "\n",
        "  * **О нулевых и пропущенных значениях**:\n",
        "\n",
        "    * Нулевые и пропущенные значения отсутствуют. Специальная предобработка в данном аспекте не требуется.\n",
        "\n",
        "  * **О средних величинах и распределении**:\n",
        "\n",
        "    * Среднее значение признака составляет **23.51**.\n",
        "\n",
        "    * Медианное значение признака составляет **23.0**.\n",
        "\n",
        "    * Среднее и медиана находятся близко друг к другу, что может свидетельствовать об относительно симметричном распределении. Однако положительный коэффициент асимметрии (**0.46**) указывает на наличие **правосторонней асимметрии**. Это означает, что хвост распределения вытянут вправо, в сторону бóльших значений.\n",
        "\n",
        "  * **О процентилях**:\n",
        "\n",
        "    * **10%** наблюдений имеют значение признака не более **14.0**.\n",
        "\n",
        "    * **25%** наблюдений имеют значение признака не более **17.5** (нижний квантиль).\n",
        "\n",
        "    * **50%** наблюдений имеют значение признака не более **23.0** (медиана).\n",
        "\n",
        "    * **75%** наблюдений имеют значение признака не более **29.0** (верхний квантиль).\n",
        "\n",
        "    * **90%** наблюдений имеют значение признака не более **34.33**.\n",
        "\n",
        "  * **О результатах графического и статистического анализа**:\n",
        "\n",
        "    * **Гистограмма и \"Ящик с усами\"**: Распределение признака является **унимодальным**. На ящике с усами видно, что межквартильный размах (IQR) расположен симметрично относительно медианы, однако наличие выбросов в правой части графика (соответствующих аномально высоким значениям) подтверждает вывод о правосторонней асимметрии.\n",
        "\n",
        "    * **Выбросы**: Присутствует незначительное количество выбросов, расположенных выше верхней усы графика. Решение об их исключении должно приниматься на основе предметной области, так как они могут быть как ошибками измерения, так и реальными редкими случаями.\n",
        "\n",
        "    * **Эксцесс**: Отрицательное значение коэффициента эксцесса (**-0.52**) указывает на то, что распределение является более пологим (платикуртическим) по сравнению с нормальным распределением, и имеет более легкие хвосты.\n",
        "\n"
      ]
    },
    {
      "cell_type": "markdown",
      "metadata": {
        "id": "4LDEv3ZQlUOO"
      },
      "source": [
        "### 7.2 Признак cylinders"
      ]
    },
    {
      "cell_type": "markdown",
      "metadata": {
        "id": "w1kxnOQZlUOP"
      },
      "source": [
        "Сохраним признак в переменную sign"
      ]
    },
    {
      "cell_type": "code",
      "execution_count": 202,
      "metadata": {
        "id": "FDT213-zlUOP"
      },
      "outputs": [],
      "source": [
        "sign = 'cylinders'"
      ]
    },
    {
      "cell_type": "markdown",
      "metadata": {
        "id": "bB0RNDyTlUOQ"
      },
      "source": [
        "Рассчитаем минимальное и максимальное значение признака"
      ]
    },
    {
      "cell_type": "code",
      "execution_count": 203,
      "metadata": {
        "colab": {
          "base_uri": "https://localhost:8080/"
        },
        "outputId": "3a9bcc14-9a61-4850-eb70-4a4a528eb941",
        "id": "ouCPKSgclUOQ"
      },
      "outputs": [
        {
          "output_type": "stream",
          "name": "stdout",
          "text": [
            "Минимум cylinders: 3\n",
            "Максимум cylinders: 8\n"
          ]
        }
      ],
      "source": [
        "min_value = dataset[sign].min()\n",
        "max_value =  dataset[sign].max()\n",
        "print(f'Минимум {sign}: {min_value}')\n",
        "print(f'Максимум {sign}: {max_value}')"
      ]
    },
    {
      "cell_type": "markdown",
      "metadata": {
        "id": "88Bz2V3hlUOS"
      },
      "source": [
        "Рассчитаем среднее значение признака"
      ]
    },
    {
      "cell_type": "code",
      "execution_count": 204,
      "metadata": {
        "colab": {
          "base_uri": "https://localhost:8080/"
        },
        "outputId": "b34c8b69-4d7d-4256-ffe1-a4098a6f7b5f",
        "id": "6WYIcVbSlUOS"
      },
      "outputs": [
        {
          "output_type": "stream",
          "name": "stdout",
          "text": [
            "Среднее cylinders: 5.454773869346734\n"
          ]
        }
      ],
      "source": [
        "mean_value = dataset[sign].mean()\n",
        "print(f'Среднее {sign}: {mean_value}')"
      ]
    },
    {
      "cell_type": "markdown",
      "metadata": {
        "id": "pNU8XRa-lUOT"
      },
      "source": [
        "Рассчитаем медианный пробег на галлон топлива"
      ]
    },
    {
      "cell_type": "code",
      "execution_count": 205,
      "metadata": {
        "colab": {
          "base_uri": "https://localhost:8080/"
        },
        "outputId": "f2797253-e050-4bf0-8536-e15cce04b2e6",
        "id": "67wkFz0UlUOT"
      },
      "outputs": [
        {
          "output_type": "stream",
          "name": "stdout",
          "text": [
            "Медианное cylinders: 4.0\n"
          ]
        }
      ],
      "source": [
        "median_value = dataset[sign].median()\n",
        "print(f'Медианное {sign}: {median_value}')"
      ]
    },
    {
      "cell_type": "markdown",
      "metadata": {
        "id": "k3ve2-ChlUOU"
      },
      "source": [
        "Рассчитаем процентили 10, 25, 50, 75, 90"
      ]
    },
    {
      "cell_type": "code",
      "execution_count": 206,
      "metadata": {
        "colab": {
          "base_uri": "https://localhost:8080/"
        },
        "outputId": "2509eae2-af10-4cef-bae9-06683cd15101",
        "id": "HZLs4FpAlUOU"
      },
      "outputs": [
        {
          "output_type": "stream",
          "name": "stdout",
          "text": [
            "10-й процентиль cylinders: 4.0\n",
            "25-й процентиль cylinders: 4.0\n",
            "50-й процентиль cylinders: 4.0\n",
            "75-й процентиль cylinders: 8.0\n",
            "90-й процентиль cylinders: 8.0\n"
          ]
        }
      ],
      "source": [
        "percentile_10_value = dataset[sign].quantile(0.10)\n",
        "percentile_25_value = dataset[sign].quantile(0.25)\n",
        "percentile_50_value = dataset[sign].quantile(0.50)\n",
        "percentile_75_value = dataset[sign].quantile(0.75)\n",
        "percentile_90_value = dataset[sign].quantile(0.90)\n",
        "print(f'10-й процентиль {sign}: {percentile_10_value}')\n",
        "print(f'25-й процентиль {sign}: {percentile_25_value}')\n",
        "print(f'50-й процентиль {sign}: {percentile_50_value}')\n",
        "print(f'75-й процентиль {sign}: {percentile_75_value}')\n",
        "print(f'90-й процентиль {sign}: {percentile_90_value}')"
      ]
    },
    {
      "cell_type": "markdown",
      "metadata": {
        "id": "0U6telp5lUOV"
      },
      "source": [
        "Посмотрим значение описательной статистики"
      ]
    },
    {
      "cell_type": "code",
      "execution_count": 207,
      "metadata": {
        "colab": {
          "base_uri": "https://localhost:8080/",
          "height": 0
        },
        "outputId": "8cd9e60b-d780-477a-b2c8-a4274352cc3e",
        "id": "cd5DnEoYlUOV"
      },
      "outputs": [
        {
          "output_type": "execute_result",
          "data": {
            "text/plain": [
              "count    398.000000\n",
              "mean       5.454774\n",
              "std        1.701004\n",
              "min        3.000000\n",
              "25%        4.000000\n",
              "50%        4.000000\n",
              "75%        8.000000\n",
              "max        8.000000\n",
              "Name: cylinders, dtype: float64"
            ],
            "text/html": [
              "<div>\n",
              "<style scoped>\n",
              "    .dataframe tbody tr th:only-of-type {\n",
              "        vertical-align: middle;\n",
              "    }\n",
              "\n",
              "    .dataframe tbody tr th {\n",
              "        vertical-align: top;\n",
              "    }\n",
              "\n",
              "    .dataframe thead th {\n",
              "        text-align: right;\n",
              "    }\n",
              "</style>\n",
              "<table border=\"1\" class=\"dataframe\">\n",
              "  <thead>\n",
              "    <tr style=\"text-align: right;\">\n",
              "      <th></th>\n",
              "      <th>cylinders</th>\n",
              "    </tr>\n",
              "  </thead>\n",
              "  <tbody>\n",
              "    <tr>\n",
              "      <th>count</th>\n",
              "      <td>398.000000</td>\n",
              "    </tr>\n",
              "    <tr>\n",
              "      <th>mean</th>\n",
              "      <td>5.454774</td>\n",
              "    </tr>\n",
              "    <tr>\n",
              "      <th>std</th>\n",
              "      <td>1.701004</td>\n",
              "    </tr>\n",
              "    <tr>\n",
              "      <th>min</th>\n",
              "      <td>3.000000</td>\n",
              "    </tr>\n",
              "    <tr>\n",
              "      <th>25%</th>\n",
              "      <td>4.000000</td>\n",
              "    </tr>\n",
              "    <tr>\n",
              "      <th>50%</th>\n",
              "      <td>4.000000</td>\n",
              "    </tr>\n",
              "    <tr>\n",
              "      <th>75%</th>\n",
              "      <td>8.000000</td>\n",
              "    </tr>\n",
              "    <tr>\n",
              "      <th>max</th>\n",
              "      <td>8.000000</td>\n",
              "    </tr>\n",
              "  </tbody>\n",
              "</table>\n",
              "</div><br><label><b>dtype:</b> float64</label>"
            ]
          },
          "metadata": {},
          "execution_count": 207
        }
      ],
      "source": [
        "dataset[sign].describe()"
      ]
    },
    {
      "cell_type": "markdown",
      "source": [
        "Построим диаграмму \"ящик с усами\" для признака"
      ],
      "metadata": {
        "id": "4StE0QtolUOW"
      }
    },
    {
      "cell_type": "code",
      "source": [
        "plt.boxplot(dataset[sign], tick_labels=[sign])\n",
        "plt.title(f'Распределение {sign}')\n",
        "plt.show()"
      ],
      "metadata": {
        "colab": {
          "base_uri": "https://localhost:8080/",
          "height": 0
        },
        "outputId": "e750b22d-b26e-44e2-b8b1-be3fb6ada6b5",
        "id": "EcGrEyQilUOW"
      },
      "execution_count": 208,
      "outputs": [
        {
          "output_type": "display_data",
          "data": {
            "text/plain": [
              "<Figure size 640x480 with 1 Axes>"
            ],
            "image/png": "[encoded data removed]"
          },
          "metadata": {}
        }
      ]
    },
    {
      "cell_type": "markdown",
      "source": [
        "Построим гисторграмму для признака по формуле Стёрджеса"
      ],
      "metadata": {
        "id": "TUQlV4qZlUOX"
      }
    },
    {
      "cell_type": "code",
      "source": [
        "plt.hist(dataset[sign], bins='sturges', alpha=0.5, label=f'{sign}')\n",
        "plt.title(f'Распределение {sign}')\n",
        "plt.xlabel(f'{sign}')\n",
        "plt.ylabel('Количество наблюдений.')\n",
        "plt.legend()\n",
        "plt.grid(True, linestyle='--', alpha=0.7)\n",
        "plt.show()"
      ],
      "metadata": {
        "colab": {
          "base_uri": "https://localhost:8080/",
          "height": 0
        },
        "outputId": "c647110e-f0fb-491e-a3e2-331331cded76",
        "id": "078yLAXKlUOX"
      },
      "execution_count": 209,
      "outputs": [
        {
          "output_type": "display_data",
          "data": {
            "text/plain": [
              "<Figure size 640x480 with 1 Axes>"
            ],
            "image/png": "[encoded data removed]"
          },
          "metadata": {}
        }
      ]
    },
    {
      "cell_type": "markdown",
      "source": [
        "Посмотрим на коэффициент асимметрии"
      ],
      "metadata": {
        "id": "Y3LM5DTNlUOY"
      }
    },
    {
      "cell_type": "code",
      "source": [
        "print(f\"Коэффициент асимметрии {sign}: {stats.skew(dataset[sign])}\")"
      ],
      "metadata": {
        "colab": {
          "base_uri": "https://localhost:8080/"
        },
        "outputId": "8ec0f7f0-b860-411f-e87a-b92d7e52045c",
        "id": "eJ4q70YilUOY"
      },
      "execution_count": 210,
      "outputs": [
        {
          "output_type": "stream",
          "name": "stdout",
          "text": [
            "Коэффициент асимметрии cylinders: 0.5249335774421718\n"
          ]
        }
      ]
    },
    {
      "cell_type": "markdown",
      "source": [
        "Посмотрим на коэффициент эксцесса"
      ],
      "metadata": {
        "id": "V6UGOi2YlUOZ"
      }
    },
    {
      "cell_type": "code",
      "source": [
        "print(f\"Коэффициент эксцесса {sign}: {stats.kurtosis(dataset[sign])}\")"
      ],
      "metadata": {
        "colab": {
          "base_uri": "https://localhost:8080/"
        },
        "outputId": "b1092c99-3975-47ac-fd45-98fa5d171953",
        "id": "B0olY7aOlUOZ"
      },
      "execution_count": 211,
      "outputs": [
        {
          "output_type": "stream",
          "name": "stdout",
          "text": [
            "Коэффициент эксцесса cylinders: -1.3744657460935465\n"
          ]
        }
      ]
    },
    {
      "cell_type": "markdown",
      "metadata": {
        "id": "DJKMYFqYlUOa"
      },
      "source": [
        "Выводы по анализу признака:\n",
        "  * **О размахе значений**:\n",
        "\n",
        "    * Минимальное значение признака составляет **3**.\n",
        "\n",
        "    * Максимальное значение признака составляет **8**.\n",
        "\n",
        "    * Таким образом, признак является дискретным и принимает ограниченный набор целочисленных значений.\n",
        "\n",
        "\n",
        "  * **О нулевых и пропущенных значениях**:\n",
        "\n",
        "    * Нулевые и пропущенные значения отсутствуют. Специальная предобработка в данном аспекте не требуется.\n",
        "\n",
        "  * **О средних величинах и распределении**:\n",
        "\n",
        "    * Среднее значение признака составляет **5.45**.\n",
        "\n",
        "    * Медианное значение признака составляет **4.0**.\n",
        "\n",
        "    * Среднее значение существенно превышает медиану, что является явным индикатором сильной правосторонней асимметрии. Это подтверждается положительным коэффициентом асимметрии (**0.52**). Распределение сконцентрировано на меньших значениях, с редкими, но высокими значениями, которые \"тянут\" среднее вверх.\n",
        "\n",
        "  * **О процентилях**:\n",
        "\n",
        "    * **10%** наблюдений имеют значение признака не более **4.0**.\n",
        "\n",
        "    * **25%** наблюдений имеют значение признака не более **4.0** (нижний квантиль).\n",
        "\n",
        "    * **50%** наблюдений имеют значение признака не более **4.0** (медиана).\n",
        "\n",
        "    * **75%** наблюдений имеют значение признака не более **8.0** (верхний квантиль).\n",
        "\n",
        "    * **90%** наблюдений имеют значение признака не более **8.0**.\n",
        "\n",
        "    * Анализ процентилей ярко демонстрирует **бимодальность** распределения: большинство наблюдений (около **50%**) сосредоточены вокруг значения 4, а следующая крупная группа — вокруг значения 8.\n",
        "\n",
        "  * **О результатах графического и статистического анализа**:\n",
        "\n",
        "    * **Гистограмма и \"Ящик с усами\"**: Распределение признака является **бимодальным**, с явными пиками на значениях 4 и 8. На ящике с усами видно, что медиана находится на нижней границе ящика, а сам ящик очень короткий, что указывает на высокую концентрацию данных в точке 4. Значение 8 формирует вторую плотную группу.\n",
        "\n",
        "    * **Выбросы**: Значения 3, 5 могут рассматриваться как выбросы на фоне доминирующих групп с 4, 6 и 8. Однако, учитывая природу признака (дискретный), их исключение нецелесообразно (возможно более практично объеденить их в одну группу);\n",
        "\n",
        "    * **Эксцесс**: Сильно отрицательное значение коэффициента эксцесса (**-1.37**) указывает на то, что распределение является значительно более пологим (платикуртическим) по сравнению с нормальным распределением. Это логично для бимодального распределения, где данные сконцентрированы в двух отдельных кластерах, а не вокруг одного центра.\n",
        "\n"
      ]
    },
    {
      "cell_type": "markdown",
      "metadata": {
        "id": "TQDwgwFIQb_d"
      },
      "source": [
        "### 7.3 Признак displacement"
      ]
    },
    {
      "cell_type": "markdown",
      "metadata": {
        "id": "c75IkB2ZQb_d"
      },
      "source": [
        "Сохраним признак в переменную sign"
      ]
    },
    {
      "cell_type": "code",
      "execution_count": 212,
      "metadata": {
        "id": "5cOXqDYBQb_d"
      },
      "outputs": [],
      "source": [
        "sign = 'displacement'"
      ]
    },
    {
      "cell_type": "markdown",
      "metadata": {
        "id": "mJPa5LzHQb_d"
      },
      "source": [
        "Рассчитаем минимальное и максимальное значение признака"
      ]
    },
    {
      "cell_type": "code",
      "execution_count": 213,
      "metadata": {
        "colab": {
          "base_uri": "https://localhost:8080/"
        },
        "outputId": "82020ace-2234-417f-d008-ce21f41cf536",
        "id": "SEAkcF4vQb_e"
      },
      "outputs": [
        {
          "output_type": "stream",
          "name": "stdout",
          "text": [
            "Минимум displacement: 68.0\n",
            "Максимум displacement: 455.0\n"
          ]
        }
      ],
      "source": [
        "min_value = dataset[sign].min()\n",
        "max_value =  dataset[sign].max()\n",
        "print(f'Минимум {sign}: {min_value}')\n",
        "print(f'Максимум {sign}: {max_value}')"
      ]
    },
    {
      "cell_type": "markdown",
      "metadata": {
        "id": "WJXSs1X1Qb_e"
      },
      "source": [
        "Рассчитаем среднее значение признака"
      ]
    },
    {
      "cell_type": "code",
      "execution_count": 214,
      "metadata": {
        "colab": {
          "base_uri": "https://localhost:8080/"
        },
        "outputId": "9a0bfe76-4532-49f3-d0ce-065d535ecdb0",
        "id": "OG9hy5xIQb_e"
      },
      "outputs": [
        {
          "output_type": "stream",
          "name": "stdout",
          "text": [
            "Среднее displacement: 193.42587939698493\n"
          ]
        }
      ],
      "source": [
        "mean_value = dataset[sign].mean()\n",
        "print(f'Среднее {sign}: {mean_value}')"
      ]
    },
    {
      "cell_type": "markdown",
      "metadata": {
        "id": "WZ848arCQb_e"
      },
      "source": [
        "Рассчитаем медианный пробег на галлон топлива"
      ]
    },
    {
      "cell_type": "code",
      "execution_count": 215,
      "metadata": {
        "colab": {
          "base_uri": "https://localhost:8080/"
        },
        "outputId": "5d993df0-9303-4158-f382-3e4115f8259e",
        "id": "Cm7UEs_BQb_e"
      },
      "outputs": [
        {
          "output_type": "stream",
          "name": "stdout",
          "text": [
            "Медианное displacement: 148.5\n"
          ]
        }
      ],
      "source": [
        "median_value = dataset[sign].median()\n",
        "print(f'Медианное {sign}: {median_value}')"
      ]
    },
    {
      "cell_type": "markdown",
      "metadata": {
        "id": "CxvrpPIsQb_e"
      },
      "source": [
        "Рассчитаем процентили 10, 25, 50, 75, 90"
      ]
    },
    {
      "cell_type": "code",
      "execution_count": 216,
      "metadata": {
        "colab": {
          "base_uri": "https://localhost:8080/"
        },
        "outputId": "a5c83c9e-7601-4c74-c9ae-aaa5ff801195",
        "id": "MTKjufyVQb_e"
      },
      "outputs": [
        {
          "output_type": "stream",
          "name": "stdout",
          "text": [
            "10-й процентиль displacement: 90.0\n",
            "25-й процентиль displacement: 104.25\n",
            "50-й процентиль displacement: 148.5\n",
            "75-й процентиль displacement: 262.0\n",
            "90-й процентиль displacement: 350.0\n"
          ]
        }
      ],
      "source": [
        "percentile_10_value = dataset[sign].quantile(0.10)\n",
        "percentile_25_value = dataset[sign].quantile(0.25)\n",
        "percentile_50_value = dataset[sign].quantile(0.50)\n",
        "percentile_75_value = dataset[sign].quantile(0.75)\n",
        "percentile_90_value = dataset[sign].quantile(0.90)\n",
        "print(f'10-й процентиль {sign}: {percentile_10_value}')\n",
        "print(f'25-й процентиль {sign}: {percentile_25_value}')\n",
        "print(f'50-й процентиль {sign}: {percentile_50_value}')\n",
        "print(f'75-й процентиль {sign}: {percentile_75_value}')\n",
        "print(f'90-й процентиль {sign}: {percentile_90_value}')"
      ]
    },
    {
      "cell_type": "markdown",
      "metadata": {
        "id": "10Uswu-HQb_f"
      },
      "source": [
        "Посмотрим значение описательной статистики"
      ]
    },
    {
      "cell_type": "code",
      "execution_count": 217,
      "metadata": {
        "colab": {
          "base_uri": "https://localhost:8080/",
          "height": 0
        },
        "outputId": "7cc5ead0-8459-47c7-9eca-8f9209d55c8a",
        "id": "gw_Qe1DgQb_f"
      },
      "outputs": [
        {
          "output_type": "execute_result",
          "data": {
            "text/plain": [
              "count    398.000000\n",
              "mean     193.425879\n",
              "std      104.269838\n",
              "min       68.000000\n",
              "25%      104.250000\n",
              "50%      148.500000\n",
              "75%      262.000000\n",
              "max      455.000000\n",
              "Name: displacement, dtype: float64"
            ],
            "text/html": [
              "<div>\n",
              "<style scoped>\n",
              "    .dataframe tbody tr th:only-of-type {\n",
              "        vertical-align: middle;\n",
              "    }\n",
              "\n",
              "    .dataframe tbody tr th {\n",
              "        vertical-align: top;\n",
              "    }\n",
              "\n",
              "    .dataframe thead th {\n",
              "        text-align: right;\n",
              "    }\n",
              "</style>\n",
              "<table border=\"1\" class=\"dataframe\">\n",
              "  <thead>\n",
              "    <tr style=\"text-align: right;\">\n",
              "      <th></th>\n",
              "      <th>displacement</th>\n",
              "    </tr>\n",
              "  </thead>\n",
              "  <tbody>\n",
              "    <tr>\n",
              "      <th>count</th>\n",
              "      <td>398.000000</td>\n",
              "    </tr>\n",
              "    <tr>\n",
              "      <th>mean</th>\n",
              "      <td>193.425879</td>\n",
              "    </tr>\n",
              "    <tr>\n",
              "      <th>std</th>\n",
              "      <td>104.269838</td>\n",
              "    </tr>\n",
              "    <tr>\n",
              "      <th>min</th>\n",
              "      <td>68.000000</td>\n",
              "    </tr>\n",
              "    <tr>\n",
              "      <th>25%</th>\n",
              "      <td>104.250000</td>\n",
              "    </tr>\n",
              "    <tr>\n",
              "      <th>50%</th>\n",
              "      <td>148.500000</td>\n",
              "    </tr>\n",
              "    <tr>\n",
              "      <th>75%</th>\n",
              "      <td>262.000000</td>\n",
              "    </tr>\n",
              "    <tr>\n",
              "      <th>max</th>\n",
              "      <td>455.000000</td>\n",
              "    </tr>\n",
              "  </tbody>\n",
              "</table>\n",
              "</div><br><label><b>dtype:</b> float64</label>"
            ]
          },
          "metadata": {},
          "execution_count": 217
        }
      ],
      "source": [
        "dataset[sign].describe()"
      ]
    },
    {
      "cell_type": "markdown",
      "source": [
        "Построим диаграмму \"ящик с усами\" для признака"
      ],
      "metadata": {
        "id": "phib2bQ7Qb_f"
      }
    },
    {
      "cell_type": "code",
      "source": [
        "plt.boxplot(dataset[sign], tick_labels=[sign])\n",
        "plt.title(f'Распределение {sign}')\n",
        "plt.show()"
      ],
      "metadata": {
        "colab": {
          "base_uri": "https://localhost:8080/",
          "height": 0
        },
        "outputId": "370092a5-e71a-4aa2-8935-278e1660613e",
        "id": "2hwxZdv8Qb_f"
      },
      "execution_count": 218,
      "outputs": [
        {
          "output_type": "display_data",
          "data": {
            "text/plain": [
              "<Figure size 640x480 with 1 Axes>"
            ],
            "image/png": "[encoded data removed]"
          },
          "metadata": {}
        }
      ]
    },
    {
      "cell_type": "markdown",
      "source": [
        "Построим гисторграмму для признака по формуле Стёрджеса"
      ],
      "metadata": {
        "id": "Do1LfkoDQb_f"
      }
    },
    {
      "cell_type": "code",
      "source": [
        "plt.hist(dataset[sign], bins='sturges', alpha=0.5, label=f'{sign}')\n",
        "plt.title(f'Распределение {sign}')\n",
        "plt.xlabel(f'{sign}')\n",
        "plt.ylabel('Количество наблюдений.')\n",
        "plt.legend()\n",
        "plt.grid(True, linestyle='--', alpha=0.7)\n",
        "plt.show()"
      ],
      "metadata": {
        "colab": {
          "base_uri": "https://localhost:8080/",
          "height": 0
        },
        "outputId": "ada6f9d1-dcca-42ca-fa27-4c92b32c100e",
        "id": "rpeD4ZjXQb_f"
      },
      "execution_count": 219,
      "outputs": [
        {
          "output_type": "display_data",
          "data": {
            "text/plain": [
              "<Figure size 640x480 with 1 Axes>"
            ],
            "image/png": "[encoded data removed]"
          },
          "metadata": {}
        }
      ]
    },
    {
      "cell_type": "markdown",
      "source": [
        "Посмотрим на коэффициент асимметрии"
      ],
      "metadata": {
        "id": "rlACzqz-Qb_f"
      }
    },
    {
      "cell_type": "code",
      "source": [
        "print(f\"Коэффициент асимметрии {sign}: {stats.skew(dataset[sign])}\")"
      ],
      "metadata": {
        "colab": {
          "base_uri": "https://localhost:8080/"
        },
        "outputId": "93cb7082-b139-4843-90b7-b44cc61dea20",
        "id": "9w7P_U3LQb_f"
      },
      "execution_count": 220,
      "outputs": [
        {
          "output_type": "stream",
          "name": "stdout",
          "text": [
            "Коэффициент асимметрии displacement: 0.716930089340474\n"
          ]
        }
      ]
    },
    {
      "cell_type": "markdown",
      "source": [
        "Посмотрим на коэффициент эксцесса"
      ],
      "metadata": {
        "id": "3Sas7r0hQb_g"
      }
    },
    {
      "cell_type": "code",
      "source": [
        "print(f\"Коэффициент эксцесса {sign}: {stats.kurtosis(dataset[sign])}\")"
      ],
      "metadata": {
        "colab": {
          "base_uri": "https://localhost:8080/"
        },
        "outputId": "e933751f-a82b-4e7a-f3f9-bd63c32384a5",
        "id": "rpPQEHxRQb_g"
      },
      "execution_count": 221,
      "outputs": [
        {
          "output_type": "stream",
          "name": "stdout",
          "text": [
            "Коэффициент эксцесса displacement: -0.7522878026396289\n"
          ]
        }
      ]
    },
    {
      "cell_type": "markdown",
      "metadata": {
        "id": "_HSBLa-4Qb_g"
      },
      "source": [
        "Выводы по анализу признака:\n",
        "\n",
        "*   **О размахе значений:**\n",
        "\n",
        "    *   Минимальное значение признака составляет **68.0**.\n",
        "\n",
        "    *   Максимальное значение признака составляет **455.0**.\n",
        "\n",
        "    *   Таким образом, размах значений признака очень велик, что указывает на значительную вариативность данных в выборке.\n",
        "\n",
        "*   **О нулевых и пропущенных значениях:**\n",
        "\n",
        "    *   Нулевые и пропущенные значения отсутствуют. Специальная предобработка в данном аспекте не требуется.\n",
        "\n",
        "*   **О средних величинах и распределении:**\n",
        "\n",
        "    *   Среднее значение признака составляет **193.43**.\n",
        "\n",
        "    *   Медианное значение признака составляет **148.5**.\n",
        "\n",
        "    *   Среднее значение существенно превышает медиану, что является явным индикатором сильной **правосторонней асимметрии**. Это подтверждается положительным коэффициентом асимметрии (**0.72**). Распределение смещено влево, с длинным хвостом в сторону бóльших значений, которые \"тянут\" среднее арифметическое вправо.\n",
        "\n",
        "*   **О процентилях:**\n",
        "\n",
        "    *   **10%** наблюдений имеют значение признака не более **90.0**.\n",
        "\n",
        "    *   **25%** наблюдений имеют значение признака не более **104.25** (нижний квантиль).\n",
        "\n",
        "    *   **50%** наблюдений имеют значение признака не более **148.5** (медиана).\n",
        "\n",
        "    *   **75%** наблюдений имеют значение признака не более **262.0** (верхний квантиль).\n",
        "\n",
        "    *   **90%** наблюдений имеют значение признака не более **350.0**.\n",
        "\n",
        "*   **О результатах графического и статистического анализа:**\n",
        "\n",
        "    *   **Гистограмма и \"Ящик с усами\":** Распределение признака является унимодальным**. На ящике с усами видно, что медиана смещена к нижней границе ящика, а сам ящик вытянут вверх, что визуально подтверждает правостороннюю асимметрию и наличие значений, значительно превышающих верхний квантиль.\n",
        "\n",
        "    *   **Выбросы:** Присутствует значительное количество выбросов, расположенных выше верхней усы графика. Эти выбросы соответствуют автомобилям с очень большим объемом двигателя. Решение об их исключении должно приниматься на основе предметной области, так как они являются реальными, хотя и редкими, случаями.\n",
        "\n",
        "    *   **Эксцесс:** Отрицательное значение коэффициента эксцесса (**-0.75**) указывает на то, что распределение является более пологим (платикуртическим) по сравнению с нормальным распределением, что характерно для распределений с тяжелым хвостом и широким пиком."
      ]
    },
    {
      "cell_type": "markdown",
      "metadata": {
        "id": "s1P_j8fdcRV0"
      },
      "source": [
        "### 7.4 Признак horsepower"
      ]
    },
    {
      "cell_type": "markdown",
      "metadata": {
        "id": "W3kh52uUcRV1"
      },
      "source": [
        "Сохраним признак в переменную sign"
      ]
    },
    {
      "cell_type": "code",
      "execution_count": 222,
      "metadata": {
        "id": "I_fqcupmcRV1"
      },
      "outputs": [],
      "source": [
        "sign = 'horsepower'"
      ]
    },
    {
      "cell_type": "markdown",
      "metadata": {
        "id": "DrhblQLIcRV2"
      },
      "source": [
        "Рассчитаем минимальное и максимальное значение признака"
      ]
    },
    {
      "cell_type": "code",
      "execution_count": 223,
      "metadata": {
        "colab": {
          "base_uri": "https://localhost:8080/"
        },
        "outputId": "831d5874-870f-4716-8791-b1b4d043137e",
        "id": "xFDCDWStcRV2"
      },
      "outputs": [
        {
          "output_type": "stream",
          "name": "stdout",
          "text": [
            "Минимум horsepower: 46.0\n",
            "Максимум horsepower: 230.0\n"
          ]
        }
      ],
      "source": [
        "min_value = dataset[sign].min()\n",
        "max_value =  dataset[sign].max()\n",
        "print(f'Минимум {sign}: {min_value}')\n",
        "print(f'Максимум {sign}: {max_value}')"
      ]
    },
    {
      "cell_type": "markdown",
      "metadata": {
        "id": "5E3vjDBKcRV2"
      },
      "source": [
        "Рассчитаем среднее значение признака"
      ]
    },
    {
      "cell_type": "code",
      "execution_count": 224,
      "metadata": {
        "colab": {
          "base_uri": "https://localhost:8080/"
        },
        "outputId": "2bb52573-983c-4a50-f8ab-34e2e5ca3513",
        "id": "dhECgrqBcRV2"
      },
      "outputs": [
        {
          "output_type": "stream",
          "name": "stdout",
          "text": [
            "Среднее horsepower: 104.33417085427136\n"
          ]
        }
      ],
      "source": [
        "mean_value = dataset[sign].mean()\n",
        "print(f'Среднее {sign}: {mean_value}')"
      ]
    },
    {
      "cell_type": "markdown",
      "metadata": {
        "id": "XLTNfNsBcRV2"
      },
      "source": [
        "Рассчитаем медианный пробег на галлон топлива"
      ]
    },
    {
      "cell_type": "code",
      "execution_count": 225,
      "metadata": {
        "colab": {
          "base_uri": "https://localhost:8080/"
        },
        "outputId": "f72767d1-fd05-4f15-a9f4-38cb11cc49aa",
        "id": "fAzs9DGXcRV2"
      },
      "outputs": [
        {
          "output_type": "stream",
          "name": "stdout",
          "text": [
            "Медианное horsepower: 93.5\n"
          ]
        }
      ],
      "source": [
        "median_value = dataset[sign].median()\n",
        "print(f'Медианное {sign}: {median_value}')"
      ]
    },
    {
      "cell_type": "markdown",
      "metadata": {
        "id": "XW0uQzOFcRV3"
      },
      "source": [
        "Рассчитаем процентили 10, 25, 50, 75, 90"
      ]
    },
    {
      "cell_type": "code",
      "execution_count": 226,
      "metadata": {
        "colab": {
          "base_uri": "https://localhost:8080/"
        },
        "outputId": "233e3c0a-1542-48d1-ba98-af4f23be9e6d",
        "id": "a4r74V2-cRV3"
      },
      "outputs": [
        {
          "output_type": "stream",
          "name": "stdout",
          "text": [
            "10-й процентиль horsepower: 67.0\n",
            "25-й процентиль horsepower: 75.0\n",
            "50-й процентиль horsepower: 93.5\n",
            "75-й процентиль horsepower: 125.0\n",
            "90-й процентиль horsepower: 155.90000000000003\n"
          ]
        }
      ],
      "source": [
        "percentile_10_value = dataset[sign].quantile(0.10)\n",
        "percentile_25_value = dataset[sign].quantile(0.25)\n",
        "percentile_50_value = dataset[sign].quantile(0.50)\n",
        "percentile_75_value = dataset[sign].quantile(0.75)\n",
        "percentile_90_value = dataset[sign].quantile(0.90)\n",
        "print(f'10-й процентиль {sign}: {percentile_10_value}')\n",
        "print(f'25-й процентиль {sign}: {percentile_25_value}')\n",
        "print(f'50-й процентиль {sign}: {percentile_50_value}')\n",
        "print(f'75-й процентиль {sign}: {percentile_75_value}')\n",
        "print(f'90-й процентиль {sign}: {percentile_90_value}')"
      ]
    },
    {
      "cell_type": "markdown",
      "metadata": {
        "id": "h9j3S3xucRV3"
      },
      "source": [
        "Посмотрим значение описательной статистики"
      ]
    },
    {
      "cell_type": "code",
      "execution_count": 227,
      "metadata": {
        "colab": {
          "base_uri": "https://localhost:8080/",
          "height": 0
        },
        "outputId": "ac5a75d4-30f0-4460-aaa4-c2238f34630b",
        "id": "xTI-hHyJcRV3"
      },
      "outputs": [
        {
          "output_type": "execute_result",
          "data": {
            "text/plain": [
              "count    398.000000\n",
              "mean     104.334171\n",
              "std       38.377764\n",
              "min       46.000000\n",
              "25%       75.000000\n",
              "50%       93.500000\n",
              "75%      125.000000\n",
              "max      230.000000\n",
              "Name: horsepower, dtype: float64"
            ],
            "text/html": [
              "<div>\n",
              "<style scoped>\n",
              "    .dataframe tbody tr th:only-of-type {\n",
              "        vertical-align: middle;\n",
              "    }\n",
              "\n",
              "    .dataframe tbody tr th {\n",
              "        vertical-align: top;\n",
              "    }\n",
              "\n",
              "    .dataframe thead th {\n",
              "        text-align: right;\n",
              "    }\n",
              "</style>\n",
              "<table border=\"1\" class=\"dataframe\">\n",
              "  <thead>\n",
              "    <tr style=\"text-align: right;\">\n",
              "      <th></th>\n",
              "      <th>horsepower</th>\n",
              "    </tr>\n",
              "  </thead>\n",
              "  <tbody>\n",
              "    <tr>\n",
              "      <th>count</th>\n",
              "      <td>398.000000</td>\n",
              "    </tr>\n",
              "    <tr>\n",
              "      <th>mean</th>\n",
              "      <td>104.334171</td>\n",
              "    </tr>\n",
              "    <tr>\n",
              "      <th>std</th>\n",
              "      <td>38.377764</td>\n",
              "    </tr>\n",
              "    <tr>\n",
              "      <th>min</th>\n",
              "      <td>46.000000</td>\n",
              "    </tr>\n",
              "    <tr>\n",
              "      <th>25%</th>\n",
              "      <td>75.000000</td>\n",
              "    </tr>\n",
              "    <tr>\n",
              "      <th>50%</th>\n",
              "      <td>93.500000</td>\n",
              "    </tr>\n",
              "    <tr>\n",
              "      <th>75%</th>\n",
              "      <td>125.000000</td>\n",
              "    </tr>\n",
              "    <tr>\n",
              "      <th>max</th>\n",
              "      <td>230.000000</td>\n",
              "    </tr>\n",
              "  </tbody>\n",
              "</table>\n",
              "</div><br><label><b>dtype:</b> float64</label>"
            ]
          },
          "metadata": {},
          "execution_count": 227
        }
      ],
      "source": [
        "dataset[sign].describe()"
      ]
    },
    {
      "cell_type": "markdown",
      "source": [
        "Построим диаграмму \"ящик с усами\" для признака"
      ],
      "metadata": {
        "id": "kFV_iqeucRV3"
      }
    },
    {
      "cell_type": "code",
      "source": [
        "plt.boxplot(dataset[sign], tick_labels=[sign])\n",
        "plt.title(f'Распределение {sign}')\n",
        "plt.show()"
      ],
      "metadata": {
        "colab": {
          "base_uri": "https://localhost:8080/",
          "height": 0
        },
        "outputId": "5133be84-de60-43a8-bb3c-e190b486c423",
        "id": "xjW1HB1lcRV3"
      },
      "execution_count": 228,
      "outputs": [
        {
          "output_type": "display_data",
          "data": {
            "text/plain": [
              "<Figure size 640x480 with 1 Axes>"
            ],
            "image/png": "[encoded data removed]"
          },
          "metadata": {}
        }
      ]
    },
    {
      "cell_type": "markdown",
      "source": [
        "Построим гисторграмму для признака по формуле Стёрджеса"
      ],
      "metadata": {
        "id": "MvFq5iT-cRV4"
      }
    },
    {
      "cell_type": "code",
      "source": [
        "plt.hist(dataset[sign], bins='sturges', alpha=0.5, label=f'{sign}')\n",
        "plt.title(f'Распределение {sign}')\n",
        "plt.xlabel(f'{sign}')\n",
        "plt.ylabel('Количество наблюдений.')\n",
        "plt.legend()\n",
        "plt.grid(True, linestyle='--', alpha=0.7)\n",
        "plt.show()"
      ],
      "metadata": {
        "colab": {
          "base_uri": "https://localhost:8080/",
          "height": 0
        },
        "outputId": "4a01811c-d418-4988-82f7-b1ddfa554c36",
        "id": "xf9cDM6EcRV4"
      },
      "execution_count": 229,
      "outputs": [
        {
          "output_type": "display_data",
          "data": {
            "text/plain": [
              "<Figure size 640x480 with 1 Axes>"
            ],
            "image/png": "[encoded data removed]"
          },
          "metadata": {}
        }
      ]
    },
    {
      "cell_type": "markdown",
      "source": [
        "Посмотрим на коэффициент асимметрии"
      ],
      "metadata": {
        "id": "bdb1EUJGcRV4"
      }
    },
    {
      "cell_type": "code",
      "source": [
        "print(f\"Коэффициент асимметрии {sign}: {stats.skew(dataset[sign])}\")"
      ],
      "metadata": {
        "colab": {
          "base_uri": "https://localhost:8080/"
        },
        "outputId": "a7b52727-51d4-4976-aa65-9714d110a55d",
        "id": "ysxLZnKOcRV4"
      },
      "execution_count": 230,
      "outputs": [
        {
          "output_type": "stream",
          "name": "stdout",
          "text": [
            "Коэффициент асимметрии horsepower: 1.0798133332033086\n"
          ]
        }
      ]
    },
    {
      "cell_type": "markdown",
      "source": [
        "Посмотрим на коэффициент эксцесса"
      ],
      "metadata": {
        "id": "a-Eva3aCcRV4"
      }
    },
    {
      "cell_type": "code",
      "source": [
        "print(f\"Коэффициент эксцесса {sign}: {stats.kurtosis(dataset[sign])}\")"
      ],
      "metadata": {
        "colab": {
          "base_uri": "https://localhost:8080/"
        },
        "outputId": "a0f374fc-80a2-4a27-91c7-1288271eede9",
        "id": "5u80AW0VcRV4"
      },
      "execution_count": 231,
      "outputs": [
        {
          "output_type": "stream",
          "name": "stdout",
          "text": [
            "Коэффициент эксцесса horsepower: 0.6870469989400299\n"
          ]
        }
      ]
    },
    {
      "cell_type": "markdown",
      "metadata": {
        "id": "gVE8nveucRV5"
      },
      "source": [
        "Выводы по анализу признака:\n",
        "\n",
        "*   **О размахе значений:**\n",
        "\n",
        "    *   Минимальное значение признака составляет **46.0**.\n",
        "\n",
        "    *   Максимальное значение признака составляет **230.0**.\n",
        "\n",
        "    *   Таким образом, размах значений признака очень велик, что указывает на значительную вариативность данных в выборке.\n",
        "\n",
        "*   **О нулевых и пропущенных значениях:**\n",
        "\n",
        "    *   Нулевые и пропущенные значения отсутствуют. Специальная предобработка в данном аспекте не требуется.\n",
        "\n",
        "*   **О средних величинах и распределении:**\n",
        "\n",
        "    *   Среднее значение признака составляет **104.33**.\n",
        "\n",
        "    *   Медианное значение признака составляет **93.5**.\n",
        "\n",
        "    *   Среднее значение существенно превышает медиану, что является явным индикатором сильной **правосторонней асимметрии**. Это подтверждается высоким положительным коэффициентом асимметрии (**1.08**). Распределение сильно смещено влево, с длинным хвостом в сторону бóльших значений, которые \"тянут\" среднее арифметическое вправо.\n",
        "\n",
        "*   **О процентилях:**\n",
        "\n",
        "    *   **10%** наблюдений имеют значение признака не более **67.0**.\n",
        "\n",
        "    *   **25%** наблюдений имеют значение признака не более **75.0** (нижний квантиль).\n",
        "\n",
        "    *   **50%** наблюдений имеют значение признака не более **93.5** (медиана).\n",
        "\n",
        "    *   **75%** наблюдений имеют значение признака не более **125.0** (верхний квантиль).\n",
        "\n",
        "    *   **90%** наблюдений имеют значение признака не более **155.9**.\n",
        "\n",
        "*   **О результатах графического и статистического анализа:**\n",
        "\n",
        "    *   **Гистограмма и \"Ящик с усами\":** Распределение признака является **унимодальным**. На ящике с усами видно, что медиана расположена близко к нижней границе ящика, а сам ящик значительно вытянут вверх, что визуально подтверждает сильную правостороннюю асимметрию и наличие многочисленных значений, значительно превышающих верхний квантиль.\n",
        "\n",
        "    *   **Выбросы:** Присутствует значительное количество выбросов, расположенных выше верхней усы графика. Эти выбросы соответствуют автомобилям с очень высокой мощностью двигателя. Решение об их исключении должно приниматься на основе предметной области, так как они являются реальными, хотя и редкими, случаями.\n",
        "\n",
        "    *   **Эксцесс:** Положительное значение коэффициента эксцесса (**0.69**) указывает на то, что распределение является более островершинным (лептокуртическим) по сравнению с нормальным распределением и имеет более тяжелые хвосты, что согласуется с наличием выраженной асимметрии и выбросов."
      ]
    },
    {
      "cell_type": "markdown",
      "metadata": {
        "id": "nNKu_3ybh6fr"
      },
      "source": [
        "### 7.5 Признак weight"
      ]
    },
    {
      "cell_type": "markdown",
      "metadata": {
        "id": "U2vugqwGh6fr"
      },
      "source": [
        "Сохраним признак в переменную sign"
      ]
    },
    {
      "cell_type": "code",
      "execution_count": 232,
      "metadata": {
        "id": "DcH5IEfbh6fr"
      },
      "outputs": [],
      "source": [
        "sign = 'weight'"
      ]
    },
    {
      "cell_type": "markdown",
      "metadata": {
        "id": "IjYwCd-Wh6fs"
      },
      "source": [
        "Рассчитаем минимальное и максимальное значение признака"
      ]
    },
    {
      "cell_type": "code",
      "execution_count": 233,
      "metadata": {
        "colab": {
          "base_uri": "https://localhost:8080/"
        },
        "outputId": "2aa7a62e-696b-4439-af61-4e70456d0bca",
        "id": "UC_mJn8Ih6fs"
      },
      "outputs": [
        {
          "output_type": "stream",
          "name": "stdout",
          "text": [
            "Минимум weight: 1613\n",
            "Максимум weight: 5140\n"
          ]
        }
      ],
      "source": [
        "min_value = dataset[sign].min()\n",
        "max_value =  dataset[sign].max()\n",
        "print(f'Минимум {sign}: {min_value}')\n",
        "print(f'Максимум {sign}: {max_value}')"
      ]
    },
    {
      "cell_type": "markdown",
      "metadata": {
        "id": "DPnYpTk2h6fs"
      },
      "source": [
        "Рассчитаем среднее значение признака"
      ]
    },
    {
      "cell_type": "code",
      "execution_count": 234,
      "metadata": {
        "colab": {
          "base_uri": "https://localhost:8080/"
        },
        "outputId": "eeac259a-ac47-4e1f-e780-142aeac75def",
        "id": "6q5u49mph6fs"
      },
      "outputs": [
        {
          "output_type": "stream",
          "name": "stdout",
          "text": [
            "Среднее weight: 2970.424623115578\n"
          ]
        }
      ],
      "source": [
        "mean_value = dataset[sign].mean()\n",
        "print(f'Среднее {sign}: {mean_value}')"
      ]
    },
    {
      "cell_type": "markdown",
      "metadata": {
        "id": "aoJCOHZEh6fs"
      },
      "source": [
        "Рассчитаем медианный пробег на галлон топлива"
      ]
    },
    {
      "cell_type": "code",
      "execution_count": 235,
      "metadata": {
        "colab": {
          "base_uri": "https://localhost:8080/"
        },
        "outputId": "462c2e5d-dc63-4a26-bc4c-a021dd52d823",
        "id": "OMzuaJcch6fs"
      },
      "outputs": [
        {
          "output_type": "stream",
          "name": "stdout",
          "text": [
            "Медианное weight: 2803.5\n"
          ]
        }
      ],
      "source": [
        "median_value = dataset[sign].median()\n",
        "print(f'Медианное {sign}: {median_value}')"
      ]
    },
    {
      "cell_type": "markdown",
      "metadata": {
        "id": "T6532bu3h6ft"
      },
      "source": [
        "Рассчитаем процентили 10, 25, 50, 75, 90"
      ]
    },
    {
      "cell_type": "code",
      "execution_count": 236,
      "metadata": {
        "colab": {
          "base_uri": "https://localhost:8080/"
        },
        "outputId": "1bdd00f1-64f0-49d9-8c5e-963d261cf0ea",
        "id": "S0--kLVkh6ft"
      },
      "outputs": [
        {
          "output_type": "stream",
          "name": "stdout",
          "text": [
            "10-й процентиль weight: 1988.5\n",
            "25-й процентиль weight: 2223.75\n",
            "50-й процентиль weight: 2803.5\n",
            "75-й процентиль weight: 3608.0\n",
            "90-й процентиль weight: 4275.2\n"
          ]
        }
      ],
      "source": [
        "percentile_10_value = dataset[sign].quantile(0.10)\n",
        "percentile_25_value = dataset[sign].quantile(0.25)\n",
        "percentile_50_value = dataset[sign].quantile(0.50)\n",
        "percentile_75_value = dataset[sign].quantile(0.75)\n",
        "percentile_90_value = dataset[sign].quantile(0.90)\n",
        "print(f'10-й процентиль {sign}: {percentile_10_value}')\n",
        "print(f'25-й процентиль {sign}: {percentile_25_value}')\n",
        "print(f'50-й процентиль {sign}: {percentile_50_value}')\n",
        "print(f'75-й процентиль {sign}: {percentile_75_value}')\n",
        "print(f'90-й процентиль {sign}: {percentile_90_value}')"
      ]
    },
    {
      "cell_type": "markdown",
      "metadata": {
        "id": "TXuTTO4lh6ft"
      },
      "source": [
        "Посмотрим значение описательной статистики"
      ]
    },
    {
      "cell_type": "code",
      "execution_count": 237,
      "metadata": {
        "colab": {
          "base_uri": "https://localhost:8080/",
          "height": 0
        },
        "outputId": "7ca63a5e-0d49-4574-f9af-addd72184079",
        "id": "ULZqmpf6h6ft"
      },
      "outputs": [
        {
          "output_type": "execute_result",
          "data": {
            "text/plain": [
              "count     398.000000\n",
              "mean     2970.424623\n",
              "std       846.841774\n",
              "min      1613.000000\n",
              "25%      2223.750000\n",
              "50%      2803.500000\n",
              "75%      3608.000000\n",
              "max      5140.000000\n",
              "Name: weight, dtype: float64"
            ],
            "text/html": [
              "<div>\n",
              "<style scoped>\n",
              "    .dataframe tbody tr th:only-of-type {\n",
              "        vertical-align: middle;\n",
              "    }\n",
              "\n",
              "    .dataframe tbody tr th {\n",
              "        vertical-align: top;\n",
              "    }\n",
              "\n",
              "    .dataframe thead th {\n",
              "        text-align: right;\n",
              "    }\n",
              "</style>\n",
              "<table border=\"1\" class=\"dataframe\">\n",
              "  <thead>\n",
              "    <tr style=\"text-align: right;\">\n",
              "      <th></th>\n",
              "      <th>weight</th>\n",
              "    </tr>\n",
              "  </thead>\n",
              "  <tbody>\n",
              "    <tr>\n",
              "      <th>count</th>\n",
              "      <td>398.000000</td>\n",
              "    </tr>\n",
              "    <tr>\n",
              "      <th>mean</th>\n",
              "      <td>2970.424623</td>\n",
              "    </tr>\n",
              "    <tr>\n",
              "      <th>std</th>\n",
              "      <td>846.841774</td>\n",
              "    </tr>\n",
              "    <tr>\n",
              "      <th>min</th>\n",
              "      <td>1613.000000</td>\n",
              "    </tr>\n",
              "    <tr>\n",
              "      <th>25%</th>\n",
              "      <td>2223.750000</td>\n",
              "    </tr>\n",
              "    <tr>\n",
              "      <th>50%</th>\n",
              "      <td>2803.500000</td>\n",
              "    </tr>\n",
              "    <tr>\n",
              "      <th>75%</th>\n",
              "      <td>3608.000000</td>\n",
              "    </tr>\n",
              "    <tr>\n",
              "      <th>max</th>\n",
              "      <td>5140.000000</td>\n",
              "    </tr>\n",
              "  </tbody>\n",
              "</table>\n",
              "</div><br><label><b>dtype:</b> float64</label>"
            ]
          },
          "metadata": {},
          "execution_count": 237
        }
      ],
      "source": [
        "dataset[sign].describe()"
      ]
    },
    {
      "cell_type": "markdown",
      "source": [
        "Построим диаграмму \"ящик с усами\" для признака"
      ],
      "metadata": {
        "id": "pnJFph7fh6ft"
      }
    },
    {
      "cell_type": "code",
      "source": [
        "plt.boxplot(dataset[sign], tick_labels=[sign])\n",
        "plt.title(f'Распределение {sign}')\n",
        "plt.show()"
      ],
      "metadata": {
        "colab": {
          "base_uri": "https://localhost:8080/",
          "height": 0
        },
        "outputId": "aaa3162f-58d2-415b-8dfb-8466f02b3004",
        "id": "TVd86D5th6ft"
      },
      "execution_count": 238,
      "outputs": [
        {
          "output_type": "display_data",
          "data": {
            "text/plain": [
              "<Figure size 640x480 with 1 Axes>"
            ],
            "image/png": "[encoded data removed]"
          },
          "metadata": {}
        }
      ]
    },
    {
      "cell_type": "markdown",
      "source": [
        "Построим гисторграмму для признака по формуле Стёрджеса"
      ],
      "metadata": {
        "id": "zoJBB6Z-h6fu"
      }
    },
    {
      "cell_type": "code",
      "source": [
        "plt.hist(dataset[sign], bins='sturges', alpha=0.5, label=f'{sign}')\n",
        "plt.title(f'Распределение {sign}')\n",
        "plt.xlabel(f'{sign}')\n",
        "plt.ylabel('Количество наблюдений.')\n",
        "plt.legend()\n",
        "plt.grid(True, linestyle='--', alpha=0.7)\n",
        "plt.show()"
      ],
      "metadata": {
        "colab": {
          "base_uri": "https://localhost:8080/",
          "height": 0
        },
        "outputId": "59139726-c400-41ab-d9fa-a63441e9d0e7",
        "id": "eW-fB0Rdh6fu"
      },
      "execution_count": 239,
      "outputs": [
        {
          "output_type": "display_data",
          "data": {
            "text/plain": [
              "<Figure size 640x480 with 1 Axes>"
            ],
            "image/png": "[encoded data removed]"
          },
          "metadata": {}
        }
      ]
    },
    {
      "cell_type": "markdown",
      "source": [
        "Посмотрим на коэффициент асимметрии"
      ],
      "metadata": {
        "id": "5ZBoVzg8h6fu"
      }
    },
    {
      "cell_type": "code",
      "source": [
        "print(f\"Коэффициент асимметрии {sign}: {stats.skew(dataset[sign])}\")"
      ],
      "metadata": {
        "colab": {
          "base_uri": "https://localhost:8080/"
        },
        "outputId": "a65491c0-e29b-4921-8568-21a7f323f8a1",
        "id": "Q8mc2raDh6fu"
      },
      "execution_count": 240,
      "outputs": [
        {
          "output_type": "stream",
          "name": "stdout",
          "text": [
            "Коэффициент асимметрии weight: 0.5290589216608383\n"
          ]
        }
      ]
    },
    {
      "cell_type": "markdown",
      "source": [
        "Посмотрим на коэффициент эксцесса"
      ],
      "metadata": {
        "id": "UK5gDoJ5h6fu"
      }
    },
    {
      "cell_type": "code",
      "source": [
        "print(f\"Коэффициент эксцесса {sign}: {stats.kurtosis(dataset[sign])}\")"
      ],
      "metadata": {
        "colab": {
          "base_uri": "https://localhost:8080/"
        },
        "outputId": "2c5e044c-1391-4ea8-8b26-f5c21bf1ae78",
        "id": "gsyhvp8Uh6fu"
      },
      "execution_count": 241,
      "outputs": [
        {
          "output_type": "stream",
          "name": "stdout",
          "text": [
            "Коэффициент эксцесса weight: -0.7907326965772179\n"
          ]
        }
      ]
    },
    {
      "cell_type": "markdown",
      "metadata": {
        "id": "e8Vq0lRDh6fu"
      },
      "source": [
        "Выводы по анализу признака:\n",
        "\n",
        "*   **О размахе значений:**\n",
        "\n",
        "    *   Минимальное значение признака составляет **1613**.\n",
        "\n",
        "    *   Максимальное значение признака составляет **5140**.\n",
        "\n",
        "    *   Таким образом, размах значений признака очень велик, что указывает на значительную вариативность данных в выборке.\n",
        "\n",
        "*   **О нулевых и пропущенных значениях:**\n",
        "\n",
        "    *   Нулевые и пропущенные значения отсутствуют. Специальная предобработка в данном аспекте не требуется.\n",
        "\n",
        "*   **О средних величинах и распределении:**\n",
        "\n",
        "    *   Среднее значение признака составляет **2970.42**.\n",
        "\n",
        "    *   Медианное значение признака составляет **2803.5**.\n",
        "\n",
        "    *   Среднее значение превышает медиану, что является индикатором **правосторонней асимметрии**. Это подтверждается положительным коэффициентом асимметрии (**0.53**). Распределение смещено влево, с хвостом в сторону бóльших значений, которые \"тянут\" среднее арифметическое вправо.\n",
        "\n",
        "*   **О процентилях:**\n",
        "    *   **10%** наблюдений имеют значение признака не более **1988.5**.\n",
        "    \n",
        "    *   **25%** наблюдений имеют значение признака не более **2223.75** (нижний квантиль).\n",
        "\n",
        "    *   **50%** наблюдений имеют значение признака не более **2803.5** (медиана).\n",
        "\n",
        "    *   **75%** наблюдений имеют значение признака не более **3608.0** (верхний квантиль).\n",
        "\n",
        "    *   **90%** наблюдений имеют значение признака не более **4275.2**.\n",
        "\n",
        "*   **О результатах графического и статистического анализа:**\n",
        "\n",
        "    *   **Гистограмма и \"Ящик с усами\":** Распределение признака является **унимодальным**. На ящике с усами видно, что медиана смещена к нижней границе ящика, а сам ящик вытянут вверх, что визуально подтверждает правостороннюю асимметрию и наличие значений, значительно превышающих верхний квантиль.\n",
        "\n",
        "    *   **Выбросы:** Присутствует некоторое количество выбросов, расположенных выше верхней усы графика. Эти выбросы соответствуют автомобилям с очень большим весом. Решение об их исключении должно приниматься на основе предметной области, так как они являются реальными, хотя и редкими, случаями.\n",
        "\n",
        "    *   **Эксцесс:** Отрицательное значение коэффициента эксцесса (**-0.79**) указывает на то, что распределение является более пологим (платикуртическим) по сравнению с нормальным распределением, что характерно для распределений с широким пиком и умеренно тяжелыми хвостами."
      ]
    },
    {
      "cell_type": "markdown",
      "metadata": {
        "id": "A4arUATpjmky"
      },
      "source": [
        "### 7.6 Признак acceleration"
      ]
    },
    {
      "cell_type": "markdown",
      "metadata": {
        "id": "jU8LqEH6jmkz"
      },
      "source": [
        "Сохраним признак в переменную sign"
      ]
    },
    {
      "cell_type": "code",
      "execution_count": 242,
      "metadata": {
        "id": "JHx_9SvCjmkz"
      },
      "outputs": [],
      "source": [
        "sign = 'acceleration'"
      ]
    },
    {
      "cell_type": "markdown",
      "metadata": {
        "id": "E2NoKodljmkz"
      },
      "source": [
        "Рассчитаем минимальное и максимальное значение признака"
      ]
    },
    {
      "cell_type": "code",
      "execution_count": 243,
      "metadata": {
        "colab": {
          "base_uri": "https://localhost:8080/"
        },
        "outputId": "ea7b1e8c-f2bb-42b7-d20e-2cbb53d2fbb9",
        "id": "ov-jlO7zjmkz"
      },
      "outputs": [
        {
          "output_type": "stream",
          "name": "stdout",
          "text": [
            "Минимум acceleration: 8.0\n",
            "Максимум acceleration: 24.8\n"
          ]
        }
      ],
      "source": [
        "min_value = dataset[sign].min()\n",
        "max_value =  dataset[sign].max()\n",
        "print(f'Минимум {sign}: {min_value}')\n",
        "print(f'Максимум {sign}: {max_value}')"
      ]
    },
    {
      "cell_type": "markdown",
      "metadata": {
        "id": "1pa7-pLcjmk0"
      },
      "source": [
        "Рассчитаем среднее значение признака"
      ]
    },
    {
      "cell_type": "code",
      "execution_count": 244,
      "metadata": {
        "colab": {
          "base_uri": "https://localhost:8080/"
        },
        "outputId": "d2f2d917-1500-4be1-fc32-625183e2a2db",
        "id": "y7jIAq4Gjmk0"
      },
      "outputs": [
        {
          "output_type": "stream",
          "name": "stdout",
          "text": [
            "Среднее acceleration: 15.568090452261307\n"
          ]
        }
      ],
      "source": [
        "mean_value = dataset[sign].mean()\n",
        "print(f'Среднее {sign}: {mean_value}')"
      ]
    },
    {
      "cell_type": "markdown",
      "metadata": {
        "id": "1cYPUAPQjmk0"
      },
      "source": [
        "Рассчитаем медианный пробег на галлон топлива"
      ]
    },
    {
      "cell_type": "code",
      "execution_count": 245,
      "metadata": {
        "colab": {
          "base_uri": "https://localhost:8080/"
        },
        "outputId": "10dbcd78-d0c9-4df0-b14e-23d15cfde691",
        "id": "-qQjt6Msjmk0"
      },
      "outputs": [
        {
          "output_type": "stream",
          "name": "stdout",
          "text": [
            "Медианное acceleration: 15.5\n"
          ]
        }
      ],
      "source": [
        "median_value = dataset[sign].median()\n",
        "print(f'Медианное {sign}: {median_value}')"
      ]
    },
    {
      "cell_type": "markdown",
      "metadata": {
        "id": "GskMW8H2jmk0"
      },
      "source": [
        "Рассчитаем процентили 10, 25, 50, 75, 90"
      ]
    },
    {
      "cell_type": "code",
      "execution_count": 246,
      "metadata": {
        "colab": {
          "base_uri": "https://localhost:8080/"
        },
        "outputId": "5ca1656b-dce4-4158-eeb9-642ce2163c01",
        "id": "lBXipuNwjmk0"
      },
      "outputs": [
        {
          "output_type": "stream",
          "name": "stdout",
          "text": [
            "10-й процентиль acceleration: 12.0\n",
            "25-й процентиль acceleration: 13.825000000000001\n",
            "50-й процентиль acceleration: 15.5\n",
            "75-й процентиль acceleration: 17.175\n",
            "90-й процентиль acceleration: 19.0\n"
          ]
        }
      ],
      "source": [
        "percentile_10_value = dataset[sign].quantile(0.10)\n",
        "percentile_25_value = dataset[sign].quantile(0.25)\n",
        "percentile_50_value = dataset[sign].quantile(0.50)\n",
        "percentile_75_value = dataset[sign].quantile(0.75)\n",
        "percentile_90_value = dataset[sign].quantile(0.90)\n",
        "print(f'10-й процентиль {sign}: {percentile_10_value}')\n",
        "print(f'25-й процентиль {sign}: {percentile_25_value}')\n",
        "print(f'50-й процентиль {sign}: {percentile_50_value}')\n",
        "print(f'75-й процентиль {sign}: {percentile_75_value}')\n",
        "print(f'90-й процентиль {sign}: {percentile_90_value}')"
      ]
    },
    {
      "cell_type": "markdown",
      "metadata": {
        "id": "M8Nir6qXjmk1"
      },
      "source": [
        "Посмотрим значение описательной статистики"
      ]
    },
    {
      "cell_type": "code",
      "execution_count": 247,
      "metadata": {
        "colab": {
          "base_uri": "https://localhost:8080/",
          "height": 0
        },
        "outputId": "5e10d931-a7a5-41ae-fa1b-c2f53b06b4f9",
        "id": "Kmfipvwdjmk1"
      },
      "outputs": [
        {
          "output_type": "execute_result",
          "data": {
            "text/plain": [
              "count    398.000000\n",
              "mean      15.568090\n",
              "std        2.757689\n",
              "min        8.000000\n",
              "25%       13.825000\n",
              "50%       15.500000\n",
              "75%       17.175000\n",
              "max       24.800000\n",
              "Name: acceleration, dtype: float64"
            ],
            "text/html": [
              "<div>\n",
              "<style scoped>\n",
              "    .dataframe tbody tr th:only-of-type {\n",
              "        vertical-align: middle;\n",
              "    }\n",
              "\n",
              "    .dataframe tbody tr th {\n",
              "        vertical-align: top;\n",
              "    }\n",
              "\n",
              "    .dataframe thead th {\n",
              "        text-align: right;\n",
              "    }\n",
              "</style>\n",
              "<table border=\"1\" class=\"dataframe\">\n",
              "  <thead>\n",
              "    <tr style=\"text-align: right;\">\n",
              "      <th></th>\n",
              "      <th>acceleration</th>\n",
              "    </tr>\n",
              "  </thead>\n",
              "  <tbody>\n",
              "    <tr>\n",
              "      <th>count</th>\n",
              "      <td>398.000000</td>\n",
              "    </tr>\n",
              "    <tr>\n",
              "      <th>mean</th>\n",
              "      <td>15.568090</td>\n",
              "    </tr>\n",
              "    <tr>\n",
              "      <th>std</th>\n",
              "      <td>2.757689</td>\n",
              "    </tr>\n",
              "    <tr>\n",
              "      <th>min</th>\n",
              "      <td>8.000000</td>\n",
              "    </tr>\n",
              "    <tr>\n",
              "      <th>25%</th>\n",
              "      <td>13.825000</td>\n",
              "    </tr>\n",
              "    <tr>\n",
              "      <th>50%</th>\n",
              "      <td>15.500000</td>\n",
              "    </tr>\n",
              "    <tr>\n",
              "      <th>75%</th>\n",
              "      <td>17.175000</td>\n",
              "    </tr>\n",
              "    <tr>\n",
              "      <th>max</th>\n",
              "      <td>24.800000</td>\n",
              "    </tr>\n",
              "  </tbody>\n",
              "</table>\n",
              "</div><br><label><b>dtype:</b> float64</label>"
            ]
          },
          "metadata": {},
          "execution_count": 247
        }
      ],
      "source": [
        "dataset[sign].describe()"
      ]
    },
    {
      "cell_type": "markdown",
      "source": [
        "Построим диаграмму \"ящик с усами\" для признака"
      ],
      "metadata": {
        "id": "fL15qEtijmk1"
      }
    },
    {
      "cell_type": "code",
      "source": [
        "plt.boxplot(dataset[sign], tick_labels=[sign])\n",
        "plt.title(f'Распределение {sign}')\n",
        "plt.show()"
      ],
      "metadata": {
        "colab": {
          "base_uri": "https://localhost:8080/",
          "height": 0
        },
        "outputId": "85c40ec6-0c1b-4b44-c692-fe9445542281",
        "id": "VwrxuxWhjmk1"
      },
      "execution_count": 248,
      "outputs": [
        {
          "output_type": "display_data",
          "data": {
            "text/plain": [
              "<Figure size 640x480 with 1 Axes>"
            ],
            "image/png": "[encoded data removed]"
          },
          "metadata": {}
        }
      ]
    },
    {
      "cell_type": "markdown",
      "source": [
        "Построим гисторграмму для признака по формуле Стёрджеса"
      ],
      "metadata": {
        "id": "0t4CjniOjmk1"
      }
    },
    {
      "cell_type": "code",
      "source": [
        "plt.hist(dataset[sign], bins='sturges', alpha=0.5, label=f'{sign}')\n",
        "plt.title(f'Распределение {sign}')\n",
        "plt.xlabel(f'{sign}')\n",
        "plt.ylabel('Количество наблюдений.')\n",
        "plt.legend()\n",
        "plt.grid(True, linestyle='--', alpha=0.7)\n",
        "plt.show()"
      ],
      "metadata": {
        "colab": {
          "base_uri": "https://localhost:8080/",
          "height": 0
        },
        "outputId": "ce245bbf-23f0-4f59-c11b-059a133f8707",
        "id": "9tW-oZc-jmk2"
      },
      "execution_count": 249,
      "outputs": [
        {
          "output_type": "display_data",
          "data": {
            "text/plain": [
              "<Figure size 640x480 with 1 Axes>"
            ],
            "image/png": "[encoded data removed]"
          },
          "metadata": {}
        }
      ]
    },
    {
      "cell_type": "markdown",
      "source": [
        "Посмотрим на коэффициент асимметрии"
      ],
      "metadata": {
        "id": "p2w1zB6qjmk2"
      }
    },
    {
      "cell_type": "code",
      "source": [
        "print(f\"Коэффициент асимметрии {sign}: {stats.skew(dataset[sign])}\")"
      ],
      "metadata": {
        "colab": {
          "base_uri": "https://localhost:8080/"
        },
        "outputId": "2ba7b696-fba8-4118-e6cf-4a3aa16b4bc5",
        "id": "mQ9O7v52jmk2"
      },
      "execution_count": 250,
      "outputs": [
        {
          "output_type": "stream",
          "name": "stdout",
          "text": [
            "Коэффициент асимметрии acceleration: 0.27772507624356363\n"
          ]
        }
      ]
    },
    {
      "cell_type": "markdown",
      "source": [
        "Посмотрим на коэффициент эксцесса"
      ],
      "metadata": {
        "id": "MnqsKJmJjmk2"
      }
    },
    {
      "cell_type": "code",
      "source": [
        "print(f\"Коэффициент эксцесса {sign}: {stats.kurtosis(dataset[sign])}\")"
      ],
      "metadata": {
        "colab": {
          "base_uri": "https://localhost:8080/"
        },
        "outputId": "aacedad5-c5c0-4ef3-ef71-3090e9015412",
        "id": "bWJOoReqjmk2"
      },
      "execution_count": 251,
      "outputs": [
        {
          "output_type": "stream",
          "name": "stdout",
          "text": [
            "Коэффициент эксцесса acceleration: 0.3992077323931644\n"
          ]
        }
      ]
    },
    {
      "cell_type": "markdown",
      "metadata": {
        "id": "Od3hGnWpjmk2"
      },
      "source": [
        "Выводы по анализу признака:\n",
        "\n",
        "*   **О размахе значений:**\n",
        "\n",
        "    *   Минимальное значение признака составляет **8.0**.\n",
        "\n",
        "    *   Максимальное значение признака составляет **24.8**.\n",
        "\n",
        "    *   Таким образом, размах значений признака является умеренным по сравнению с другими признаками в выборке.\n",
        "\n",
        "*   **О нулевых и пропущенных значениях:**\n",
        "\n",
        "    *   Нулевые и пропущенные значения отсутствуют. Специальная предобработка в данном аспекте не требуется.\n",
        "\n",
        "*   **О средних величинах и распределении:**\n",
        "\n",
        "    *   Среднее значение признака составляет **15.57**.\n",
        "    \n",
        "    *   Медианное значение признака составляет **15.5**.\n",
        "    \n",
        "    *   Среднее и медиана находятся очень близко друг к другу, что указывает на симметричное распределение. Незначительный положительный коэффициент асимметрии (**0.28**) подтверждает наличие слабой **правосторонней асимметрии**.\n",
        "\n",
        "*   **О процентилях:**\n",
        "\n",
        "    *   **10%** наблюдений имеют значение признака не более **12.0**.\n",
        "\n",
        "    *   **25%** наблюдений имеют значение признака не более **13.83** (нижний квантиль).\n",
        "\n",
        "    *   **50%** наблюдений имеют значение признака не более **15.5** (медиана).\n",
        "\n",
        "    *   **75%** наблюдений имеют значение признака не более **17.18** (верхний квантиль).\n",
        "\n",
        "    *   **90%** наблюдений имеют значение признака не более **19.0**.\n",
        "\n",
        "*   **О результатах графического и статистического анализа:**\n",
        "\n",
        "    *   **Гистограмма и \"Ящик с усами\":** Распределение признака является **унимодальным** и близким к симметричному. На ящике с усами видно, что медиана расположена примерно по центру ящика, а длины усов в обе стороны сопоставимы, что свидетельствует о сбалансированности распределения.\n",
        "\n",
        "    *   **Выбросы:** Присутствует незначительное количество выбросов с обеих сторон распределения (как в области минимальных, так и в области максимальных значений). Эти выбросы соответствуют автомобилям с аномально низким или высоким ускорением. Решение об их исключении должно приниматься на основе предметной области.\n",
        "\n",
        "    *   **Эксцесс:** Положительное значение коэффициента эксцесса (**0.40**) указывает на то, что распределение является более островершинным (лептокуртическим) по сравнению с нормальным распределением и имеет более тяжелые хвосты, что согласуется с наличием выбросов."
      ]
    },
    {
      "cell_type": "markdown",
      "metadata": {
        "id": "Wt4Ul6CHlyUZ"
      },
      "source": [
        "### 7.7 Признак model year"
      ]
    },
    {
      "cell_type": "markdown",
      "metadata": {
        "id": "7ObfuwchlyUa"
      },
      "source": [
        "Сохраним признак в переменную sign"
      ]
    },
    {
      "cell_type": "code",
      "execution_count": 252,
      "metadata": {
        "id": "jtr-T8K2lyUb"
      },
      "outputs": [],
      "source": [
        "sign = 'model year'"
      ]
    },
    {
      "cell_type": "markdown",
      "metadata": {
        "id": "6G7znOo3lyUb"
      },
      "source": [
        "Рассчитаем минимальное и максимальное значение признака"
      ]
    },
    {
      "cell_type": "code",
      "execution_count": 253,
      "metadata": {
        "colab": {
          "base_uri": "https://localhost:8080/"
        },
        "outputId": "cfa1c571-5006-4069-9392-63e6f47688a7",
        "id": "kCf5uysylyUc"
      },
      "outputs": [
        {
          "output_type": "stream",
          "name": "stdout",
          "text": [
            "Минимум model year: 70\n",
            "Максимум model year: 82\n"
          ]
        }
      ],
      "source": [
        "min_value = dataset[sign].min()\n",
        "max_value =  dataset[sign].max()\n",
        "print(f'Минимум {sign}: {min_value}')\n",
        "print(f'Максимум {sign}: {max_value}')"
      ]
    },
    {
      "cell_type": "markdown",
      "metadata": {
        "id": "7-fbHa4_lyUd"
      },
      "source": [
        "Рассчитаем среднее значение признака"
      ]
    },
    {
      "cell_type": "code",
      "execution_count": 254,
      "metadata": {
        "colab": {
          "base_uri": "https://localhost:8080/"
        },
        "outputId": "bf4daed7-1276-4387-ade9-99104ad0a839",
        "id": "_BMYW9tSlyUd"
      },
      "outputs": [
        {
          "output_type": "stream",
          "name": "stdout",
          "text": [
            "Среднее model year: 76.01005025125629\n"
          ]
        }
      ],
      "source": [
        "mean_value = dataset[sign].mean()\n",
        "print(f'Среднее {sign}: {mean_value}')"
      ]
    },
    {
      "cell_type": "markdown",
      "metadata": {
        "id": "il-AGK6_lyUe"
      },
      "source": [
        "Рассчитаем медианный пробег на галлон топлива"
      ]
    },
    {
      "cell_type": "code",
      "execution_count": 255,
      "metadata": {
        "colab": {
          "base_uri": "https://localhost:8080/"
        },
        "outputId": "4b718b0a-30c3-4a90-c201-c9d49233de5c",
        "id": "-ilL3rt0lyUe"
      },
      "outputs": [
        {
          "output_type": "stream",
          "name": "stdout",
          "text": [
            "Медианное model year: 76.0\n"
          ]
        }
      ],
      "source": [
        "median_value = dataset[sign].median()\n",
        "print(f'Медианное {sign}: {median_value}')"
      ]
    },
    {
      "cell_type": "markdown",
      "metadata": {
        "id": "AAHF9NmclyUf"
      },
      "source": [
        "Рассчитаем процентили 10, 25, 50, 75, 90"
      ]
    },
    {
      "cell_type": "code",
      "execution_count": 256,
      "metadata": {
        "colab": {
          "base_uri": "https://localhost:8080/"
        },
        "outputId": "2d166b57-5a64-42d0-fa74-468d0c253216",
        "id": "WYpE4NlRlyUf"
      },
      "outputs": [
        {
          "output_type": "stream",
          "name": "stdout",
          "text": [
            "10-й процентиль model year: 71.0\n",
            "25-й процентиль model year: 73.0\n",
            "50-й процентиль model year: 76.0\n",
            "75-й процентиль model year: 79.0\n",
            "90-й процентиль model year: 81.0\n"
          ]
        }
      ],
      "source": [
        "percentile_10_value = dataset[sign].quantile(0.10)\n",
        "percentile_25_value = dataset[sign].quantile(0.25)\n",
        "percentile_50_value = dataset[sign].quantile(0.50)\n",
        "percentile_75_value = dataset[sign].quantile(0.75)\n",
        "percentile_90_value = dataset[sign].quantile(0.90)\n",
        "print(f'10-й процентиль {sign}: {percentile_10_value}')\n",
        "print(f'25-й процентиль {sign}: {percentile_25_value}')\n",
        "print(f'50-й процентиль {sign}: {percentile_50_value}')\n",
        "print(f'75-й процентиль {sign}: {percentile_75_value}')\n",
        "print(f'90-й процентиль {sign}: {percentile_90_value}')"
      ]
    },
    {
      "cell_type": "markdown",
      "metadata": {
        "id": "0-f4b0UGlyUg"
      },
      "source": [
        "Посмотрим значение описательной статистики"
      ]
    },
    {
      "cell_type": "code",
      "execution_count": 257,
      "metadata": {
        "colab": {
          "base_uri": "https://localhost:8080/",
          "height": 335
        },
        "outputId": "bc009d5e-d092-412b-f5f7-9da54b4d6e11",
        "id": "VE6RPWexlyUg"
      },
      "outputs": [
        {
          "output_type": "execute_result",
          "data": {
            "text/plain": [
              "count    398.000000\n",
              "mean      76.010050\n",
              "std        3.697627\n",
              "min       70.000000\n",
              "25%       73.000000\n",
              "50%       76.000000\n",
              "75%       79.000000\n",
              "max       82.000000\n",
              "Name: model year, dtype: float64"
            ],
            "text/html": [
              "<div>\n",
              "<style scoped>\n",
              "    .dataframe tbody tr th:only-of-type {\n",
              "        vertical-align: middle;\n",
              "    }\n",
              "\n",
              "    .dataframe tbody tr th {\n",
              "        vertical-align: top;\n",
              "    }\n",
              "\n",
              "    .dataframe thead th {\n",
              "        text-align: right;\n",
              "    }\n",
              "</style>\n",
              "<table border=\"1\" class=\"dataframe\">\n",
              "  <thead>\n",
              "    <tr style=\"text-align: right;\">\n",
              "      <th></th>\n",
              "      <th>model year</th>\n",
              "    </tr>\n",
              "  </thead>\n",
              "  <tbody>\n",
              "    <tr>\n",
              "      <th>count</th>\n",
              "      <td>398.000000</td>\n",
              "    </tr>\n",
              "    <tr>\n",
              "      <th>mean</th>\n",
              "      <td>76.010050</td>\n",
              "    </tr>\n",
              "    <tr>\n",
              "      <th>std</th>\n",
              "      <td>3.697627</td>\n",
              "    </tr>\n",
              "    <tr>\n",
              "      <th>min</th>\n",
              "      <td>70.000000</td>\n",
              "    </tr>\n",
              "    <tr>\n",
              "      <th>25%</th>\n",
              "      <td>73.000000</td>\n",
              "    </tr>\n",
              "    <tr>\n",
              "      <th>50%</th>\n",
              "      <td>76.000000</td>\n",
              "    </tr>\n",
              "    <tr>\n",
              "      <th>75%</th>\n",
              "      <td>79.000000</td>\n",
              "    </tr>\n",
              "    <tr>\n",
              "      <th>max</th>\n",
              "      <td>82.000000</td>\n",
              "    </tr>\n",
              "  </tbody>\n",
              "</table>\n",
              "</div><br><label><b>dtype:</b> float64</label>"
            ]
          },
          "metadata": {},
          "execution_count": 257
        }
      ],
      "source": [
        "dataset[sign].describe()"
      ]
    },
    {
      "cell_type": "markdown",
      "source": [
        "Построим диаграмму \"ящик с усами\" для признака"
      ],
      "metadata": {
        "id": "22WjtLZ4lyUh"
      }
    },
    {
      "cell_type": "code",
      "source": [
        "plt.boxplot(dataset[sign], tick_labels=[sign])\n",
        "plt.title(f'Распределение {sign}')\n",
        "plt.show()"
      ],
      "metadata": {
        "colab": {
          "base_uri": "https://localhost:8080/",
          "height": 452
        },
        "outputId": "21a08820-6d9e-41e4-a89e-d66a0adbf5f8",
        "id": "CvxXdkRvlyUh"
      },
      "execution_count": 258,
      "outputs": [
        {
          "output_type": "display_data",
          "data": {
            "text/plain": [
              "<Figure size 640x480 with 1 Axes>"
            ],
            "image/png": "[encoded data removed]"
          },
          "metadata": {}
        }
      ]
    },
    {
      "cell_type": "markdown",
      "source": [
        "Построим гисторграмму для признака по формуле Стёрджеса"
      ],
      "metadata": {
        "id": "Jm7tWr8VlyUi"
      }
    },
    {
      "cell_type": "code",
      "source": [
        "plt.hist(dataset[sign], bins='sturges', alpha=0.5, label=f'{sign}')\n",
        "plt.title(f'Распределение {sign}')\n",
        "plt.xlabel(f'{sign}')\n",
        "plt.ylabel('Количество наблюдений.')\n",
        "plt.legend()\n",
        "plt.grid(True, linestyle='--', alpha=0.7)\n",
        "plt.show()"
      ],
      "metadata": {
        "colab": {
          "base_uri": "https://localhost:8080/",
          "height": 472
        },
        "outputId": "8d6150e7-bab8-4f80-c86a-4e7b68513095",
        "id": "zlZLZ281lyUi"
      },
      "execution_count": 259,
      "outputs": [
        {
          "output_type": "display_data",
          "data": {
            "text/plain": [
              "<Figure size 640x480 with 1 Axes>"
            ],
            "image/png": "[encoded data removed]"
          },
          "metadata": {}
        }
      ]
    },
    {
      "cell_type": "markdown",
      "source": [
        "Посмотрим на коэффициент асимметрии"
      ],
      "metadata": {
        "id": "1eWTKekKlyUj"
      }
    },
    {
      "cell_type": "code",
      "source": [
        "print(f\"Коэффициент асимметрии {sign}: {stats.skew(dataset[sign])}\")"
      ],
      "metadata": {
        "colab": {
          "base_uri": "https://localhost:8080/"
        },
        "outputId": "c7004343-4b11-41e2-d01d-ecee15a22b92",
        "id": "11g5UJzjlyUj"
      },
      "execution_count": 260,
      "outputs": [
        {
          "output_type": "stream",
          "name": "stdout",
          "text": [
            "Коэффициент асимметрии model year: 0.011491076335909905\n"
          ]
        }
      ]
    },
    {
      "cell_type": "markdown",
      "source": [
        "Посмотрим на коэффициент эксцесса"
      ],
      "metadata": {
        "id": "_iTI4rdFlyUk"
      }
    },
    {
      "cell_type": "code",
      "source": [
        "print(f\"Коэффициент эксцесса {sign}: {stats.kurtosis(dataset[sign])}\")"
      ],
      "metadata": {
        "colab": {
          "base_uri": "https://localhost:8080/"
        },
        "outputId": "8965ba25-a257-4703-9f6d-c5e46287deb9",
        "id": "RU9PrFXGlyUl"
      },
      "execution_count": 261,
      "outputs": [
        {
          "output_type": "stream",
          "name": "stdout",
          "text": [
            "Коэффициент эксцесса model year: -1.1814818486666614\n"
          ]
        }
      ]
    },
    {
      "cell_type": "markdown",
      "metadata": {
        "id": "uztVZF0blyUm"
      },
      "source": [
        "Выводы по анализу признака:\n",
        "\n",
        "*   **О размахе значений:**\n",
        "\n",
        "    *   Минимальное значение признака составляет **70**.\n",
        "\n",
        "    *   Максимум модели составляет **82**.\n",
        "\n",
        "    *   Таким образом, данные охватывают 13-летний период, что представляет собой полную и непрерывную временную выборку.\n",
        "\n",
        "*   **О нулевых и пропущенных значениях:**\n",
        "\n",
        "    *   Нулевые и пропущенные значения отсутствуют. Специальная предобработка в данном аспекте не требуется.\n",
        "\n",
        "*   **О средних величинах и распределении:**\n",
        "\n",
        "    *   Среднее значение признака составляет **76.01**.\n",
        "\n",
        "    *   Медианное значение признака составляет **76.0**.\n",
        "\n",
        "    *   Среднее и медиана практически совпадают, что указывает на симметричное распределение. Коэффициент асимметрии близок к нулю (**0.01**), что подтверждает вывод о практически **идеальной симметрии** распределения.\n",
        "\n",
        "*   **О процентилях:**\n",
        "\n",
        "    *   **10%** наблюдений относятся к году не старше **71**.\n",
        "\n",
        "    *   **25%** наблюдений относятся к году не старше **73** (нижний квантиль).\n",
        "\n",
        "    *   **50%** наблюдений относятся к году не старше **76** (медиана).\n",
        "\n",
        "    *   **75%** наблюдений относятся к году не старше **79** (верхний квантиль).\n",
        "\n",
        "    *   **90%** наблюдений относятся к году не старше **81**.\n",
        "\n",
        "*   **О результатах графического и статистического анализа:**\n",
        "\n",
        "    *   **Гистограмма и \"Ящик с усами\":** Распределение признака является **полимодальным**, с несколькими пиками, что соответствует разным годам выпуска. На ящике с усами видно, что медиана расположена по центру ящика, а сам ящик симметричен, что визуально подтверждает сбалансированность распределения по годам.\n",
        "\n",
        "    *   **Выбросы:** Выбросы в традиционном понимании отсутствуют, так как признак представляет собой дискретные временные отметки, и все значения являются валидными.\n",
        "\n",
        "    *   **Эксцесс:** Сильно отрицательное значение коэффициента эксцесса (**-1.18**) указывает на то, что распределение является значительно более пологим (платикуртическим) по сравнению с нормальным распределением. Это логично для равномерного распределения данных по нескольким годам, когда данные не сконцентрированы вокруг одного центра, а распределены по нескольким модам."
      ]
    },
    {
      "cell_type": "markdown",
      "source": [
        "## 8. Неграфический и графический анализ категориальных признаков"
      ],
      "metadata": {
        "id": "rzAcry3MVr7n"
      }
    },
    {
      "cell_type": "markdown",
      "metadata": {
        "id": "JPLL-9DGnkdR"
      },
      "source": [
        "### 8.1 Признак origin"
      ]
    },
    {
      "cell_type": "markdown",
      "metadata": {
        "id": "jkbJH1BPnkdS"
      },
      "source": [
        "Сохраним признак в переменную sign"
      ]
    },
    {
      "cell_type": "code",
      "execution_count": 263,
      "metadata": {
        "id": "JZ8FlYtZnkdS"
      },
      "outputs": [],
      "source": [
        "sign = 'origin'"
      ]
    },
    {
      "cell_type": "markdown",
      "metadata": {
        "id": "4ew3sp43nkdT"
      },
      "source": [
        "Оценим описательные статистики признака"
      ]
    },
    {
      "cell_type": "code",
      "execution_count": 264,
      "metadata": {
        "colab": {
          "base_uri": "https://localhost:8080/",
          "height": 210
        },
        "outputId": "f90d6cfe-51fb-4b36-f50f-10d85886a0f6",
        "id": "Sfmagq8CnkdT"
      },
      "outputs": [
        {
          "output_type": "execute_result",
          "data": {
            "text/plain": [
              "count     398\n",
              "unique      3\n",
              "top         1\n",
              "freq      249\n",
              "Name: origin, dtype: object"
            ],
            "text/html": [
              "<div>\n",
              "<style scoped>\n",
              "    .dataframe tbody tr th:only-of-type {\n",
              "        vertical-align: middle;\n",
              "    }\n",
              "\n",
              "    .dataframe tbody tr th {\n",
              "        vertical-align: top;\n",
              "    }\n",
              "\n",
              "    .dataframe thead th {\n",
              "        text-align: right;\n",
              "    }\n",
              "</style>\n",
              "<table border=\"1\" class=\"dataframe\">\n",
              "  <thead>\n",
              "    <tr style=\"text-align: right;\">\n",
              "      <th></th>\n",
              "      <th>origin</th>\n",
              "    </tr>\n",
              "  </thead>\n",
              "  <tbody>\n",
              "    <tr>\n",
              "      <th>count</th>\n",
              "      <td>398</td>\n",
              "    </tr>\n",
              "    <tr>\n",
              "      <th>unique</th>\n",
              "      <td>3</td>\n",
              "    </tr>\n",
              "    <tr>\n",
              "      <th>top</th>\n",
              "      <td>1</td>\n",
              "    </tr>\n",
              "    <tr>\n",
              "      <th>freq</th>\n",
              "      <td>249</td>\n",
              "    </tr>\n",
              "  </tbody>\n",
              "</table>\n",
              "</div><br><label><b>dtype:</b> object</label>"
            ]
          },
          "metadata": {},
          "execution_count": 264
        }
      ],
      "source": [
        "dataset[sign].describe()"
      ]
    },
    {
      "cell_type": "markdown",
      "metadata": {
        "id": "SC_WDsrAnkdU"
      },
      "source": [
        "Изучим уникальные значения признака"
      ]
    },
    {
      "cell_type": "code",
      "execution_count": 265,
      "metadata": {
        "colab": {
          "base_uri": "https://localhost:8080/"
        },
        "outputId": "0f2562b9-0269-41ea-d392-4dda2a924af7",
        "id": "g6xOyhNDnkdU"
      },
      "outputs": [
        {
          "output_type": "execute_result",
          "data": {
            "text/plain": [
              "['1', '3', '2']\n",
              "Categories (3, object): ['1', '2', '3']"
            ]
          },
          "metadata": {},
          "execution_count": 265
        }
      ],
      "source": [
        "dataset[sign].unique()"
      ]
    },
    {
      "cell_type": "markdown",
      "metadata": {
        "id": "-4LV1KfjnkdV"
      },
      "source": [
        "Выведем количество уникальных значений"
      ]
    },
    {
      "cell_type": "code",
      "execution_count": 266,
      "metadata": {
        "colab": {
          "base_uri": "https://localhost:8080/"
        },
        "outputId": "7c37eb1f-7082-4b6e-e3e5-0ee75f339d2e",
        "id": "I_z9IPdFnkdV"
      },
      "outputs": [
        {
          "output_type": "stream",
          "name": "stdout",
          "text": [
            "Количество уникальных значений origin: (3,)\n"
          ]
        }
      ],
      "source": [
        "print(f'Количество уникальных значений {sign}: {dataset[sign].unique().shape}')"
      ]
    },
    {
      "cell_type": "markdown",
      "metadata": {
        "id": "i4Oc0GZynkdW"
      },
      "source": [
        "Проведём неграфический структурный анализ. Сохраним результаты работы метода отсортировав значения."
      ]
    },
    {
      "cell_type": "code",
      "execution_count": 267,
      "metadata": {
        "colab": {
          "base_uri": "https://localhost:8080/",
          "height": 210
        },
        "outputId": "a82486c9-d1dc-4c42-d28d-759f15722b06",
        "id": "g_NIN6e1nkdX"
      },
      "outputs": [
        {
          "output_type": "execute_result",
          "data": {
            "text/plain": [
              "origin\n",
              "1    249\n",
              "3     79\n",
              "2     70\n",
              "Name: count, dtype: int64"
            ],
            "text/html": [
              "<div>\n",
              "<style scoped>\n",
              "    .dataframe tbody tr th:only-of-type {\n",
              "        vertical-align: middle;\n",
              "    }\n",
              "\n",
              "    .dataframe tbody tr th {\n",
              "        vertical-align: top;\n",
              "    }\n",
              "\n",
              "    .dataframe thead th {\n",
              "        text-align: right;\n",
              "    }\n",
              "</style>\n",
              "<table border=\"1\" class=\"dataframe\">\n",
              "  <thead>\n",
              "    <tr style=\"text-align: right;\">\n",
              "      <th></th>\n",
              "      <th>count</th>\n",
              "    </tr>\n",
              "    <tr>\n",
              "      <th>origin</th>\n",
              "      <th></th>\n",
              "    </tr>\n",
              "  </thead>\n",
              "  <tbody>\n",
              "    <tr>\n",
              "      <th>1</th>\n",
              "      <td>249</td>\n",
              "    </tr>\n",
              "    <tr>\n",
              "      <th>3</th>\n",
              "      <td>79</td>\n",
              "    </tr>\n",
              "    <tr>\n",
              "      <th>2</th>\n",
              "      <td>70</td>\n",
              "    </tr>\n",
              "  </tbody>\n",
              "</table>\n",
              "</div><br><label><b>dtype:</b> int64</label>"
            ]
          },
          "metadata": {},
          "execution_count": 267
        }
      ],
      "source": [
        "value_counts = dataset[sign].value_counts().sort_values(ascending=False)\n",
        "value_counts"
      ]
    },
    {
      "cell_type": "markdown",
      "source": [
        "Визуализируем распределение топ значений категориального признака в виде круговой диаграммы с вынесенными значениями в легенду."
      ],
      "metadata": {
        "id": "cPjgu2UNRT9X"
      }
    },
    {
      "cell_type": "code",
      "source": [
        "colors = plt.cm.Set3(np.linspace(0, 1, len(value_counts)))\n",
        "wedgeprops = {\n",
        "    'edgecolor': 'white',\n",
        "    'linewidth': 2,\n",
        "    'linestyle': '-',\n",
        "    'alpha': 0.9\n",
        "}\n",
        "textprops = {\n",
        "    'fontsize': 12,\n",
        "    'color': 'black',\n",
        "    'fontweight': 'normal'\n",
        "}\n",
        "# Создаем круговую диаграмму и получаем 3 набора объектов:\n",
        "# patches - сектора диаграммы, texts - текстовые элементы (здесь пустые), autotexts - проценты (здесь пустые)\n",
        "\n",
        "fig, ax = plt.subplots(figsize=(12, 8))\n",
        "\n",
        "patches, texts, autotexts = plt.pie(\n",
        "    value_counts,          # Данные для отображения (топ частых значений)\n",
        "    labels=None,           # Не показываем стандартные подписи (будем использовать легенду)\n",
        "    autopct='',            # Не показываем проценты внутри секторов (добавим в легенду)\n",
        "    startangle=90,         # Начальный угол поворота (90° = начало сверху)\n",
        "    colors=colors,         # Цвета для секторов\n",
        "    wedgeprops=wedgeprops, # Свойства секторов (границы и т.д.)\n",
        "    textprops=textprops,   # Свойства текста (размер шрифта)\n",
        ")\n",
        "\n",
        "# Рассчитываем общее количество (для вычисления процентов)\n",
        "total = value_counts.sum()\n",
        "\n",
        "# Создаем список процентных соотношений с форматированием (1 знак после запятой)\n",
        "percentages = [f'{(count/total)*100:.1f}%' for count in value_counts.values]\n",
        "\n",
        "# Формируем подписи для легенды в формате:\n",
        "# Название категории\n",
        "# (Абсолютное значение, Процентное соотношение)\n",
        "legend_labels = [\n",
        "    f'{label}\\n({count}, {percent})'  # \\n - перенос строки\n",
        "    for label, count, percent in zip(\n",
        "        value_counts.index,           # Названия категорий\n",
        "        value_counts.values,          # Абсолютные значения\n",
        "        percentages                   # Процентные соотношения\n",
        "    )\n",
        "]\n",
        "\n",
        "# Создаем легенду с кастомными подписями\n",
        "legend = plt.legend(patches,                                               # Сектора диаграммы (для отображения цветных маркеров)\n",
        "                    legend_labels,                                         # Сформированные подписи\n",
        "                    title=f\"Топ значений признака {sign}\",                 # Заголовок легенды\n",
        "                    loc=\"center left\",                                     # Позиционирование относительно диаграммы\n",
        "                    bbox_to_anchor=(1.15, 0.5),                            # Смещение легенды (вправо на 15% от ширины)\n",
        "                    fontsize=11,                                           # Размер шрифта подписей\n",
        "                    title_fontsize=12,                                     # Размер шрифта заголовка\n",
        "                    framealpha=0.9,                                        # Прозрачность фона легенды\n",
        "                    edgecolor='gray',                                      # Цвет границы легенды\n",
        "                    borderpad=1.2                                          # Отступ внутри легенды\n",
        ")\n",
        "\n",
        "# Добавляем заголовок диаграммы\n",
        "plt.title(f'Распределение топ значений признака {sign}',   # Текст заголовка\n",
        "          pad=25,                                            # Отступ от верха диаграммы\n",
        "          fontsize=14,                                       # Размер шрифта\n",
        "          fontweight='bold',                                 # Жирное начертание\n",
        "          color='#333333'                                    # Цвет текста (темно-серый)\n",
        ")\n",
        "\n",
        "# Делаем диаграмму идеально круглой (без искажений)\n",
        "plt.axis('equal')\n",
        "\n",
        "# Автоматически регулируем отступы для предотвращения обрезания элементов\n",
        "plt.tight_layout()\n",
        "\n",
        "# Отображаем диаграмму\n",
        "plt.show()"
      ],
      "metadata": {
        "colab": {
          "base_uri": "https://localhost:8080/",
          "height": 807
        },
        "id": "M2vKOuZ1RUT4",
        "outputId": "97a7584c-1a98-453a-ba5e-b486c90cadca"
      },
      "execution_count": 270,
      "outputs": [
        {
          "output_type": "display_data",
          "data": {
            "text/plain": [
              "<Figure size 1200x800 with 1 Axes>"
            ],
            "image/png": "[encoded data removed]"
          },
          "metadata": {}
        }
      ]
    },
    {
      "cell_type": "markdown",
      "metadata": {
        "id": "TtMz1dsEnkdc"
      },
      "source": [
        "Выводы по анализу признака:\n",
        "\n",
        "  * **О количестве уникальных значений признака:**\n",
        "    * Признак содержит 3 уникальных значения\n",
        "\n",
        "  * **О наиболее часто встречаемом значении признака:**\n",
        "    \n",
        "    * Наиболее частым значением является **\"1\"**, которое встречается **249** раз, что составляет **62.6%** от общего количества наблюдений\n",
        "\n",
        "    * **О распределении значений признака:**\n",
        "      * **Наиболее встречаемые значения:**\n",
        "\n",
        "        * 1: **249** наблюдений (**62.6%**)\n",
        "\n",
        "      * **Наименее встречаемые значения:**\n",
        "\n",
        "        * 3: **79** наблюдений (**19.8%**)\n",
        "\n",
        "        * 2: **70** наблюдений (**17.6%**)\n",
        "\n",
        "\n",
        "  * **О результатах графического анализа:**\n",
        "\n",
        "    * Круговая диаграмма наглядно демонстрирует доминирующее положение значения **\"1\"** в распределении, которое занимает более половины всех наблюдений (**62.6%**). Остальные два значения распределены относительно равномерно, с небольшим преобладанием значения **\"3\"** (**19.8%**) над значением **\"2\"**(**17.6%**)."
      ]
    }
  ]
}