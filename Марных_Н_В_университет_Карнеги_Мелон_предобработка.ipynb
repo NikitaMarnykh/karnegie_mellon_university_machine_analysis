{
  "cells": [
    {
      "cell_type": "markdown",
      "metadata": {
        "id": "view-in-github",
        "colab_type": "text"
      },
      "source": [
        "<a href=\"https://colab.research.google.com/github/NikitaMarnykh/karnegie_mellon_university_machine_analysis/blob/main/%D0%9C%D0%B0%D1%80%D0%BD%D1%8B%D1%85_%D0%9D_%D0%92_%D1%83%D0%BD%D0%B8%D0%B2%D0%B5%D1%80%D1%81%D0%B8%D1%82%D0%B5%D1%82_%D0%9A%D0%B0%D1%80%D0%BD%D0%B5%D0%B3%D0%B8_%D0%9C%D0%B5%D0%BB%D0%BE%D0%BD_%D0%BF%D1%80%D0%B5%D0%B4%D0%BE%D0%B1%D1%80%D0%B0%D0%B1%D0%BE%D1%82%D0%BA%D0%B0.ipynb\" target=\"_parent\"><img src=\"https://colab.research.google.com/assets/colab-badge.svg\" alt=\"Open In Colab\"/></a>"
      ]
    },
    {
      "cell_type": "markdown",
      "metadata": {
        "id": "WjyKIj3rE6L_"
      },
      "source": [
        "## 1. Постановка задачи и описание датасета"
      ]
    },
    {
      "cell_type": "markdown",
      "metadata": {
        "id": "u0I8z58gFLod"
      },
      "source": [
        "Предоставлены данные моделей автомобилей с некоторыми их характеристиками, собранные в 1983 году в университете Карнеги-Мелон.\n",
        "\n",
        "Информация, содержащаяся в датасете:\n",
        "* mpg – расход топлива (в милях на галлон);\n",
        "* cylinders – число цилиндров в двигателе;\n",
        "* displacement – объем двигателя (в кубических дюймах);\n",
        "* horsepower – мощность (в лошадиных силах);\n",
        "* weight – масса автомобиля (в фунтах);\n",
        "* acceleration – разгон до 60 миль/час (в секундах);\n",
        "* model year – год выпуска модели;\n",
        "* origin – регион производства (1 – США, 2 – Европа, 3 – Юго-Восточная Азия);\n",
        "* car name – наименование модели.\n",
        "\n",
        "Исходные данные:\n",
        "\n",
        "Датасет с автомобилями (файл в формате csv по ссылке: https://drive.google.com/file/d/1C7fHqALXokyvZZZIn1aMkjyaDWXdAbIy/view?usp=sharing).\n",
        "\n",
        "Задачи:  \n",
        "* построить минимум две регрессионные модели регрессии (линейную и нелинейную,\n",
        "приведенную к линейной с помощью линеаризации) взаимосвязи целевого показателя\n",
        "mpg и других факторов (cylinders, displacement, horsepower, weight, acceleration, model year,\n",
        "origin, car name);  \n",
        "* сравнить качество построенных моделей;\n",
        "* сделать прогноз."
      ]
    },
    {
      "cell_type": "markdown",
      "metadata": {
        "id": "WKpooC4ZGSPp"
      },
      "source": [
        "## 2. Установка и подключение зависимостей"
      ]
    },
    {
      "cell_type": "markdown",
      "metadata": {
        "id": "DbuyptL22vOG"
      },
      "source": [
        "Устанавливаем все необходимые зависимости"
      ]
    },
    {
      "cell_type": "code",
      "execution_count": 464,
      "metadata": {
        "colab": {
          "base_uri": "https://localhost:8080/"
        },
        "id": "90XlK26G2Bv1",
        "outputId": "49c6845d-1d69-4157-a231-30a9f485be2c"
      },
      "outputs": [
        {
          "output_type": "stream",
          "name": "stdout",
          "text": [
            "Requirement already satisfied: numpy in /usr/local/lib/python3.12/dist-packages (2.0.2)\n",
            "Requirement already satisfied: matplotlib in /usr/local/lib/python3.12/dist-packages (3.10.0)\n",
            "Requirement already satisfied: contourpy>=1.0.1 in /usr/local/lib/python3.12/dist-packages (from matplotlib) (1.3.3)\n",
            "Requirement already satisfied: cycler>=0.10 in /usr/local/lib/python3.12/dist-packages (from matplotlib) (0.12.1)\n",
            "Requirement already satisfied: fonttools>=4.22.0 in /usr/local/lib/python3.12/dist-packages (from matplotlib) (4.60.1)\n",
            "Requirement already satisfied: kiwisolver>=1.3.1 in /usr/local/lib/python3.12/dist-packages (from matplotlib) (1.4.9)\n",
            "Requirement already satisfied: numpy>=1.23 in /usr/local/lib/python3.12/dist-packages (from matplotlib) (2.0.2)\n",
            "Requirement already satisfied: packaging>=20.0 in /usr/local/lib/python3.12/dist-packages (from matplotlib) (25.0)\n",
            "Requirement already satisfied: pillow>=8 in /usr/local/lib/python3.12/dist-packages (from matplotlib) (11.3.0)\n",
            "Requirement already satisfied: pyparsing>=2.3.1 in /usr/local/lib/python3.12/dist-packages (from matplotlib) (3.2.5)\n",
            "Requirement already satisfied: python-dateutil>=2.7 in /usr/local/lib/python3.12/dist-packages (from matplotlib) (2.9.0.post0)\n",
            "Requirement already satisfied: six>=1.5 in /usr/local/lib/python3.12/dist-packages (from python-dateutil>=2.7->matplotlib) (1.17.0)\n",
            "Requirement already satisfied: pandas in /usr/local/lib/python3.12/dist-packages (2.2.2)\n",
            "Requirement already satisfied: numpy>=1.26.0 in /usr/local/lib/python3.12/dist-packages (from pandas) (2.0.2)\n",
            "Requirement already satisfied: python-dateutil>=2.8.2 in /usr/local/lib/python3.12/dist-packages (from pandas) (2.9.0.post0)\n",
            "Requirement already satisfied: pytz>=2020.1 in /usr/local/lib/python3.12/dist-packages (from pandas) (2025.2)\n",
            "Requirement already satisfied: tzdata>=2022.7 in /usr/local/lib/python3.12/dist-packages (from pandas) (2025.2)\n",
            "Requirement already satisfied: six>=1.5 in /usr/local/lib/python3.12/dist-packages (from python-dateutil>=2.8.2->pandas) (1.17.0)\n",
            "Requirement already satisfied: seaborn in /usr/local/lib/python3.12/dist-packages (0.13.2)\n",
            "Requirement already satisfied: numpy!=1.24.0,>=1.20 in /usr/local/lib/python3.12/dist-packages (from seaborn) (2.0.2)\n",
            "Requirement already satisfied: pandas>=1.2 in /usr/local/lib/python3.12/dist-packages (from seaborn) (2.2.2)\n",
            "Requirement already satisfied: matplotlib!=3.6.1,>=3.4 in /usr/local/lib/python3.12/dist-packages (from seaborn) (3.10.0)\n",
            "Requirement already satisfied: contourpy>=1.0.1 in /usr/local/lib/python3.12/dist-packages (from matplotlib!=3.6.1,>=3.4->seaborn) (1.3.3)\n",
            "Requirement already satisfied: cycler>=0.10 in /usr/local/lib/python3.12/dist-packages (from matplotlib!=3.6.1,>=3.4->seaborn) (0.12.1)\n",
            "Requirement already satisfied: fonttools>=4.22.0 in /usr/local/lib/python3.12/dist-packages (from matplotlib!=3.6.1,>=3.4->seaborn) (4.60.1)\n",
            "Requirement already satisfied: kiwisolver>=1.3.1 in /usr/local/lib/python3.12/dist-packages (from matplotlib!=3.6.1,>=3.4->seaborn) (1.4.9)\n",
            "Requirement already satisfied: packaging>=20.0 in /usr/local/lib/python3.12/dist-packages (from matplotlib!=3.6.1,>=3.4->seaborn) (25.0)\n",
            "Requirement already satisfied: pillow>=8 in /usr/local/lib/python3.12/dist-packages (from matplotlib!=3.6.1,>=3.4->seaborn) (11.3.0)\n",
            "Requirement already satisfied: pyparsing>=2.3.1 in /usr/local/lib/python3.12/dist-packages (from matplotlib!=3.6.1,>=3.4->seaborn) (3.2.5)\n",
            "Requirement already satisfied: python-dateutil>=2.7 in /usr/local/lib/python3.12/dist-packages (from matplotlib!=3.6.1,>=3.4->seaborn) (2.9.0.post0)\n",
            "Requirement already satisfied: pytz>=2020.1 in /usr/local/lib/python3.12/dist-packages (from pandas>=1.2->seaborn) (2025.2)\n",
            "Requirement already satisfied: tzdata>=2022.7 in /usr/local/lib/python3.12/dist-packages (from pandas>=1.2->seaborn) (2025.2)\n",
            "Requirement already satisfied: six>=1.5 in /usr/local/lib/python3.12/dist-packages (from python-dateutil>=2.7->matplotlib!=3.6.1,>=3.4->seaborn) (1.17.0)\n",
            "Requirement already satisfied: missingno in /usr/local/lib/python3.12/dist-packages (0.5.2)\n",
            "Requirement already satisfied: numpy in /usr/local/lib/python3.12/dist-packages (from missingno) (2.0.2)\n",
            "Requirement already satisfied: matplotlib in /usr/local/lib/python3.12/dist-packages (from missingno) (3.10.0)\n",
            "Requirement already satisfied: scipy in /usr/local/lib/python3.12/dist-packages (from missingno) (1.16.2)\n",
            "Requirement already satisfied: seaborn in /usr/local/lib/python3.12/dist-packages (from missingno) (0.13.2)\n",
            "Requirement already satisfied: contourpy>=1.0.1 in /usr/local/lib/python3.12/dist-packages (from matplotlib->missingno) (1.3.3)\n",
            "Requirement already satisfied: cycler>=0.10 in /usr/local/lib/python3.12/dist-packages (from matplotlib->missingno) (0.12.1)\n",
            "Requirement already satisfied: fonttools>=4.22.0 in /usr/local/lib/python3.12/dist-packages (from matplotlib->missingno) (4.60.1)\n",
            "Requirement already satisfied: kiwisolver>=1.3.1 in /usr/local/lib/python3.12/dist-packages (from matplotlib->missingno) (1.4.9)\n",
            "Requirement already satisfied: packaging>=20.0 in /usr/local/lib/python3.12/dist-packages (from matplotlib->missingno) (25.0)\n",
            "Requirement already satisfied: pillow>=8 in /usr/local/lib/python3.12/dist-packages (from matplotlib->missingno) (11.3.0)\n",
            "Requirement already satisfied: pyparsing>=2.3.1 in /usr/local/lib/python3.12/dist-packages (from matplotlib->missingno) (3.2.5)\n",
            "Requirement already satisfied: python-dateutil>=2.7 in /usr/local/lib/python3.12/dist-packages (from matplotlib->missingno) (2.9.0.post0)\n",
            "Requirement already satisfied: pandas>=1.2 in /usr/local/lib/python3.12/dist-packages (from seaborn->missingno) (2.2.2)\n",
            "Requirement already satisfied: pytz>=2020.1 in /usr/local/lib/python3.12/dist-packages (from pandas>=1.2->seaborn->missingno) (2025.2)\n",
            "Requirement already satisfied: tzdata>=2022.7 in /usr/local/lib/python3.12/dist-packages (from pandas>=1.2->seaborn->missingno) (2025.2)\n",
            "Requirement already satisfied: six>=1.5 in /usr/local/lib/python3.12/dist-packages (from python-dateutil>=2.7->matplotlib->missingno) (1.17.0)\n"
          ]
        }
      ],
      "source": [
        "!pip install numpy\n",
        "!pip install matplotlib\n",
        "!pip install pandas\n",
        "!pip install seaborn\n",
        "!pip install missingno"
      ]
    },
    {
      "cell_type": "markdown",
      "metadata": {
        "id": "MygCIarB6USw"
      },
      "source": [
        "Подключаем все необходимые зависимости"
      ]
    },
    {
      "cell_type": "code",
      "execution_count": 465,
      "metadata": {
        "id": "FQ0te3zv6lPl"
      },
      "outputs": [],
      "source": [
        "import numpy as np\n",
        "\n",
        "import pandas as pd\n",
        "\n",
        "import matplotlib.pyplot as plt\n",
        "\n",
        "import seaborn as sns\n",
        "\n",
        "import missingno as msno"
      ]
    },
    {
      "cell_type": "markdown",
      "metadata": {
        "id": "qWW4h8pt7Fay"
      },
      "source": [
        "Подгружаем репозиторий для работы с ним"
      ]
    },
    {
      "cell_type": "code",
      "execution_count": 466,
      "metadata": {
        "colab": {
          "base_uri": "https://localhost:8080/"
        },
        "id": "Q3RBAhLf7P_w",
        "outputId": "7400c69a-db9a-431b-e1e4-cd977f8b3000"
      },
      "outputs": [
        {
          "output_type": "stream",
          "name": "stdout",
          "text": [
            "Cloning into 'karnegie_mellon_university_machine_analysis'...\n",
            "remote: Enumerating objects: 21, done.\u001b[K\n",
            "remote: Counting objects:   4% (1/21)\u001b[K\rremote: Counting objects:   9% (2/21)\u001b[K\rremote: Counting objects:  14% (3/21)\u001b[K\rremote: Counting objects:  19% (4/21)\u001b[K\rremote: Counting objects:  23% (5/21)\u001b[K\rremote: Counting objects:  28% (6/21)\u001b[K\rremote: Counting objects:  33% (7/21)\u001b[K\rremote: Counting objects:  38% (8/21)\u001b[K\rremote: Counting objects:  42% (9/21)\u001b[K\rremote: Counting objects:  47% (10/21)\u001b[K\rremote: Counting objects:  52% (11/21)\u001b[K\rremote: Counting objects:  57% (12/21)\u001b[K\rremote: Counting objects:  61% (13/21)\u001b[K\rremote: Counting objects:  66% (14/21)\u001b[K\rremote: Counting objects:  71% (15/21)\u001b[K\rremote: Counting objects:  76% (16/21)\u001b[K\rremote: Counting objects:  80% (17/21)\u001b[K\rremote: Counting objects:  85% (18/21)\u001b[K\rremote: Counting objects:  90% (19/21)\u001b[K\rremote: Counting objects:  95% (20/21)\u001b[K\rremote: Counting objects: 100% (21/21)\u001b[K\rremote: Counting objects: 100% (21/21), done.\u001b[K\n",
            "remote: Compressing objects: 100% (20/20), done.\u001b[K\n",
            "remote: Total 21 (delta 10), reused 0 (delta 0), pack-reused 0 (from 0)\u001b[K\n",
            "Receiving objects: 100% (21/21), 276.62 KiB | 4.39 MiB/s, done.\n",
            "Resolving deltas: 100% (10/10), done.\n"
          ]
        }
      ],
      "source": [
        "!git clone https://github.com/NikitaMarnykh/karnegie_mellon_university_machine_analysis"
      ]
    },
    {
      "cell_type": "markdown",
      "source": [
        "Перейдём в установленный репозиторий"
      ],
      "metadata": {
        "id": "aqey6HCRBvF4"
      }
    },
    {
      "cell_type": "code",
      "source": [
        "%cd karnegie_mellon_university_machine_analysis/"
      ],
      "metadata": {
        "id": "Z6i5dfVFzm_J",
        "colab": {
          "base_uri": "https://localhost:8080/"
        },
        "outputId": "aeca1738-714f-442c-b7c3-8e98570ec7df"
      },
      "execution_count": 467,
      "outputs": [
        {
          "output_type": "stream",
          "name": "stdout",
          "text": [
            "/content/karnegie_mellon_university_machine_analysis/karnegie_mellon_university_machine_analysis/karnegie_mellon_university_machine_analysis/karnegie_mellon_university_machine_analysis/karnegie_mellon_university_machine_analysis/karnegie_mellon_university_machine_analysis/karnegie_mellon_university_machine_analysis\n"
          ]
        }
      ]
    },
    {
      "cell_type": "markdown",
      "metadata": {
        "id": "IHfWX8WHHiYg"
      },
      "source": [
        "## 3. Первичный обзор датасета. Оценка размеров датасета, наличия дубликатов и пропусков"
      ]
    },
    {
      "cell_type": "markdown",
      "metadata": {
        "id": "o1wm6iyJ-ots"
      },
      "source": [
        "Сохраняем датасет в переменную"
      ]
    },
    {
      "cell_type": "code",
      "execution_count": 468,
      "metadata": {
        "id": "9BpR3TE28OGq"
      },
      "outputs": [],
      "source": [
        "dataset = pd.read_csv('auto-mpg.csv',\n",
        "                      na_values=['NA', 'N/A', 'null', 'missing', '-', '?', '...'],\n",
        "                      keep_default_na=True,\n",
        "                      na_filter=True)"
      ]
    },
    {
      "cell_type": "markdown",
      "metadata": {
        "id": "U4bsEGAQAW_F"
      },
      "source": [
        "Проведём обзор содержимого таблицы"
      ]
    },
    {
      "cell_type": "code",
      "execution_count": 469,
      "metadata": {
        "colab": {
          "base_uri": "https://localhost:8080/",
          "height": 0
        },
        "id": "r361lLc4ASeq",
        "outputId": "90577477-c7be-4e1c-c931-c75619598d3f"
      },
      "outputs": [
        {
          "output_type": "execute_result",
          "data": {
            "text/plain": [
              "     mpg  cylinders  displacement  horsepower  weight  acceleration  \\\n",
              "0   18.0          8         307.0       130.0    3504          12.0   \n",
              "1   15.0          8         350.0       165.0    3693          11.5   \n",
              "2   18.0          8         318.0       150.0    3436          11.0   \n",
              "3   16.0          8         304.0       150.0    3433          12.0   \n",
              "4   17.0          8         302.0       140.0    3449          10.5   \n",
              "5   15.0          8         429.0       198.0    4341          10.0   \n",
              "6   14.0          8         454.0       220.0    4354           9.0   \n",
              "7   14.0          8         440.0       215.0    4312           8.5   \n",
              "8   14.0          8         455.0       225.0    4425          10.0   \n",
              "9   15.0          8         390.0       190.0    3850           8.5   \n",
              "10  15.0          8         383.0       170.0    3563          10.0   \n",
              "11  14.0          8         340.0       160.0    3609           8.0   \n",
              "12  15.0          8         400.0       150.0    3761           9.5   \n",
              "13  14.0          8         455.0       225.0    3086          10.0   \n",
              "14  24.0          4         113.0        95.0    2372          15.0   \n",
              "15  22.0          6         198.0        95.0    2833          15.5   \n",
              "16  18.0          6         199.0        97.0    2774          15.5   \n",
              "17  21.0          6         200.0        85.0    2587          16.0   \n",
              "18  27.0          4          97.0        88.0    2130          14.5   \n",
              "19  26.0          4          97.0        46.0    1835          20.5   \n",
              "20  25.0          4         110.0        87.0    2672          17.5   \n",
              "21  24.0          4         107.0        90.0    2430          14.5   \n",
              "22  25.0          4         104.0        95.0    2375          17.5   \n",
              "23  26.0          4         121.0       113.0    2234          12.5   \n",
              "24  21.0          6         199.0        90.0    2648          15.0   \n",
              "25  10.0          8         360.0       215.0    4615          14.0   \n",
              "26  10.0          8         307.0       200.0    4376          15.0   \n",
              "27  11.0          8         318.0       210.0    4382          13.5   \n",
              "28   9.0          8         304.0       193.0    4732          18.5   \n",
              "29  27.0          4          97.0        88.0    2130          14.5   \n",
              "\n",
              "    model year  origin                      car name  \n",
              "0           70       1     chevrolet chevelle malibu  \n",
              "1           70       1             buick skylark 320  \n",
              "2           70       1            plymouth satellite  \n",
              "3           70       1                 amc rebel sst  \n",
              "4           70       1                   ford torino  \n",
              "5           70       1              ford galaxie 500  \n",
              "6           70       1              chevrolet impala  \n",
              "7           70       1             plymouth fury iii  \n",
              "8           70       1              pontiac catalina  \n",
              "9           70       1            amc ambassador dpl  \n",
              "10          70       1           dodge challenger se  \n",
              "11          70       1            plymouth 'cuda 340  \n",
              "12          70       1         chevrolet monte carlo  \n",
              "13          70       1       buick estate wagon (sw)  \n",
              "14          70       3         toyota corona mark ii  \n",
              "15          70       1               plymouth duster  \n",
              "16          70       1                    amc hornet  \n",
              "17          70       1                 ford maverick  \n",
              "18          70       3                  datsun pl510  \n",
              "19          70       2  volkswagen 1131 deluxe sedan  \n",
              "20          70       2                   peugeot 504  \n",
              "21          70       2                   audi 100 ls  \n",
              "22          70       2                      saab 99e  \n",
              "23          70       2                      bmw 2002  \n",
              "24          70       1                   amc gremlin  \n",
              "25          70       1                     ford f250  \n",
              "26          70       1                     chevy c20  \n",
              "27          70       1                    dodge d200  \n",
              "28          70       1                      hi 1200d  \n",
              "29          71       3                  datsun pl510  "
            ],
            "text/html": [
              "\n",
              "  <div id=\"df-db8c0125-2c3a-45cf-a296-61a1bb85be81\" class=\"colab-df-container\">\n",
              "    <div>\n",
              "<style scoped>\n",
              "    .dataframe tbody tr th:only-of-type {\n",
              "        vertical-align: middle;\n",
              "    }\n",
              "\n",
              "    .dataframe tbody tr th {\n",
              "        vertical-align: top;\n",
              "    }\n",
              "\n",
              "    .dataframe thead th {\n",
              "        text-align: right;\n",
              "    }\n",
              "</style>\n",
              "<table border=\"1\" class=\"dataframe\">\n",
              "  <thead>\n",
              "    <tr style=\"text-align: right;\">\n",
              "      <th></th>\n",
              "      <th>mpg</th>\n",
              "      <th>cylinders</th>\n",
              "      <th>displacement</th>\n",
              "      <th>horsepower</th>\n",
              "      <th>weight</th>\n",
              "      <th>acceleration</th>\n",
              "      <th>model year</th>\n",
              "      <th>origin</th>\n",
              "      <th>car name</th>\n",
              "    </tr>\n",
              "  </thead>\n",
              "  <tbody>\n",
              "    <tr>\n",
              "      <th>0</th>\n",
              "      <td>18.0</td>\n",
              "      <td>8</td>\n",
              "      <td>307.0</td>\n",
              "      <td>130.0</td>\n",
              "      <td>3504</td>\n",
              "      <td>12.0</td>\n",
              "      <td>70</td>\n",
              "      <td>1</td>\n",
              "      <td>chevrolet chevelle malibu</td>\n",
              "    </tr>\n",
              "    <tr>\n",
              "      <th>1</th>\n",
              "      <td>15.0</td>\n",
              "      <td>8</td>\n",
              "      <td>350.0</td>\n",
              "      <td>165.0</td>\n",
              "      <td>3693</td>\n",
              "      <td>11.5</td>\n",
              "      <td>70</td>\n",
              "      <td>1</td>\n",
              "      <td>buick skylark 320</td>\n",
              "    </tr>\n",
              "    <tr>\n",
              "      <th>2</th>\n",
              "      <td>18.0</td>\n",
              "      <td>8</td>\n",
              "      <td>318.0</td>\n",
              "      <td>150.0</td>\n",
              "      <td>3436</td>\n",
              "      <td>11.0</td>\n",
              "      <td>70</td>\n",
              "      <td>1</td>\n",
              "      <td>plymouth satellite</td>\n",
              "    </tr>\n",
              "    <tr>\n",
              "      <th>3</th>\n",
              "      <td>16.0</td>\n",
              "      <td>8</td>\n",
              "      <td>304.0</td>\n",
              "      <td>150.0</td>\n",
              "      <td>3433</td>\n",
              "      <td>12.0</td>\n",
              "      <td>70</td>\n",
              "      <td>1</td>\n",
              "      <td>amc rebel sst</td>\n",
              "    </tr>\n",
              "    <tr>\n",
              "      <th>4</th>\n",
              "      <td>17.0</td>\n",
              "      <td>8</td>\n",
              "      <td>302.0</td>\n",
              "      <td>140.0</td>\n",
              "      <td>3449</td>\n",
              "      <td>10.5</td>\n",
              "      <td>70</td>\n",
              "      <td>1</td>\n",
              "      <td>ford torino</td>\n",
              "    </tr>\n",
              "    <tr>\n",
              "      <th>5</th>\n",
              "      <td>15.0</td>\n",
              "      <td>8</td>\n",
              "      <td>429.0</td>\n",
              "      <td>198.0</td>\n",
              "      <td>4341</td>\n",
              "      <td>10.0</td>\n",
              "      <td>70</td>\n",
              "      <td>1</td>\n",
              "      <td>ford galaxie 500</td>\n",
              "    </tr>\n",
              "    <tr>\n",
              "      <th>6</th>\n",
              "      <td>14.0</td>\n",
              "      <td>8</td>\n",
              "      <td>454.0</td>\n",
              "      <td>220.0</td>\n",
              "      <td>4354</td>\n",
              "      <td>9.0</td>\n",
              "      <td>70</td>\n",
              "      <td>1</td>\n",
              "      <td>chevrolet impala</td>\n",
              "    </tr>\n",
              "    <tr>\n",
              "      <th>7</th>\n",
              "      <td>14.0</td>\n",
              "      <td>8</td>\n",
              "      <td>440.0</td>\n",
              "      <td>215.0</td>\n",
              "      <td>4312</td>\n",
              "      <td>8.5</td>\n",
              "      <td>70</td>\n",
              "      <td>1</td>\n",
              "      <td>plymouth fury iii</td>\n",
              "    </tr>\n",
              "    <tr>\n",
              "      <th>8</th>\n",
              "      <td>14.0</td>\n",
              "      <td>8</td>\n",
              "      <td>455.0</td>\n",
              "      <td>225.0</td>\n",
              "      <td>4425</td>\n",
              "      <td>10.0</td>\n",
              "      <td>70</td>\n",
              "      <td>1</td>\n",
              "      <td>pontiac catalina</td>\n",
              "    </tr>\n",
              "    <tr>\n",
              "      <th>9</th>\n",
              "      <td>15.0</td>\n",
              "      <td>8</td>\n",
              "      <td>390.0</td>\n",
              "      <td>190.0</td>\n",
              "      <td>3850</td>\n",
              "      <td>8.5</td>\n",
              "      <td>70</td>\n",
              "      <td>1</td>\n",
              "      <td>amc ambassador dpl</td>\n",
              "    </tr>\n",
              "    <tr>\n",
              "      <th>10</th>\n",
              "      <td>15.0</td>\n",
              "      <td>8</td>\n",
              "      <td>383.0</td>\n",
              "      <td>170.0</td>\n",
              "      <td>3563</td>\n",
              "      <td>10.0</td>\n",
              "      <td>70</td>\n",
              "      <td>1</td>\n",
              "      <td>dodge challenger se</td>\n",
              "    </tr>\n",
              "    <tr>\n",
              "      <th>11</th>\n",
              "      <td>14.0</td>\n",
              "      <td>8</td>\n",
              "      <td>340.0</td>\n",
              "      <td>160.0</td>\n",
              "      <td>3609</td>\n",
              "      <td>8.0</td>\n",
              "      <td>70</td>\n",
              "      <td>1</td>\n",
              "      <td>plymouth 'cuda 340</td>\n",
              "    </tr>\n",
              "    <tr>\n",
              "      <th>12</th>\n",
              "      <td>15.0</td>\n",
              "      <td>8</td>\n",
              "      <td>400.0</td>\n",
              "      <td>150.0</td>\n",
              "      <td>3761</td>\n",
              "      <td>9.5</td>\n",
              "      <td>70</td>\n",
              "      <td>1</td>\n",
              "      <td>chevrolet monte carlo</td>\n",
              "    </tr>\n",
              "    <tr>\n",
              "      <th>13</th>\n",
              "      <td>14.0</td>\n",
              "      <td>8</td>\n",
              "      <td>455.0</td>\n",
              "      <td>225.0</td>\n",
              "      <td>3086</td>\n",
              "      <td>10.0</td>\n",
              "      <td>70</td>\n",
              "      <td>1</td>\n",
              "      <td>buick estate wagon (sw)</td>\n",
              "    </tr>\n",
              "    <tr>\n",
              "      <th>14</th>\n",
              "      <td>24.0</td>\n",
              "      <td>4</td>\n",
              "      <td>113.0</td>\n",
              "      <td>95.0</td>\n",
              "      <td>2372</td>\n",
              "      <td>15.0</td>\n",
              "      <td>70</td>\n",
              "      <td>3</td>\n",
              "      <td>toyota corona mark ii</td>\n",
              "    </tr>\n",
              "    <tr>\n",
              "      <th>15</th>\n",
              "      <td>22.0</td>\n",
              "      <td>6</td>\n",
              "      <td>198.0</td>\n",
              "      <td>95.0</td>\n",
              "      <td>2833</td>\n",
              "      <td>15.5</td>\n",
              "      <td>70</td>\n",
              "      <td>1</td>\n",
              "      <td>plymouth duster</td>\n",
              "    </tr>\n",
              "    <tr>\n",
              "      <th>16</th>\n",
              "      <td>18.0</td>\n",
              "      <td>6</td>\n",
              "      <td>199.0</td>\n",
              "      <td>97.0</td>\n",
              "      <td>2774</td>\n",
              "      <td>15.5</td>\n",
              "      <td>70</td>\n",
              "      <td>1</td>\n",
              "      <td>amc hornet</td>\n",
              "    </tr>\n",
              "    <tr>\n",
              "      <th>17</th>\n",
              "      <td>21.0</td>\n",
              "      <td>6</td>\n",
              "      <td>200.0</td>\n",
              "      <td>85.0</td>\n",
              "      <td>2587</td>\n",
              "      <td>16.0</td>\n",
              "      <td>70</td>\n",
              "      <td>1</td>\n",
              "      <td>ford maverick</td>\n",
              "    </tr>\n",
              "    <tr>\n",
              "      <th>18</th>\n",
              "      <td>27.0</td>\n",
              "      <td>4</td>\n",
              "      <td>97.0</td>\n",
              "      <td>88.0</td>\n",
              "      <td>2130</td>\n",
              "      <td>14.5</td>\n",
              "      <td>70</td>\n",
              "      <td>3</td>\n",
              "      <td>datsun pl510</td>\n",
              "    </tr>\n",
              "    <tr>\n",
              "      <th>19</th>\n",
              "      <td>26.0</td>\n",
              "      <td>4</td>\n",
              "      <td>97.0</td>\n",
              "      <td>46.0</td>\n",
              "      <td>1835</td>\n",
              "      <td>20.5</td>\n",
              "      <td>70</td>\n",
              "      <td>2</td>\n",
              "      <td>volkswagen 1131 deluxe sedan</td>\n",
              "    </tr>\n",
              "    <tr>\n",
              "      <th>20</th>\n",
              "      <td>25.0</td>\n",
              "      <td>4</td>\n",
              "      <td>110.0</td>\n",
              "      <td>87.0</td>\n",
              "      <td>2672</td>\n",
              "      <td>17.5</td>\n",
              "      <td>70</td>\n",
              "      <td>2</td>\n",
              "      <td>peugeot 504</td>\n",
              "    </tr>\n",
              "    <tr>\n",
              "      <th>21</th>\n",
              "      <td>24.0</td>\n",
              "      <td>4</td>\n",
              "      <td>107.0</td>\n",
              "      <td>90.0</td>\n",
              "      <td>2430</td>\n",
              "      <td>14.5</td>\n",
              "      <td>70</td>\n",
              "      <td>2</td>\n",
              "      <td>audi 100 ls</td>\n",
              "    </tr>\n",
              "    <tr>\n",
              "      <th>22</th>\n",
              "      <td>25.0</td>\n",
              "      <td>4</td>\n",
              "      <td>104.0</td>\n",
              "      <td>95.0</td>\n",
              "      <td>2375</td>\n",
              "      <td>17.5</td>\n",
              "      <td>70</td>\n",
              "      <td>2</td>\n",
              "      <td>saab 99e</td>\n",
              "    </tr>\n",
              "    <tr>\n",
              "      <th>23</th>\n",
              "      <td>26.0</td>\n",
              "      <td>4</td>\n",
              "      <td>121.0</td>\n",
              "      <td>113.0</td>\n",
              "      <td>2234</td>\n",
              "      <td>12.5</td>\n",
              "      <td>70</td>\n",
              "      <td>2</td>\n",
              "      <td>bmw 2002</td>\n",
              "    </tr>\n",
              "    <tr>\n",
              "      <th>24</th>\n",
              "      <td>21.0</td>\n",
              "      <td>6</td>\n",
              "      <td>199.0</td>\n",
              "      <td>90.0</td>\n",
              "      <td>2648</td>\n",
              "      <td>15.0</td>\n",
              "      <td>70</td>\n",
              "      <td>1</td>\n",
              "      <td>amc gremlin</td>\n",
              "    </tr>\n",
              "    <tr>\n",
              "      <th>25</th>\n",
              "      <td>10.0</td>\n",
              "      <td>8</td>\n",
              "      <td>360.0</td>\n",
              "      <td>215.0</td>\n",
              "      <td>4615</td>\n",
              "      <td>14.0</td>\n",
              "      <td>70</td>\n",
              "      <td>1</td>\n",
              "      <td>ford f250</td>\n",
              "    </tr>\n",
              "    <tr>\n",
              "      <th>26</th>\n",
              "      <td>10.0</td>\n",
              "      <td>8</td>\n",
              "      <td>307.0</td>\n",
              "      <td>200.0</td>\n",
              "      <td>4376</td>\n",
              "      <td>15.0</td>\n",
              "      <td>70</td>\n",
              "      <td>1</td>\n",
              "      <td>chevy c20</td>\n",
              "    </tr>\n",
              "    <tr>\n",
              "      <th>27</th>\n",
              "      <td>11.0</td>\n",
              "      <td>8</td>\n",
              "      <td>318.0</td>\n",
              "      <td>210.0</td>\n",
              "      <td>4382</td>\n",
              "      <td>13.5</td>\n",
              "      <td>70</td>\n",
              "      <td>1</td>\n",
              "      <td>dodge d200</td>\n",
              "    </tr>\n",
              "    <tr>\n",
              "      <th>28</th>\n",
              "      <td>9.0</td>\n",
              "      <td>8</td>\n",
              "      <td>304.0</td>\n",
              "      <td>193.0</td>\n",
              "      <td>4732</td>\n",
              "      <td>18.5</td>\n",
              "      <td>70</td>\n",
              "      <td>1</td>\n",
              "      <td>hi 1200d</td>\n",
              "    </tr>\n",
              "    <tr>\n",
              "      <th>29</th>\n",
              "      <td>27.0</td>\n",
              "      <td>4</td>\n",
              "      <td>97.0</td>\n",
              "      <td>88.0</td>\n",
              "      <td>2130</td>\n",
              "      <td>14.5</td>\n",
              "      <td>71</td>\n",
              "      <td>3</td>\n",
              "      <td>datsun pl510</td>\n",
              "    </tr>\n",
              "  </tbody>\n",
              "</table>\n",
              "</div>\n",
              "    <div class=\"colab-df-buttons\">\n",
              "\n",
              "  <div class=\"colab-df-container\">\n",
              "    <button class=\"colab-df-convert\" onclick=\"convertToInteractive('df-db8c0125-2c3a-45cf-a296-61a1bb85be81')\"\n",
              "            title=\"Convert this dataframe to an interactive table.\"\n",
              "            style=\"display:none;\">\n",
              "\n",
              "  <svg xmlns=\"http://www.w3.org/2000/svg\" height=\"24px\" viewBox=\"0 -960 960 960\">\n",
              "    <path d=\"M120-120v-720h720v720H120Zm60-500h600v-160H180v160Zm220 220h160v-160H400v160Zm0 220h160v-160H400v160ZM180-400h160v-160H180v160Zm440 0h160v-160H620v160ZM180-180h160v-160H180v160Zm440 0h160v-160H620v160Z\"/>\n",
              "  </svg>\n",
              "    </button>\n",
              "\n",
              "  <style>\n",
              "    .colab-df-container {\n",
              "      display:flex;\n",
              "      gap: 12px;\n",
              "    }\n",
              "\n",
              "    .colab-df-convert {\n",
              "      background-color: #E8F0FE;\n",
              "      border: none;\n",
              "      border-radius: 50%;\n",
              "      cursor: pointer;\n",
              "      display: none;\n",
              "      fill: #1967D2;\n",
              "      height: 32px;\n",
              "      padding: 0 0 0 0;\n",
              "      width: 32px;\n",
              "    }\n",
              "\n",
              "    .colab-df-convert:hover {\n",
              "      background-color: #E2EBFA;\n",
              "      box-shadow: 0px 1px 2px rgba(60, 64, 67, 0.3), 0px 1px 3px 1px rgba(60, 64, 67, 0.15);\n",
              "      fill: #174EA6;\n",
              "    }\n",
              "\n",
              "    .colab-df-buttons div {\n",
              "      margin-bottom: 4px;\n",
              "    }\n",
              "\n",
              "    [theme=dark] .colab-df-convert {\n",
              "      background-color: #3B4455;\n",
              "      fill: #D2E3FC;\n",
              "    }\n",
              "\n",
              "    [theme=dark] .colab-df-convert:hover {\n",
              "      background-color: #434B5C;\n",
              "      box-shadow: 0px 1px 3px 1px rgba(0, 0, 0, 0.15);\n",
              "      filter: drop-shadow(0px 1px 2px rgba(0, 0, 0, 0.3));\n",
              "      fill: #FFFFFF;\n",
              "    }\n",
              "  </style>\n",
              "\n",
              "    <script>\n",
              "      const buttonEl =\n",
              "        document.querySelector('#df-db8c0125-2c3a-45cf-a296-61a1bb85be81 button.colab-df-convert');\n",
              "      buttonEl.style.display =\n",
              "        google.colab.kernel.accessAllowed ? 'block' : 'none';\n",
              "\n",
              "      async function convertToInteractive(key) {\n",
              "        const element = document.querySelector('#df-db8c0125-2c3a-45cf-a296-61a1bb85be81');\n",
              "        const dataTable =\n",
              "          await google.colab.kernel.invokeFunction('convertToInteractive',\n",
              "                                                    [key], {});\n",
              "        if (!dataTable) return;\n",
              "\n",
              "        const docLinkHtml = 'Like what you see? Visit the ' +\n",
              "          '<a target=\"_blank\" href=https://colab.research.google.com/notebooks/data_table.ipynb>data table notebook</a>'\n",
              "          + ' to learn more about interactive tables.';\n",
              "        element.innerHTML = '';\n",
              "        dataTable['output_type'] = 'display_data';\n",
              "        await google.colab.output.renderOutput(dataTable, element);\n",
              "        const docLink = document.createElement('div');\n",
              "        docLink.innerHTML = docLinkHtml;\n",
              "        element.appendChild(docLink);\n",
              "      }\n",
              "    </script>\n",
              "  </div>\n",
              "\n",
              "\n",
              "    <div id=\"df-39217c49-5cb6-4496-a01d-5b3d0af7dc5e\">\n",
              "      <button class=\"colab-df-quickchart\" onclick=\"quickchart('df-39217c49-5cb6-4496-a01d-5b3d0af7dc5e')\"\n",
              "                title=\"Suggest charts\"\n",
              "                style=\"display:none;\">\n",
              "\n",
              "<svg xmlns=\"http://www.w3.org/2000/svg\" height=\"24px\"viewBox=\"0 0 24 24\"\n",
              "     width=\"24px\">\n",
              "    <g>\n",
              "        <path d=\"M19 3H5c-1.1 0-2 .9-2 2v14c0 1.1.9 2 2 2h14c1.1 0 2-.9 2-2V5c0-1.1-.9-2-2-2zM9 17H7v-7h2v7zm4 0h-2V7h2v10zm4 0h-2v-4h2v4z\"/>\n",
              "    </g>\n",
              "</svg>\n",
              "      </button>\n",
              "\n",
              "<style>\n",
              "  .colab-df-quickchart {\n",
              "      --bg-color: #E8F0FE;\n",
              "      --fill-color: #1967D2;\n",
              "      --hover-bg-color: #E2EBFA;\n",
              "      --hover-fill-color: #174EA6;\n",
              "      --disabled-fill-color: #AAA;\n",
              "      --disabled-bg-color: #DDD;\n",
              "  }\n",
              "\n",
              "  [theme=dark] .colab-df-quickchart {\n",
              "      --bg-color: #3B4455;\n",
              "      --fill-color: #D2E3FC;\n",
              "      --hover-bg-color: #434B5C;\n",
              "      --hover-fill-color: #FFFFFF;\n",
              "      --disabled-bg-color: #3B4455;\n",
              "      --disabled-fill-color: #666;\n",
              "  }\n",
              "\n",
              "  .colab-df-quickchart {\n",
              "    background-color: var(--bg-color);\n",
              "    border: none;\n",
              "    border-radius: 50%;\n",
              "    cursor: pointer;\n",
              "    display: none;\n",
              "    fill: var(--fill-color);\n",
              "    height: 32px;\n",
              "    padding: 0;\n",
              "    width: 32px;\n",
              "  }\n",
              "\n",
              "  .colab-df-quickchart:hover {\n",
              "    background-color: var(--hover-bg-color);\n",
              "    box-shadow: 0 1px 2px rgba(60, 64, 67, 0.3), 0 1px 3px 1px rgba(60, 64, 67, 0.15);\n",
              "    fill: var(--button-hover-fill-color);\n",
              "  }\n",
              "\n",
              "  .colab-df-quickchart-complete:disabled,\n",
              "  .colab-df-quickchart-complete:disabled:hover {\n",
              "    background-color: var(--disabled-bg-color);\n",
              "    fill: var(--disabled-fill-color);\n",
              "    box-shadow: none;\n",
              "  }\n",
              "\n",
              "  .colab-df-spinner {\n",
              "    border: 2px solid var(--fill-color);\n",
              "    border-color: transparent;\n",
              "    border-bottom-color: var(--fill-color);\n",
              "    animation:\n",
              "      spin 1s steps(1) infinite;\n",
              "  }\n",
              "\n",
              "  @keyframes spin {\n",
              "    0% {\n",
              "      border-color: transparent;\n",
              "      border-bottom-color: var(--fill-color);\n",
              "      border-left-color: var(--fill-color);\n",
              "    }\n",
              "    20% {\n",
              "      border-color: transparent;\n",
              "      border-left-color: var(--fill-color);\n",
              "      border-top-color: var(--fill-color);\n",
              "    }\n",
              "    30% {\n",
              "      border-color: transparent;\n",
              "      border-left-color: var(--fill-color);\n",
              "      border-top-color: var(--fill-color);\n",
              "      border-right-color: var(--fill-color);\n",
              "    }\n",
              "    40% {\n",
              "      border-color: transparent;\n",
              "      border-right-color: var(--fill-color);\n",
              "      border-top-color: var(--fill-color);\n",
              "    }\n",
              "    60% {\n",
              "      border-color: transparent;\n",
              "      border-right-color: var(--fill-color);\n",
              "    }\n",
              "    80% {\n",
              "      border-color: transparent;\n",
              "      border-right-color: var(--fill-color);\n",
              "      border-bottom-color: var(--fill-color);\n",
              "    }\n",
              "    90% {\n",
              "      border-color: transparent;\n",
              "      border-bottom-color: var(--fill-color);\n",
              "    }\n",
              "  }\n",
              "</style>\n",
              "\n",
              "      <script>\n",
              "        async function quickchart(key) {\n",
              "          const quickchartButtonEl =\n",
              "            document.querySelector('#' + key + ' button');\n",
              "          quickchartButtonEl.disabled = true;  // To prevent multiple clicks.\n",
              "          quickchartButtonEl.classList.add('colab-df-spinner');\n",
              "          try {\n",
              "            const charts = await google.colab.kernel.invokeFunction(\n",
              "                'suggestCharts', [key], {});\n",
              "          } catch (error) {\n",
              "            console.error('Error during call to suggestCharts:', error);\n",
              "          }\n",
              "          quickchartButtonEl.classList.remove('colab-df-spinner');\n",
              "          quickchartButtonEl.classList.add('colab-df-quickchart-complete');\n",
              "        }\n",
              "        (() => {\n",
              "          let quickchartButtonEl =\n",
              "            document.querySelector('#df-39217c49-5cb6-4496-a01d-5b3d0af7dc5e button');\n",
              "          quickchartButtonEl.style.display =\n",
              "            google.colab.kernel.accessAllowed ? 'block' : 'none';\n",
              "        })();\n",
              "      </script>\n",
              "    </div>\n",
              "    </div>\n",
              "  </div>\n"
            ],
            "application/vnd.google.colaboratory.intrinsic+json": {
              "type": "dataframe",
              "variable_name": "dataset",
              "summary": "{\n  \"name\": \"dataset\",\n  \"rows\": 398,\n  \"fields\": [\n    {\n      \"column\": \"mpg\",\n      \"properties\": {\n        \"dtype\": \"number\",\n        \"std\": 7.815984312565782,\n        \"min\": 9.0,\n        \"max\": 46.6,\n        \"num_unique_values\": 129,\n        \"samples\": [\n          17.7,\n          30.5,\n          30.0\n        ],\n        \"semantic_type\": \"\",\n        \"description\": \"\"\n      }\n    },\n    {\n      \"column\": \"cylinders\",\n      \"properties\": {\n        \"dtype\": \"number\",\n        \"std\": 1,\n        \"min\": 3,\n        \"max\": 8,\n        \"num_unique_values\": 5,\n        \"samples\": [\n          4,\n          5,\n          6\n        ],\n        \"semantic_type\": \"\",\n        \"description\": \"\"\n      }\n    },\n    {\n      \"column\": \"displacement\",\n      \"properties\": {\n        \"dtype\": \"number\",\n        \"std\": 104.26983817119581,\n        \"min\": 68.0,\n        \"max\": 455.0,\n        \"num_unique_values\": 82,\n        \"samples\": [\n          122.0,\n          307.0,\n          360.0\n        ],\n        \"semantic_type\": \"\",\n        \"description\": \"\"\n      }\n    },\n    {\n      \"column\": \"horsepower\",\n      \"properties\": {\n        \"dtype\": \"number\",\n        \"std\": 38.49115993282855,\n        \"min\": 46.0,\n        \"max\": 230.0,\n        \"num_unique_values\": 93,\n        \"samples\": [\n          92.0,\n          100.0,\n          52.0\n        ],\n        \"semantic_type\": \"\",\n        \"description\": \"\"\n      }\n    },\n    {\n      \"column\": \"weight\",\n      \"properties\": {\n        \"dtype\": \"number\",\n        \"std\": 846,\n        \"min\": 1613,\n        \"max\": 5140,\n        \"num_unique_values\": 351,\n        \"samples\": [\n          3730,\n          1995,\n          2215\n        ],\n        \"semantic_type\": \"\",\n        \"description\": \"\"\n      }\n    },\n    {\n      \"column\": \"acceleration\",\n      \"properties\": {\n        \"dtype\": \"number\",\n        \"std\": 2.7576889298126757,\n        \"min\": 8.0,\n        \"max\": 24.8,\n        \"num_unique_values\": 95,\n        \"samples\": [\n          14.7,\n          18.0,\n          14.3\n        ],\n        \"semantic_type\": \"\",\n        \"description\": \"\"\n      }\n    },\n    {\n      \"column\": \"model year\",\n      \"properties\": {\n        \"dtype\": \"number\",\n        \"std\": 3,\n        \"min\": 70,\n        \"max\": 82,\n        \"num_unique_values\": 13,\n        \"samples\": [\n          81,\n          79,\n          70\n        ],\n        \"semantic_type\": \"\",\n        \"description\": \"\"\n      }\n    },\n    {\n      \"column\": \"origin\",\n      \"properties\": {\n        \"dtype\": \"number\",\n        \"std\": 0,\n        \"min\": 1,\n        \"max\": 3,\n        \"num_unique_values\": 3,\n        \"samples\": [\n          1,\n          3,\n          2\n        ],\n        \"semantic_type\": \"\",\n        \"description\": \"\"\n      }\n    },\n    {\n      \"column\": \"car name\",\n      \"properties\": {\n        \"dtype\": \"string\",\n        \"num_unique_values\": 305,\n        \"samples\": [\n          \"mazda rx-4\",\n          \"ford f108\",\n          \"buick century luxus (sw)\"\n        ],\n        \"semantic_type\": \"\",\n        \"description\": \"\"\n      }\n    }\n  ]\n}"
            }
          },
          "metadata": {},
          "execution_count": 469
        }
      ],
      "source": [
        "dataset.head(30)"
      ]
    },
    {
      "cell_type": "markdown",
      "source": [
        "Оценим размеры датасета"
      ],
      "metadata": {
        "id": "foStmvv4C7Ls"
      }
    },
    {
      "cell_type": "code",
      "source": [
        "dataset.shape"
      ],
      "metadata": {
        "colab": {
          "base_uri": "https://localhost:8080/"
        },
        "id": "X5qY6nYPC8DS",
        "outputId": "d05ce8b7-92cb-492a-b0f6-d6aa4eedc5fe"
      },
      "execution_count": 470,
      "outputs": [
        {
          "output_type": "execute_result",
          "data": {
            "text/plain": [
              "(398, 9)"
            ]
          },
          "metadata": {},
          "execution_count": 470
        }
      ]
    },
    {
      "cell_type": "markdown",
      "source": [
        "Оценим наличие полных дубликатов в датасете"
      ],
      "metadata": {
        "id": "NLjTsnWqDAb4"
      }
    },
    {
      "cell_type": "code",
      "source": [
        "dataset.duplicated(keep=False).sum()"
      ],
      "metadata": {
        "colab": {
          "base_uri": "https://localhost:8080/"
        },
        "id": "pr3JNsqLDBG7",
        "outputId": "d8b68f4c-c508-4928-c2e0-e96804987efd"
      },
      "execution_count": 471,
      "outputs": [
        {
          "output_type": "execute_result",
          "data": {
            "text/plain": [
              "np.int64(0)"
            ]
          },
          "metadata": {},
          "execution_count": 471
        }
      ]
    },
    {
      "cell_type": "markdown",
      "source": [
        "Оценим наличие пропущенных значений в датасете"
      ],
      "metadata": {
        "id": "YfOfT3lFDLcv"
      }
    },
    {
      "cell_type": "code",
      "source": [
        "\n",
        "dataset.isnull().sum()"
      ],
      "metadata": {
        "colab": {
          "base_uri": "https://localhost:8080/",
          "height": 0
        },
        "id": "7-OMk48VDMAu",
        "outputId": "cf80f30d-6497-4313-90b8-98b65841dafb"
      },
      "execution_count": 472,
      "outputs": [
        {
          "output_type": "execute_result",
          "data": {
            "text/plain": [
              "mpg             0\n",
              "cylinders       0\n",
              "displacement    0\n",
              "horsepower      6\n",
              "weight          0\n",
              "acceleration    0\n",
              "model year      0\n",
              "origin          0\n",
              "car name        0\n",
              "dtype: int64"
            ],
            "text/html": [
              "<div>\n",
              "<style scoped>\n",
              "    .dataframe tbody tr th:only-of-type {\n",
              "        vertical-align: middle;\n",
              "    }\n",
              "\n",
              "    .dataframe tbody tr th {\n",
              "        vertical-align: top;\n",
              "    }\n",
              "\n",
              "    .dataframe thead th {\n",
              "        text-align: right;\n",
              "    }\n",
              "</style>\n",
              "<table border=\"1\" class=\"dataframe\">\n",
              "  <thead>\n",
              "    <tr style=\"text-align: right;\">\n",
              "      <th></th>\n",
              "      <th>0</th>\n",
              "    </tr>\n",
              "  </thead>\n",
              "  <tbody>\n",
              "    <tr>\n",
              "      <th>mpg</th>\n",
              "      <td>0</td>\n",
              "    </tr>\n",
              "    <tr>\n",
              "      <th>cylinders</th>\n",
              "      <td>0</td>\n",
              "    </tr>\n",
              "    <tr>\n",
              "      <th>displacement</th>\n",
              "      <td>0</td>\n",
              "    </tr>\n",
              "    <tr>\n",
              "      <th>horsepower</th>\n",
              "      <td>6</td>\n",
              "    </tr>\n",
              "    <tr>\n",
              "      <th>weight</th>\n",
              "      <td>0</td>\n",
              "    </tr>\n",
              "    <tr>\n",
              "      <th>acceleration</th>\n",
              "      <td>0</td>\n",
              "    </tr>\n",
              "    <tr>\n",
              "      <th>model year</th>\n",
              "      <td>0</td>\n",
              "    </tr>\n",
              "    <tr>\n",
              "      <th>origin</th>\n",
              "      <td>0</td>\n",
              "    </tr>\n",
              "    <tr>\n",
              "      <th>car name</th>\n",
              "      <td>0</td>\n",
              "    </tr>\n",
              "  </tbody>\n",
              "</table>\n",
              "</div><br><label><b>dtype:</b> int64</label>"
            ]
          },
          "metadata": {},
          "execution_count": 472
        }
      ]
    },
    {
      "cell_type": "markdown",
      "source": [
        "Визуализируем пропуски"
      ],
      "metadata": {
        "id": "RSncBTPWDPCQ"
      }
    },
    {
      "cell_type": "code",
      "source": [
        "sns.set()\n",
        "msno.bar(dataset, figsize=(14, 8))\n",
        "plt.show()"
      ],
      "metadata": {
        "colab": {
          "base_uri": "https://localhost:8080/",
          "height": 0
        },
        "id": "P2CWQQI6DRMZ",
        "outputId": "a80a2e74-1f38-4645-9253-f5136a77be4f"
      },
      "execution_count": 473,
      "outputs": [
        {
          "output_type": "display_data",
          "data": {
            "text/plain": [
              "<Figure size 1400x800 with 3 Axes>"
            ],
            "image/png": "[encoded data removed]"
          },
          "metadata": {}
        }
      ]
    },
    {
      "cell_type": "markdown",
      "metadata": {
        "id": "59H3QA0VA4QA"
      },
      "source": [
        "Просмотрим информацию о датасете"
      ]
    },
    {
      "cell_type": "code",
      "execution_count": 474,
      "metadata": {
        "colab": {
          "base_uri": "https://localhost:8080/"
        },
        "id": "9r2PgVi9BDpd",
        "outputId": "e9ebcb71-5966-4752-e332-1b20097468a6"
      },
      "outputs": [
        {
          "output_type": "stream",
          "name": "stdout",
          "text": [
            "<class 'pandas.core.frame.DataFrame'>\n",
            "RangeIndex: 398 entries, 0 to 397\n",
            "Data columns (total 9 columns):\n",
            " #   Column        Non-Null Count  Dtype  \n",
            "---  ------        --------------  -----  \n",
            " 0   mpg           398 non-null    float64\n",
            " 1   cylinders     398 non-null    int64  \n",
            " 2   displacement  398 non-null    float64\n",
            " 3   horsepower    392 non-null    float64\n",
            " 4   weight        398 non-null    int64  \n",
            " 5   acceleration  398 non-null    float64\n",
            " 6   model year    398 non-null    int64  \n",
            " 7   origin        398 non-null    int64  \n",
            " 8   car name      398 non-null    object \n",
            "dtypes: float64(4), int64(4), object(1)\n",
            "memory usage: 28.1+ KB\n"
          ]
        }
      ],
      "source": [
        "dataset.info()"
      ]
    },
    {
      "cell_type": "markdown",
      "metadata": {
        "id": "5TKYcwZVfSRV"
      },
      "source": [
        "Выводы по предварительному осмотру:\n",
        "\n",
        "  * О размерах датасета:\n",
        "\n",
        "      - 398 строк (наблюдений), 9 столбцов (признаков)\n",
        "\n",
        "  * О типах данных:\n",
        "\n",
        "    - Количественные признаки:\n",
        "\n",
        "      * miles per gallon (mpg)\n",
        "\n",
        "      * cylinders\n",
        "\n",
        "      * displacement\n",
        "\n",
        "      * horsepower\n",
        "\n",
        "      * weight\n",
        "\n",
        "      * acceleration\n",
        "\n",
        "      * model year\n",
        "\n",
        "      * origin\n",
        "\n",
        "    - Категориальные признаки:\n",
        "\n",
        "      * car name\n",
        "\n",
        "  * О дубликатах:\n",
        "\n",
        "    - Полные дубликаты отсутствуют\n",
        "\n",
        "  * О пропущенных значениях:\n",
        "\n",
        "    - В большинстве признаков пропусков нет.\n",
        "\n",
        "    - Пропущенные значения (в количестве 6) присутствуют в признаке horsepower.\n",
        "\n",
        "    - Возможно на этапе обработки признаков появятся нулевые значения там, где их быть не должно.\n",
        "\n"
      ]
    },
    {
      "cell_type": "markdown",
      "metadata": {
        "id": "BQBuAPeKTFgR"
      },
      "source": [
        "## 4. Предобработка данных"
      ]
    },
    {
      "cell_type": "markdown",
      "source": [
        "### 4.1 Признак mpg"
      ],
      "metadata": {
        "id": "SEXcvzuA6_Nb"
      }
    },
    {
      "cell_type": "markdown",
      "source": [
        "Запишем имя признака в переменную sign"
      ],
      "metadata": {
        "id": "k7H5Y9wl7Pzk"
      }
    },
    {
      "cell_type": "code",
      "source": [
        "sign = 'mpg'"
      ],
      "metadata": {
        "id": "SZ65ig6f7TUH"
      },
      "execution_count": 475,
      "outputs": []
    },
    {
      "cell_type": "markdown",
      "source": [
        "Выведем признак для просмотра содержимого"
      ],
      "metadata": {
        "id": "8nD2iW6C7rkb"
      }
    },
    {
      "cell_type": "code",
      "source": [
        "dataset[sign].head(10)"
      ],
      "metadata": {
        "colab": {
          "base_uri": "https://localhost:8080/",
          "height": 0
        },
        "id": "5N6Gqc7a7r7e",
        "outputId": "90d18279-4ad5-489a-ccc4-27e23b7a9957"
      },
      "execution_count": 476,
      "outputs": [
        {
          "output_type": "execute_result",
          "data": {
            "text/plain": [
              "0    18.0\n",
              "1    15.0\n",
              "2    18.0\n",
              "3    16.0\n",
              "4    17.0\n",
              "5    15.0\n",
              "6    14.0\n",
              "7    14.0\n",
              "8    14.0\n",
              "9    15.0\n",
              "Name: mpg, dtype: float64"
            ],
            "text/html": [
              "<div>\n",
              "<style scoped>\n",
              "    .dataframe tbody tr th:only-of-type {\n",
              "        vertical-align: middle;\n",
              "    }\n",
              "\n",
              "    .dataframe tbody tr th {\n",
              "        vertical-align: top;\n",
              "    }\n",
              "\n",
              "    .dataframe thead th {\n",
              "        text-align: right;\n",
              "    }\n",
              "</style>\n",
              "<table border=\"1\" class=\"dataframe\">\n",
              "  <thead>\n",
              "    <tr style=\"text-align: right;\">\n",
              "      <th></th>\n",
              "      <th>mpg</th>\n",
              "    </tr>\n",
              "  </thead>\n",
              "  <tbody>\n",
              "    <tr>\n",
              "      <th>0</th>\n",
              "      <td>18.0</td>\n",
              "    </tr>\n",
              "    <tr>\n",
              "      <th>1</th>\n",
              "      <td>15.0</td>\n",
              "    </tr>\n",
              "    <tr>\n",
              "      <th>2</th>\n",
              "      <td>18.0</td>\n",
              "    </tr>\n",
              "    <tr>\n",
              "      <th>3</th>\n",
              "      <td>16.0</td>\n",
              "    </tr>\n",
              "    <tr>\n",
              "      <th>4</th>\n",
              "      <td>17.0</td>\n",
              "    </tr>\n",
              "    <tr>\n",
              "      <th>5</th>\n",
              "      <td>15.0</td>\n",
              "    </tr>\n",
              "    <tr>\n",
              "      <th>6</th>\n",
              "      <td>14.0</td>\n",
              "    </tr>\n",
              "    <tr>\n",
              "      <th>7</th>\n",
              "      <td>14.0</td>\n",
              "    </tr>\n",
              "    <tr>\n",
              "      <th>8</th>\n",
              "      <td>14.0</td>\n",
              "    </tr>\n",
              "    <tr>\n",
              "      <th>9</th>\n",
              "      <td>15.0</td>\n",
              "    </tr>\n",
              "  </tbody>\n",
              "</table>\n",
              "</div><br><label><b>dtype:</b> float64</label>"
            ]
          },
          "metadata": {},
          "execution_count": 476
        }
      ]
    },
    {
      "cell_type": "markdown",
      "source": [
        "Выведем уникальные значения"
      ],
      "metadata": {
        "id": "EVkaB8C277Vd"
      }
    },
    {
      "cell_type": "code",
      "source": [
        "dataset[sign].unique()"
      ],
      "metadata": {
        "colab": {
          "base_uri": "https://localhost:8080/"
        },
        "id": "l0dMrSJ279Nu",
        "outputId": "635f142d-ed5d-4a30-e753-057edb7fb0d5"
      },
      "execution_count": 477,
      "outputs": [
        {
          "output_type": "execute_result",
          "data": {
            "text/plain": [
              "array([18. , 15. , 16. , 17. , 14. , 24. , 22. , 21. , 27. , 26. , 25. ,\n",
              "       10. , 11. ,  9. , 28. , 19. , 12. , 13. , 23. , 30. , 31. , 35. ,\n",
              "       20. , 29. , 32. , 33. , 17.5, 15.5, 14.5, 22.5, 24.5, 18.5, 29.5,\n",
              "       26.5, 16.5, 31.5, 36. , 25.5, 33.5, 20.5, 30.5, 21.5, 43.1, 36.1,\n",
              "       32.8, 39.4, 19.9, 19.4, 20.2, 19.2, 25.1, 20.6, 20.8, 18.6, 18.1,\n",
              "       17.7, 27.5, 27.2, 30.9, 21.1, 23.2, 23.8, 23.9, 20.3, 21.6, 16.2,\n",
              "       19.8, 22.3, 17.6, 18.2, 16.9, 31.9, 34.1, 35.7, 27.4, 25.4, 34.2,\n",
              "       34.5, 31.8, 37.3, 28.4, 28.8, 26.8, 41.5, 38.1, 32.1, 37.2, 26.4,\n",
              "       24.3, 19.1, 34.3, 29.8, 31.3, 37. , 32.2, 46.6, 27.9, 40.8, 44.3,\n",
              "       43.4, 36.4, 44.6, 40.9, 33.8, 32.7, 23.7, 23.6, 32.4, 26.6, 25.8,\n",
              "       23.5, 39.1, 39. , 35.1, 32.3, 37.7, 34.7, 34.4, 29.9, 33.7, 32.9,\n",
              "       31.6, 28.1, 30.7, 24.2, 22.4, 34. , 38. , 44. ])"
            ]
          },
          "metadata": {},
          "execution_count": 477
        }
      ]
    },
    {
      "cell_type": "markdown",
      "source": [
        "Выведем количество уникальных значений"
      ],
      "metadata": {
        "id": "KFF453Q8ABZU"
      }
    },
    {
      "cell_type": "code",
      "source": [
        "dataset[sign].unique().shape"
      ],
      "metadata": {
        "colab": {
          "base_uri": "https://localhost:8080/"
        },
        "id": "YgDXprEWACOO",
        "outputId": "5b06f1c2-5c5d-44fc-880a-11e8d87135a2"
      },
      "execution_count": 478,
      "outputs": [
        {
          "output_type": "execute_result",
          "data": {
            "text/plain": [
              "(129,)"
            ]
          },
          "metadata": {},
          "execution_count": 478
        }
      ]
    },
    {
      "cell_type": "markdown",
      "source": [
        "Посмотрим наличие дубликатов"
      ],
      "metadata": {
        "id": "Sue5jGkM8MAC"
      }
    },
    {
      "cell_type": "code",
      "source": [
        "dataset.duplicated(subset=sign).sum()"
      ],
      "metadata": {
        "colab": {
          "base_uri": "https://localhost:8080/"
        },
        "id": "BUBDBtwA8N7v",
        "outputId": "6bd7f315-26cd-4ec9-99e0-81323faca984"
      },
      "execution_count": 479,
      "outputs": [
        {
          "output_type": "execute_result",
          "data": {
            "text/plain": [
              "np.int64(269)"
            ]
          },
          "metadata": {},
          "execution_count": 479
        }
      ]
    },
    {
      "cell_type": "markdown",
      "source": [
        "Построим графически на пропущенные значения"
      ],
      "metadata": {
        "id": "45ksmA_HBhdp"
      }
    },
    {
      "cell_type": "code",
      "source": [
        "sns.set()\n",
        "msno.bar(dataset[[sign]], figsize=(14, 8))\n",
        "plt.show()"
      ],
      "metadata": {
        "colab": {
          "base_uri": "https://localhost:8080/",
          "height": 0
        },
        "id": "brUSy-BvBiHQ",
        "outputId": "bbf623cd-f0c3-45ba-e1f3-f83acd15cd30"
      },
      "execution_count": 480,
      "outputs": [
        {
          "output_type": "display_data",
          "data": {
            "text/plain": [
              "<Figure size 1400x800 with 3 Axes>"
            ],
            "image/png": "[encoded data removed]"
          },
          "metadata": {}
        }
      ]
    },
    {
      "cell_type": "markdown",
      "source": [
        "Посмотрим информациб о датасете"
      ],
      "metadata": {
        "id": "HTL7FVg00qaM"
      }
    },
    {
      "cell_type": "code",
      "source": [
        "dataset.info()"
      ],
      "metadata": {
        "colab": {
          "base_uri": "https://localhost:8080/"
        },
        "id": "eV9U8Tt20qaN",
        "outputId": "77a9ea4a-1ad7-41a8-f13b-e2eaf85b7ac8"
      },
      "execution_count": 481,
      "outputs": [
        {
          "output_type": "stream",
          "name": "stdout",
          "text": [
            "<class 'pandas.core.frame.DataFrame'>\n",
            "RangeIndex: 398 entries, 0 to 397\n",
            "Data columns (total 9 columns):\n",
            " #   Column        Non-Null Count  Dtype  \n",
            "---  ------        --------------  -----  \n",
            " 0   mpg           398 non-null    float64\n",
            " 1   cylinders     398 non-null    int64  \n",
            " 2   displacement  398 non-null    float64\n",
            " 3   horsepower    392 non-null    float64\n",
            " 4   weight        398 non-null    int64  \n",
            " 5   acceleration  398 non-null    float64\n",
            " 6   model year    398 non-null    int64  \n",
            " 7   origin        398 non-null    int64  \n",
            " 8   car name      398 non-null    object \n",
            "dtypes: float64(4), int64(4), object(1)\n",
            "memory usage: 28.1+ KB\n"
          ]
        }
      ]
    },
    {
      "cell_type": "markdown",
      "source": [
        "Выводы по обработке признака:\n",
        "\n",
        "  - Аномалии не были найдены\n",
        "\n",
        "  - После обработки количество признаков и наблюдений не изменилось"
      ],
      "metadata": {
        "id": "Z1pU4mLi8lUk"
      }
    },
    {
      "cell_type": "markdown",
      "source": [
        "### 4.2 Признак cylinders"
      ],
      "metadata": {
        "id": "4b32tAjOP0qV"
      }
    },
    {
      "cell_type": "markdown",
      "source": [
        "Запишем имя признака в переменную sign"
      ],
      "metadata": {
        "id": "xLEJJXT-P0qV"
      }
    },
    {
      "cell_type": "code",
      "source": [
        "sign = 'cylinders'"
      ],
      "metadata": {
        "id": "0pn3pcQtP0qV"
      },
      "execution_count": 482,
      "outputs": []
    },
    {
      "cell_type": "markdown",
      "source": [
        "Выведем признак для просмотра содержимого"
      ],
      "metadata": {
        "id": "RzB8MVRrP0qW"
      }
    },
    {
      "cell_type": "code",
      "source": [
        "dataset[sign].head(10)"
      ],
      "metadata": {
        "colab": {
          "base_uri": "https://localhost:8080/",
          "height": 0
        },
        "outputId": "1481fb5a-0441-4e34-e687-e695dfd6cf3e",
        "id": "moWrg46eP0qW"
      },
      "execution_count": 483,
      "outputs": [
        {
          "output_type": "execute_result",
          "data": {
            "text/plain": [
              "0    8\n",
              "1    8\n",
              "2    8\n",
              "3    8\n",
              "4    8\n",
              "5    8\n",
              "6    8\n",
              "7    8\n",
              "8    8\n",
              "9    8\n",
              "Name: cylinders, dtype: int64"
            ],
            "text/html": [
              "<div>\n",
              "<style scoped>\n",
              "    .dataframe tbody tr th:only-of-type {\n",
              "        vertical-align: middle;\n",
              "    }\n",
              "\n",
              "    .dataframe tbody tr th {\n",
              "        vertical-align: top;\n",
              "    }\n",
              "\n",
              "    .dataframe thead th {\n",
              "        text-align: right;\n",
              "    }\n",
              "</style>\n",
              "<table border=\"1\" class=\"dataframe\">\n",
              "  <thead>\n",
              "    <tr style=\"text-align: right;\">\n",
              "      <th></th>\n",
              "      <th>cylinders</th>\n",
              "    </tr>\n",
              "  </thead>\n",
              "  <tbody>\n",
              "    <tr>\n",
              "      <th>0</th>\n",
              "      <td>8</td>\n",
              "    </tr>\n",
              "    <tr>\n",
              "      <th>1</th>\n",
              "      <td>8</td>\n",
              "    </tr>\n",
              "    <tr>\n",
              "      <th>2</th>\n",
              "      <td>8</td>\n",
              "    </tr>\n",
              "    <tr>\n",
              "      <th>3</th>\n",
              "      <td>8</td>\n",
              "    </tr>\n",
              "    <tr>\n",
              "      <th>4</th>\n",
              "      <td>8</td>\n",
              "    </tr>\n",
              "    <tr>\n",
              "      <th>5</th>\n",
              "      <td>8</td>\n",
              "    </tr>\n",
              "    <tr>\n",
              "      <th>6</th>\n",
              "      <td>8</td>\n",
              "    </tr>\n",
              "    <tr>\n",
              "      <th>7</th>\n",
              "      <td>8</td>\n",
              "    </tr>\n",
              "    <tr>\n",
              "      <th>8</th>\n",
              "      <td>8</td>\n",
              "    </tr>\n",
              "    <tr>\n",
              "      <th>9</th>\n",
              "      <td>8</td>\n",
              "    </tr>\n",
              "  </tbody>\n",
              "</table>\n",
              "</div><br><label><b>dtype:</b> int64</label>"
            ]
          },
          "metadata": {},
          "execution_count": 483
        }
      ]
    },
    {
      "cell_type": "markdown",
      "source": [
        "Выведем уникальные значения"
      ],
      "metadata": {
        "id": "0FN7-9ViP0qW"
      }
    },
    {
      "cell_type": "code",
      "source": [
        "dataset[sign].unique()"
      ],
      "metadata": {
        "colab": {
          "base_uri": "https://localhost:8080/"
        },
        "outputId": "f02e402a-deb7-45af-f6f8-587df86b0fad",
        "id": "J2RO-KzsP0qW"
      },
      "execution_count": 484,
      "outputs": [
        {
          "output_type": "execute_result",
          "data": {
            "text/plain": [
              "array([8, 4, 6, 3, 5])"
            ]
          },
          "metadata": {},
          "execution_count": 484
        }
      ]
    },
    {
      "cell_type": "markdown",
      "source": [
        "Выведем количество уникальных значений"
      ],
      "metadata": {
        "id": "CiJv8wpOP0qW"
      }
    },
    {
      "cell_type": "code",
      "source": [
        "dataset[sign].unique().shape"
      ],
      "metadata": {
        "colab": {
          "base_uri": "https://localhost:8080/"
        },
        "outputId": "7e395e54-0de9-4024-a972-c75b42985d28",
        "id": "203p5KbWP0qW"
      },
      "execution_count": 485,
      "outputs": [
        {
          "output_type": "execute_result",
          "data": {
            "text/plain": [
              "(5,)"
            ]
          },
          "metadata": {},
          "execution_count": 485
        }
      ]
    },
    {
      "cell_type": "markdown",
      "source": [
        "Посмотрим наличие дубликатов"
      ],
      "metadata": {
        "id": "fVuACWQ3P0qW"
      }
    },
    {
      "cell_type": "code",
      "source": [
        "dataset.duplicated(subset=sign).sum()"
      ],
      "metadata": {
        "colab": {
          "base_uri": "https://localhost:8080/"
        },
        "outputId": "39a043c4-ba89-4e9f-b004-580e59559c33",
        "id": "7vkf2jQ6P0qW"
      },
      "execution_count": 486,
      "outputs": [
        {
          "output_type": "execute_result",
          "data": {
            "text/plain": [
              "np.int64(393)"
            ]
          },
          "metadata": {},
          "execution_count": 486
        }
      ]
    },
    {
      "cell_type": "markdown",
      "source": [
        "Построим графически на пропущенные значения"
      ],
      "metadata": {
        "id": "SoDskHBWP0qX"
      }
    },
    {
      "cell_type": "code",
      "source": [
        "sns.set()\n",
        "msno.bar(dataset[[sign]], figsize=(14, 8))\n",
        "plt.show()"
      ],
      "metadata": {
        "colab": {
          "base_uri": "https://localhost:8080/",
          "height": 0
        },
        "outputId": "ed9d7739-e49f-48c3-e9fe-6f35accc006e",
        "id": "XEu6PAqLP0qX"
      },
      "execution_count": 487,
      "outputs": [
        {
          "output_type": "display_data",
          "data": {
            "text/plain": [
              "<Figure size 1400x800 with 3 Axes>"
            ],
            "image/png": "[encoded data removed]"
          },
          "metadata": {}
        }
      ]
    },
    {
      "cell_type": "markdown",
      "source": [
        "Посмотрим информациб о датасете"
      ],
      "metadata": {
        "id": "Wpuf4X1r0mfr"
      }
    },
    {
      "cell_type": "code",
      "source": [
        "dataset.info()"
      ],
      "metadata": {
        "colab": {
          "base_uri": "https://localhost:8080/"
        },
        "id": "2IXaQ3b80mfr",
        "outputId": "1b215c22-8157-44b6-a0ed-0b7e9cca9b11"
      },
      "execution_count": 488,
      "outputs": [
        {
          "output_type": "stream",
          "name": "stdout",
          "text": [
            "<class 'pandas.core.frame.DataFrame'>\n",
            "RangeIndex: 398 entries, 0 to 397\n",
            "Data columns (total 9 columns):\n",
            " #   Column        Non-Null Count  Dtype  \n",
            "---  ------        --------------  -----  \n",
            " 0   mpg           398 non-null    float64\n",
            " 1   cylinders     398 non-null    int64  \n",
            " 2   displacement  398 non-null    float64\n",
            " 3   horsepower    392 non-null    float64\n",
            " 4   weight        398 non-null    int64  \n",
            " 5   acceleration  398 non-null    float64\n",
            " 6   model year    398 non-null    int64  \n",
            " 7   origin        398 non-null    int64  \n",
            " 8   car name      398 non-null    object \n",
            "dtypes: float64(4), int64(4), object(1)\n",
            "memory usage: 28.1+ KB\n"
          ]
        }
      ]
    },
    {
      "cell_type": "markdown",
      "source": [
        "Выводы по обработке признака:\n",
        "\n",
        "  - Аномалии не были найдены\n",
        "\n",
        "  - После обработки количество признаков и наблюдений не изменилось"
      ],
      "metadata": {
        "id": "VryW55EbP0qX"
      }
    },
    {
      "cell_type": "markdown",
      "source": [
        "### 4.3 Признак displacement"
      ],
      "metadata": {
        "id": "oTldGMorUW2e"
      }
    },
    {
      "cell_type": "markdown",
      "source": [
        "Запишем имя признака в переменную sign"
      ],
      "metadata": {
        "id": "j_3KgjkRUW2f"
      }
    },
    {
      "cell_type": "code",
      "source": [
        "sign = 'displacement'"
      ],
      "metadata": {
        "id": "W2-ZcBEEUW2f"
      },
      "execution_count": 489,
      "outputs": []
    },
    {
      "cell_type": "markdown",
      "source": [
        "Выведем признак для просмотра содержимого"
      ],
      "metadata": {
        "id": "0736A-yrUW2f"
      }
    },
    {
      "cell_type": "code",
      "source": [
        "dataset[sign].head(10)"
      ],
      "metadata": {
        "colab": {
          "base_uri": "https://localhost:8080/",
          "height": 0
        },
        "outputId": "b5289ac7-4836-46d8-c3d6-b5b6a7548c1e",
        "id": "fuGed-UMUW2f"
      },
      "execution_count": 490,
      "outputs": [
        {
          "output_type": "execute_result",
          "data": {
            "text/plain": [
              "0    307.0\n",
              "1    350.0\n",
              "2    318.0\n",
              "3    304.0\n",
              "4    302.0\n",
              "5    429.0\n",
              "6    454.0\n",
              "7    440.0\n",
              "8    455.0\n",
              "9    390.0\n",
              "Name: displacement, dtype: float64"
            ],
            "text/html": [
              "<div>\n",
              "<style scoped>\n",
              "    .dataframe tbody tr th:only-of-type {\n",
              "        vertical-align: middle;\n",
              "    }\n",
              "\n",
              "    .dataframe tbody tr th {\n",
              "        vertical-align: top;\n",
              "    }\n",
              "\n",
              "    .dataframe thead th {\n",
              "        text-align: right;\n",
              "    }\n",
              "</style>\n",
              "<table border=\"1\" class=\"dataframe\">\n",
              "  <thead>\n",
              "    <tr style=\"text-align: right;\">\n",
              "      <th></th>\n",
              "      <th>displacement</th>\n",
              "    </tr>\n",
              "  </thead>\n",
              "  <tbody>\n",
              "    <tr>\n",
              "      <th>0</th>\n",
              "      <td>307.0</td>\n",
              "    </tr>\n",
              "    <tr>\n",
              "      <th>1</th>\n",
              "      <td>350.0</td>\n",
              "    </tr>\n",
              "    <tr>\n",
              "      <th>2</th>\n",
              "      <td>318.0</td>\n",
              "    </tr>\n",
              "    <tr>\n",
              "      <th>3</th>\n",
              "      <td>304.0</td>\n",
              "    </tr>\n",
              "    <tr>\n",
              "      <th>4</th>\n",
              "      <td>302.0</td>\n",
              "    </tr>\n",
              "    <tr>\n",
              "      <th>5</th>\n",
              "      <td>429.0</td>\n",
              "    </tr>\n",
              "    <tr>\n",
              "      <th>6</th>\n",
              "      <td>454.0</td>\n",
              "    </tr>\n",
              "    <tr>\n",
              "      <th>7</th>\n",
              "      <td>440.0</td>\n",
              "    </tr>\n",
              "    <tr>\n",
              "      <th>8</th>\n",
              "      <td>455.0</td>\n",
              "    </tr>\n",
              "    <tr>\n",
              "      <th>9</th>\n",
              "      <td>390.0</td>\n",
              "    </tr>\n",
              "  </tbody>\n",
              "</table>\n",
              "</div><br><label><b>dtype:</b> float64</label>"
            ]
          },
          "metadata": {},
          "execution_count": 490
        }
      ]
    },
    {
      "cell_type": "markdown",
      "source": [
        "Выведем уникальные значения"
      ],
      "metadata": {
        "id": "Xkg2aKovUW2g"
      }
    },
    {
      "cell_type": "code",
      "source": [
        "dataset[sign].unique()"
      ],
      "metadata": {
        "colab": {
          "base_uri": "https://localhost:8080/"
        },
        "outputId": "80c263e2-5893-4f16-8e20-f30ca9056de7",
        "id": "m1IFFc-KUW2g"
      },
      "execution_count": 491,
      "outputs": [
        {
          "output_type": "execute_result",
          "data": {
            "text/plain": [
              "array([307. , 350. , 318. , 304. , 302. , 429. , 454. , 440. , 455. ,\n",
              "       390. , 383. , 340. , 400. , 113. , 198. , 199. , 200. ,  97. ,\n",
              "       110. , 107. , 104. , 121. , 360. , 140. ,  98. , 232. , 225. ,\n",
              "       250. , 351. , 258. , 122. , 116. ,  79. ,  88. ,  71. ,  72. ,\n",
              "        91. ,  97.5,  70. , 120. ,  96. , 108. , 155. ,  68. , 114. ,\n",
              "       156. ,  76. ,  83. ,  90. , 231. , 262. , 134. , 119. , 171. ,\n",
              "       115. , 101. , 305. ,  85. , 130. , 168. , 111. , 260. , 151. ,\n",
              "       146. ,  80. ,  78. , 105. , 131. , 163. ,  89. , 267. ,  86. ,\n",
              "       183. , 141. , 173. , 135. ,  81. , 100. , 145. , 112. , 181. ,\n",
              "       144. ])"
            ]
          },
          "metadata": {},
          "execution_count": 491
        }
      ]
    },
    {
      "cell_type": "markdown",
      "source": [
        "Выведем количество уникальных значений"
      ],
      "metadata": {
        "id": "pNz7iyn5UW2g"
      }
    },
    {
      "cell_type": "code",
      "source": [
        "dataset[sign].unique().shape"
      ],
      "metadata": {
        "colab": {
          "base_uri": "https://localhost:8080/"
        },
        "outputId": "46ef7be5-64e6-48d0-f217-a5ed0c12a452",
        "id": "q_MRwoDoUW2g"
      },
      "execution_count": 492,
      "outputs": [
        {
          "output_type": "execute_result",
          "data": {
            "text/plain": [
              "(82,)"
            ]
          },
          "metadata": {},
          "execution_count": 492
        }
      ]
    },
    {
      "cell_type": "markdown",
      "source": [
        "Посмотрим наличие дубликатов"
      ],
      "metadata": {
        "id": "ZD3uzrlfUW2g"
      }
    },
    {
      "cell_type": "code",
      "source": [
        "dataset.duplicated(subset=sign).sum()"
      ],
      "metadata": {
        "colab": {
          "base_uri": "https://localhost:8080/"
        },
        "outputId": "1e045f1b-cab9-459d-844b-9628009b3fa5",
        "id": "-PITGkpIUW2g"
      },
      "execution_count": 493,
      "outputs": [
        {
          "output_type": "execute_result",
          "data": {
            "text/plain": [
              "np.int64(316)"
            ]
          },
          "metadata": {},
          "execution_count": 493
        }
      ]
    },
    {
      "cell_type": "markdown",
      "source": [
        "Построим графически на пропущенные значения"
      ],
      "metadata": {
        "id": "3w5StLfbUW2h"
      }
    },
    {
      "cell_type": "code",
      "source": [
        "sns.set()\n",
        "msno.bar(dataset[[sign]], figsize=(14, 8))\n",
        "plt.show()"
      ],
      "metadata": {
        "colab": {
          "base_uri": "https://localhost:8080/",
          "height": 0
        },
        "outputId": "6208869a-8e90-4459-a18a-d0700e5e27b5",
        "id": "j6eDFp6OUW2h"
      },
      "execution_count": 494,
      "outputs": [
        {
          "output_type": "display_data",
          "data": {
            "text/plain": [
              "<Figure size 1400x800 with 3 Axes>"
            ],
            "image/png": "[encoded data removed]"
          },
          "metadata": {}
        }
      ]
    },
    {
      "cell_type": "markdown",
      "source": [
        "Посмотрим информациб о датасете"
      ],
      "metadata": {
        "id": "BFanw6cS0jEi"
      }
    },
    {
      "cell_type": "code",
      "source": [
        "dataset.info()"
      ],
      "metadata": {
        "colab": {
          "base_uri": "https://localhost:8080/"
        },
        "id": "Xgksywvx0jEj",
        "outputId": "e5929b53-7e37-451a-e898-6553f3123397"
      },
      "execution_count": 495,
      "outputs": [
        {
          "output_type": "stream",
          "name": "stdout",
          "text": [
            "<class 'pandas.core.frame.DataFrame'>\n",
            "RangeIndex: 398 entries, 0 to 397\n",
            "Data columns (total 9 columns):\n",
            " #   Column        Non-Null Count  Dtype  \n",
            "---  ------        --------------  -----  \n",
            " 0   mpg           398 non-null    float64\n",
            " 1   cylinders     398 non-null    int64  \n",
            " 2   displacement  398 non-null    float64\n",
            " 3   horsepower    392 non-null    float64\n",
            " 4   weight        398 non-null    int64  \n",
            " 5   acceleration  398 non-null    float64\n",
            " 6   model year    398 non-null    int64  \n",
            " 7   origin        398 non-null    int64  \n",
            " 8   car name      398 non-null    object \n",
            "dtypes: float64(4), int64(4), object(1)\n",
            "memory usage: 28.1+ KB\n"
          ]
        }
      ]
    },
    {
      "cell_type": "markdown",
      "source": [
        "Выводы по обработке признака:\n",
        "\n",
        "  - Аномалии не были найдены\n",
        "\n",
        "  - После обработки количество признаков и наблюдений не изменилось"
      ],
      "metadata": {
        "id": "b65I_7CmUW2h"
      }
    },
    {
      "cell_type": "markdown",
      "source": [
        "### 4.4 Признак horsepower"
      ],
      "metadata": {
        "id": "OrC2TZ8KVaiZ"
      }
    },
    {
      "cell_type": "markdown",
      "source": [
        "Запишем имя признака в переменную sign"
      ],
      "metadata": {
        "id": "_p0en9UJVaia"
      }
    },
    {
      "cell_type": "code",
      "source": [
        "sign = 'horsepower'"
      ],
      "metadata": {
        "id": "lTgDYzW3Vaib"
      },
      "execution_count": 496,
      "outputs": []
    },
    {
      "cell_type": "markdown",
      "source": [
        "Выведем признак для просмотра содержимого"
      ],
      "metadata": {
        "id": "TYFqFtPIVaic"
      }
    },
    {
      "cell_type": "code",
      "source": [
        "dataset[sign].head(10)"
      ],
      "metadata": {
        "colab": {
          "base_uri": "https://localhost:8080/",
          "height": 0
        },
        "outputId": "ba715156-de3f-4159-ed11-50a16521f274",
        "id": "bohMHt4jVaic"
      },
      "execution_count": 497,
      "outputs": [
        {
          "output_type": "execute_result",
          "data": {
            "text/plain": [
              "0    130.0\n",
              "1    165.0\n",
              "2    150.0\n",
              "3    150.0\n",
              "4    140.0\n",
              "5    198.0\n",
              "6    220.0\n",
              "7    215.0\n",
              "8    225.0\n",
              "9    190.0\n",
              "Name: horsepower, dtype: float64"
            ],
            "text/html": [
              "<div>\n",
              "<style scoped>\n",
              "    .dataframe tbody tr th:only-of-type {\n",
              "        vertical-align: middle;\n",
              "    }\n",
              "\n",
              "    .dataframe tbody tr th {\n",
              "        vertical-align: top;\n",
              "    }\n",
              "\n",
              "    .dataframe thead th {\n",
              "        text-align: right;\n",
              "    }\n",
              "</style>\n",
              "<table border=\"1\" class=\"dataframe\">\n",
              "  <thead>\n",
              "    <tr style=\"text-align: right;\">\n",
              "      <th></th>\n",
              "      <th>horsepower</th>\n",
              "    </tr>\n",
              "  </thead>\n",
              "  <tbody>\n",
              "    <tr>\n",
              "      <th>0</th>\n",
              "      <td>130.0</td>\n",
              "    </tr>\n",
              "    <tr>\n",
              "      <th>1</th>\n",
              "      <td>165.0</td>\n",
              "    </tr>\n",
              "    <tr>\n",
              "      <th>2</th>\n",
              "      <td>150.0</td>\n",
              "    </tr>\n",
              "    <tr>\n",
              "      <th>3</th>\n",
              "      <td>150.0</td>\n",
              "    </tr>\n",
              "    <tr>\n",
              "      <th>4</th>\n",
              "      <td>140.0</td>\n",
              "    </tr>\n",
              "    <tr>\n",
              "      <th>5</th>\n",
              "      <td>198.0</td>\n",
              "    </tr>\n",
              "    <tr>\n",
              "      <th>6</th>\n",
              "      <td>220.0</td>\n",
              "    </tr>\n",
              "    <tr>\n",
              "      <th>7</th>\n",
              "      <td>215.0</td>\n",
              "    </tr>\n",
              "    <tr>\n",
              "      <th>8</th>\n",
              "      <td>225.0</td>\n",
              "    </tr>\n",
              "    <tr>\n",
              "      <th>9</th>\n",
              "      <td>190.0</td>\n",
              "    </tr>\n",
              "  </tbody>\n",
              "</table>\n",
              "</div><br><label><b>dtype:</b> float64</label>"
            ]
          },
          "metadata": {},
          "execution_count": 497
        }
      ]
    },
    {
      "cell_type": "markdown",
      "source": [
        "Выведем уникальные значения"
      ],
      "metadata": {
        "id": "tLSZLHqIVaid"
      }
    },
    {
      "cell_type": "code",
      "source": [
        "dataset[sign].unique()"
      ],
      "metadata": {
        "colab": {
          "base_uri": "https://localhost:8080/"
        },
        "outputId": "1da4d1cf-43db-46ce-e660-7d563fb9c156",
        "id": "aiAtYst2Vaid"
      },
      "execution_count": 498,
      "outputs": [
        {
          "output_type": "execute_result",
          "data": {
            "text/plain": [
              "array([130., 165., 150., 140., 198., 220., 215., 225., 190., 170., 160.,\n",
              "        95.,  97.,  85.,  88.,  46.,  87.,  90., 113., 200., 210., 193.,\n",
              "        nan, 100., 105., 175., 153., 180., 110.,  72.,  86.,  70.,  76.,\n",
              "        65.,  69.,  60.,  80.,  54., 208., 155., 112.,  92., 145., 137.,\n",
              "       158., 167.,  94., 107., 230.,  49.,  75.,  91., 122.,  67.,  83.,\n",
              "        78.,  52.,  61.,  93., 148., 129.,  96.,  71.,  98., 115.,  53.,\n",
              "        81.,  79., 120., 152., 102., 108.,  68.,  58., 149.,  89.,  63.,\n",
              "        48.,  66., 139., 103., 125., 133., 138., 135., 142.,  77.,  62.,\n",
              "       132.,  84.,  64.,  74., 116.,  82.])"
            ]
          },
          "metadata": {},
          "execution_count": 498
        }
      ]
    },
    {
      "cell_type": "markdown",
      "source": [
        "Выведем количество уникальных значений"
      ],
      "metadata": {
        "id": "PjdKA1mZVaie"
      }
    },
    {
      "cell_type": "code",
      "source": [
        "dataset[sign].unique().shape"
      ],
      "metadata": {
        "colab": {
          "base_uri": "https://localhost:8080/"
        },
        "outputId": "55419989-8ed6-4050-d615-d5c9278a3939",
        "id": "21shLjenVaie"
      },
      "execution_count": 499,
      "outputs": [
        {
          "output_type": "execute_result",
          "data": {
            "text/plain": [
              "(94,)"
            ]
          },
          "metadata": {},
          "execution_count": 499
        }
      ]
    },
    {
      "cell_type": "markdown",
      "source": [
        "Посмотрим наличие дубликатов"
      ],
      "metadata": {
        "id": "E_fEBfsvVaif"
      }
    },
    {
      "cell_type": "code",
      "source": [
        "dataset.duplicated(subset=sign).sum()"
      ],
      "metadata": {
        "colab": {
          "base_uri": "https://localhost:8080/"
        },
        "outputId": "52d51367-2881-4264-8c13-ac4479f73f38",
        "id": "tn-58_2fVaig"
      },
      "execution_count": 500,
      "outputs": [
        {
          "output_type": "execute_result",
          "data": {
            "text/plain": [
              "np.int64(304)"
            ]
          },
          "metadata": {},
          "execution_count": 500
        }
      ]
    },
    {
      "cell_type": "markdown",
      "source": [
        "Построим графически на пропущенные значения"
      ],
      "metadata": {
        "id": "i5pibrmiVaig"
      }
    },
    {
      "cell_type": "code",
      "source": [
        "sns.set()\n",
        "msno.bar(dataset[[sign]], figsize=(14, 8))\n",
        "plt.show()"
      ],
      "metadata": {
        "colab": {
          "base_uri": "https://localhost:8080/",
          "height": 0
        },
        "outputId": "d94c02ce-e0d4-445b-9efe-58a378faa4a8",
        "id": "wiuBgB1AVaih"
      },
      "execution_count": 501,
      "outputs": [
        {
          "output_type": "display_data",
          "data": {
            "text/plain": [
              "<Figure size 1400x800 with 3 Axes>"
            ],
            "image/png": "[encoded data removed]"
          },
          "metadata": {}
        }
      ]
    },
    {
      "cell_type": "markdown",
      "source": [
        "Построим матрицу пропущенных значений"
      ],
      "metadata": {
        "id": "Meqd-ec4WJG9"
      }
    },
    {
      "cell_type": "code",
      "source": [
        "msno.matrix(dataset[[sign]], figsize=(8, 6))\n",
        "plt.show()"
      ],
      "metadata": {
        "colab": {
          "base_uri": "https://localhost:8080/",
          "height": 0
        },
        "id": "LwfFyfzMWLCO",
        "outputId": "154a269a-8e63-4109-a954-b4fe18c7d2b3"
      },
      "execution_count": 502,
      "outputs": [
        {
          "output_type": "display_data",
          "data": {
            "text/plain": [
              "<Figure size 800x600 with 2 Axes>"
            ],
            "image/png": "[encoded data removed]"
          },
          "metadata": {}
        }
      ]
    },
    {
      "cell_type": "markdown",
      "source": [
        "Посмотрим у каких машин пропуски"
      ],
      "metadata": {
        "id": "EXUPSSGrW3or"
      }
    },
    {
      "cell_type": "code",
      "source": [
        "dataset[dataset[sign].isnull()]"
      ],
      "metadata": {
        "colab": {
          "base_uri": "https://localhost:8080/",
          "height": 0
        },
        "id": "7kTR3HPjW4Ap",
        "outputId": "4333b514-fa54-4ec3-e61a-1bbf26b2542f"
      },
      "execution_count": 503,
      "outputs": [
        {
          "output_type": "execute_result",
          "data": {
            "text/plain": [
              "      mpg  cylinders  displacement  horsepower  weight  acceleration  \\\n",
              "32   25.0          4          98.0         NaN    2046          19.0   \n",
              "126  21.0          6         200.0         NaN    2875          17.0   \n",
              "330  40.9          4          85.0         NaN    1835          17.3   \n",
              "336  23.6          4         140.0         NaN    2905          14.3   \n",
              "354  34.5          4         100.0         NaN    2320          15.8   \n",
              "374  23.0          4         151.0         NaN    3035          20.5   \n",
              "\n",
              "     model year  origin              car name  \n",
              "32           71       1            ford pinto  \n",
              "126          74       1         ford maverick  \n",
              "330          80       2  renault lecar deluxe  \n",
              "336          80       1    ford mustang cobra  \n",
              "354          81       2           renault 18i  \n",
              "374          82       1        amc concord dl  "
            ],
            "text/html": [
              "\n",
              "  <div id=\"df-baa90bc3-2603-4ee2-bca9-d42dcce9b5c0\" class=\"colab-df-container\">\n",
              "    <div>\n",
              "<style scoped>\n",
              "    .dataframe tbody tr th:only-of-type {\n",
              "        vertical-align: middle;\n",
              "    }\n",
              "\n",
              "    .dataframe tbody tr th {\n",
              "        vertical-align: top;\n",
              "    }\n",
              "\n",
              "    .dataframe thead th {\n",
              "        text-align: right;\n",
              "    }\n",
              "</style>\n",
              "<table border=\"1\" class=\"dataframe\">\n",
              "  <thead>\n",
              "    <tr style=\"text-align: right;\">\n",
              "      <th></th>\n",
              "      <th>mpg</th>\n",
              "      <th>cylinders</th>\n",
              "      <th>displacement</th>\n",
              "      <th>horsepower</th>\n",
              "      <th>weight</th>\n",
              "      <th>acceleration</th>\n",
              "      <th>model year</th>\n",
              "      <th>origin</th>\n",
              "      <th>car name</th>\n",
              "    </tr>\n",
              "  </thead>\n",
              "  <tbody>\n",
              "    <tr>\n",
              "      <th>32</th>\n",
              "      <td>25.0</td>\n",
              "      <td>4</td>\n",
              "      <td>98.0</td>\n",
              "      <td>NaN</td>\n",
              "      <td>2046</td>\n",
              "      <td>19.0</td>\n",
              "      <td>71</td>\n",
              "      <td>1</td>\n",
              "      <td>ford pinto</td>\n",
              "    </tr>\n",
              "    <tr>\n",
              "      <th>126</th>\n",
              "      <td>21.0</td>\n",
              "      <td>6</td>\n",
              "      <td>200.0</td>\n",
              "      <td>NaN</td>\n",
              "      <td>2875</td>\n",
              "      <td>17.0</td>\n",
              "      <td>74</td>\n",
              "      <td>1</td>\n",
              "      <td>ford maverick</td>\n",
              "    </tr>\n",
              "    <tr>\n",
              "      <th>330</th>\n",
              "      <td>40.9</td>\n",
              "      <td>4</td>\n",
              "      <td>85.0</td>\n",
              "      <td>NaN</td>\n",
              "      <td>1835</td>\n",
              "      <td>17.3</td>\n",
              "      <td>80</td>\n",
              "      <td>2</td>\n",
              "      <td>renault lecar deluxe</td>\n",
              "    </tr>\n",
              "    <tr>\n",
              "      <th>336</th>\n",
              "      <td>23.6</td>\n",
              "      <td>4</td>\n",
              "      <td>140.0</td>\n",
              "      <td>NaN</td>\n",
              "      <td>2905</td>\n",
              "      <td>14.3</td>\n",
              "      <td>80</td>\n",
              "      <td>1</td>\n",
              "      <td>ford mustang cobra</td>\n",
              "    </tr>\n",
              "    <tr>\n",
              "      <th>354</th>\n",
              "      <td>34.5</td>\n",
              "      <td>4</td>\n",
              "      <td>100.0</td>\n",
              "      <td>NaN</td>\n",
              "      <td>2320</td>\n",
              "      <td>15.8</td>\n",
              "      <td>81</td>\n",
              "      <td>2</td>\n",
              "      <td>renault 18i</td>\n",
              "    </tr>\n",
              "    <tr>\n",
              "      <th>374</th>\n",
              "      <td>23.0</td>\n",
              "      <td>4</td>\n",
              "      <td>151.0</td>\n",
              "      <td>NaN</td>\n",
              "      <td>3035</td>\n",
              "      <td>20.5</td>\n",
              "      <td>82</td>\n",
              "      <td>1</td>\n",
              "      <td>amc concord dl</td>\n",
              "    </tr>\n",
              "  </tbody>\n",
              "</table>\n",
              "</div>\n",
              "    <div class=\"colab-df-buttons\">\n",
              "\n",
              "  <div class=\"colab-df-container\">\n",
              "    <button class=\"colab-df-convert\" onclick=\"convertToInteractive('df-baa90bc3-2603-4ee2-bca9-d42dcce9b5c0')\"\n",
              "            title=\"Convert this dataframe to an interactive table.\"\n",
              "            style=\"display:none;\">\n",
              "\n",
              "  <svg xmlns=\"http://www.w3.org/2000/svg\" height=\"24px\" viewBox=\"0 -960 960 960\">\n",
              "    <path d=\"M120-120v-720h720v720H120Zm60-500h600v-160H180v160Zm220 220h160v-160H400v160Zm0 220h160v-160H400v160ZM180-400h160v-160H180v160Zm440 0h160v-160H620v160ZM180-180h160v-160H180v160Zm440 0h160v-160H620v160Z\"/>\n",
              "  </svg>\n",
              "    </button>\n",
              "\n",
              "  <style>\n",
              "    .colab-df-container {\n",
              "      display:flex;\n",
              "      gap: 12px;\n",
              "    }\n",
              "\n",
              "    .colab-df-convert {\n",
              "      background-color: #E8F0FE;\n",
              "      border: none;\n",
              "      border-radius: 50%;\n",
              "      cursor: pointer;\n",
              "      display: none;\n",
              "      fill: #1967D2;\n",
              "      height: 32px;\n",
              "      padding: 0 0 0 0;\n",
              "      width: 32px;\n",
              "    }\n",
              "\n",
              "    .colab-df-convert:hover {\n",
              "      background-color: #E2EBFA;\n",
              "      box-shadow: 0px 1px 2px rgba(60, 64, 67, 0.3), 0px 1px 3px 1px rgba(60, 64, 67, 0.15);\n",
              "      fill: #174EA6;\n",
              "    }\n",
              "\n",
              "    .colab-df-buttons div {\n",
              "      margin-bottom: 4px;\n",
              "    }\n",
              "\n",
              "    [theme=dark] .colab-df-convert {\n",
              "      background-color: #3B4455;\n",
              "      fill: #D2E3FC;\n",
              "    }\n",
              "\n",
              "    [theme=dark] .colab-df-convert:hover {\n",
              "      background-color: #434B5C;\n",
              "      box-shadow: 0px 1px 3px 1px rgba(0, 0, 0, 0.15);\n",
              "      filter: drop-shadow(0px 1px 2px rgba(0, 0, 0, 0.3));\n",
              "      fill: #FFFFFF;\n",
              "    }\n",
              "  </style>\n",
              "\n",
              "    <script>\n",
              "      const buttonEl =\n",
              "        document.querySelector('#df-baa90bc3-2603-4ee2-bca9-d42dcce9b5c0 button.colab-df-convert');\n",
              "      buttonEl.style.display =\n",
              "        google.colab.kernel.accessAllowed ? 'block' : 'none';\n",
              "\n",
              "      async function convertToInteractive(key) {\n",
              "        const element = document.querySelector('#df-baa90bc3-2603-4ee2-bca9-d42dcce9b5c0');\n",
              "        const dataTable =\n",
              "          await google.colab.kernel.invokeFunction('convertToInteractive',\n",
              "                                                    [key], {});\n",
              "        if (!dataTable) return;\n",
              "\n",
              "        const docLinkHtml = 'Like what you see? Visit the ' +\n",
              "          '<a target=\"_blank\" href=https://colab.research.google.com/notebooks/data_table.ipynb>data table notebook</a>'\n",
              "          + ' to learn more about interactive tables.';\n",
              "        element.innerHTML = '';\n",
              "        dataTable['output_type'] = 'display_data';\n",
              "        await google.colab.output.renderOutput(dataTable, element);\n",
              "        const docLink = document.createElement('div');\n",
              "        docLink.innerHTML = docLinkHtml;\n",
              "        element.appendChild(docLink);\n",
              "      }\n",
              "    </script>\n",
              "  </div>\n",
              "\n",
              "\n",
              "    <div id=\"df-44317a04-79cb-4f63-9b7e-5311ce928685\">\n",
              "      <button class=\"colab-df-quickchart\" onclick=\"quickchart('df-44317a04-79cb-4f63-9b7e-5311ce928685')\"\n",
              "                title=\"Suggest charts\"\n",
              "                style=\"display:none;\">\n",
              "\n",
              "<svg xmlns=\"http://www.w3.org/2000/svg\" height=\"24px\"viewBox=\"0 0 24 24\"\n",
              "     width=\"24px\">\n",
              "    <g>\n",
              "        <path d=\"M19 3H5c-1.1 0-2 .9-2 2v14c0 1.1.9 2 2 2h14c1.1 0 2-.9 2-2V5c0-1.1-.9-2-2-2zM9 17H7v-7h2v7zm4 0h-2V7h2v10zm4 0h-2v-4h2v4z\"/>\n",
              "    </g>\n",
              "</svg>\n",
              "      </button>\n",
              "\n",
              "<style>\n",
              "  .colab-df-quickchart {\n",
              "      --bg-color: #E8F0FE;\n",
              "      --fill-color: #1967D2;\n",
              "      --hover-bg-color: #E2EBFA;\n",
              "      --hover-fill-color: #174EA6;\n",
              "      --disabled-fill-color: #AAA;\n",
              "      --disabled-bg-color: #DDD;\n",
              "  }\n",
              "\n",
              "  [theme=dark] .colab-df-quickchart {\n",
              "      --bg-color: #3B4455;\n",
              "      --fill-color: #D2E3FC;\n",
              "      --hover-bg-color: #434B5C;\n",
              "      --hover-fill-color: #FFFFFF;\n",
              "      --disabled-bg-color: #3B4455;\n",
              "      --disabled-fill-color: #666;\n",
              "  }\n",
              "\n",
              "  .colab-df-quickchart {\n",
              "    background-color: var(--bg-color);\n",
              "    border: none;\n",
              "    border-radius: 50%;\n",
              "    cursor: pointer;\n",
              "    display: none;\n",
              "    fill: var(--fill-color);\n",
              "    height: 32px;\n",
              "    padding: 0;\n",
              "    width: 32px;\n",
              "  }\n",
              "\n",
              "  .colab-df-quickchart:hover {\n",
              "    background-color: var(--hover-bg-color);\n",
              "    box-shadow: 0 1px 2px rgba(60, 64, 67, 0.3), 0 1px 3px 1px rgba(60, 64, 67, 0.15);\n",
              "    fill: var(--button-hover-fill-color);\n",
              "  }\n",
              "\n",
              "  .colab-df-quickchart-complete:disabled,\n",
              "  .colab-df-quickchart-complete:disabled:hover {\n",
              "    background-color: var(--disabled-bg-color);\n",
              "    fill: var(--disabled-fill-color);\n",
              "    box-shadow: none;\n",
              "  }\n",
              "\n",
              "  .colab-df-spinner {\n",
              "    border: 2px solid var(--fill-color);\n",
              "    border-color: transparent;\n",
              "    border-bottom-color: var(--fill-color);\n",
              "    animation:\n",
              "      spin 1s steps(1) infinite;\n",
              "  }\n",
              "\n",
              "  @keyframes spin {\n",
              "    0% {\n",
              "      border-color: transparent;\n",
              "      border-bottom-color: var(--fill-color);\n",
              "      border-left-color: var(--fill-color);\n",
              "    }\n",
              "    20% {\n",
              "      border-color: transparent;\n",
              "      border-left-color: var(--fill-color);\n",
              "      border-top-color: var(--fill-color);\n",
              "    }\n",
              "    30% {\n",
              "      border-color: transparent;\n",
              "      border-left-color: var(--fill-color);\n",
              "      border-top-color: var(--fill-color);\n",
              "      border-right-color: var(--fill-color);\n",
              "    }\n",
              "    40% {\n",
              "      border-color: transparent;\n",
              "      border-right-color: var(--fill-color);\n",
              "      border-top-color: var(--fill-color);\n",
              "    }\n",
              "    60% {\n",
              "      border-color: transparent;\n",
              "      border-right-color: var(--fill-color);\n",
              "    }\n",
              "    80% {\n",
              "      border-color: transparent;\n",
              "      border-right-color: var(--fill-color);\n",
              "      border-bottom-color: var(--fill-color);\n",
              "    }\n",
              "    90% {\n",
              "      border-color: transparent;\n",
              "      border-bottom-color: var(--fill-color);\n",
              "    }\n",
              "  }\n",
              "</style>\n",
              "\n",
              "      <script>\n",
              "        async function quickchart(key) {\n",
              "          const quickchartButtonEl =\n",
              "            document.querySelector('#' + key + ' button');\n",
              "          quickchartButtonEl.disabled = true;  // To prevent multiple clicks.\n",
              "          quickchartButtonEl.classList.add('colab-df-spinner');\n",
              "          try {\n",
              "            const charts = await google.colab.kernel.invokeFunction(\n",
              "                'suggestCharts', [key], {});\n",
              "          } catch (error) {\n",
              "            console.error('Error during call to suggestCharts:', error);\n",
              "          }\n",
              "          quickchartButtonEl.classList.remove('colab-df-spinner');\n",
              "          quickchartButtonEl.classList.add('colab-df-quickchart-complete');\n",
              "        }\n",
              "        (() => {\n",
              "          let quickchartButtonEl =\n",
              "            document.querySelector('#df-44317a04-79cb-4f63-9b7e-5311ce928685 button');\n",
              "          quickchartButtonEl.style.display =\n",
              "            google.colab.kernel.accessAllowed ? 'block' : 'none';\n",
              "        })();\n",
              "      </script>\n",
              "    </div>\n",
              "    </div>\n",
              "  </div>\n"
            ],
            "application/vnd.google.colaboratory.intrinsic+json": {
              "type": "dataframe",
              "summary": "{\n  \"name\": \"dataset[dataset[sign]\",\n  \"rows\": 6,\n  \"fields\": [\n    {\n      \"column\": \"mpg\",\n      \"properties\": {\n        \"dtype\": \"number\",\n        \"std\": 7.886951248739908,\n        \"min\": 21.0,\n        \"max\": 40.9,\n        \"num_unique_values\": 6,\n        \"samples\": [\n          25.0,\n          21.0,\n          23.0\n        ],\n        \"semantic_type\": \"\",\n        \"description\": \"\"\n      }\n    },\n    {\n      \"column\": \"cylinders\",\n      \"properties\": {\n        \"dtype\": \"number\",\n        \"std\": 0,\n        \"min\": 4,\n        \"max\": 6,\n        \"num_unique_values\": 2,\n        \"samples\": [\n          6,\n          4\n        ],\n        \"semantic_type\": \"\",\n        \"description\": \"\"\n      }\n    },\n    {\n      \"column\": \"displacement\",\n      \"properties\": {\n        \"dtype\": \"number\",\n        \"std\": 43.32204981299938,\n        \"min\": 85.0,\n        \"max\": 200.0,\n        \"num_unique_values\": 6,\n        \"samples\": [\n          98.0,\n          200.0\n        ],\n        \"semantic_type\": \"\",\n        \"description\": \"\"\n      }\n    },\n    {\n      \"column\": \"horsepower\",\n      \"properties\": {\n        \"dtype\": \"number\",\n        \"std\": null,\n        \"min\": null,\n        \"max\": null,\n        \"num_unique_values\": 0,\n        \"samples\": [],\n        \"semantic_type\": \"\",\n        \"description\": \"\"\n      }\n    },\n    {\n      \"column\": \"weight\",\n      \"properties\": {\n        \"dtype\": \"number\",\n        \"std\": 504,\n        \"min\": 1835,\n        \"max\": 3035,\n        \"num_unique_values\": 6,\n        \"samples\": [],\n        \"semantic_type\": \"\",\n        \"description\": \"\"\n      }\n    },\n    {\n      \"column\": \"acceleration\",\n      \"properties\": {\n        \"dtype\": \"number\",\n        \"std\": 2.212163345385387,\n        \"min\": 14.3,\n        \"max\": 20.5,\n        \"num_unique_values\": 6,\n        \"samples\": [],\n        \"semantic_type\": \"\",\n        \"description\": \"\"\n      }\n    },\n    {\n      \"column\": \"model year\",\n      \"properties\": {\n        \"dtype\": \"number\",\n        \"std\": 4,\n        \"min\": 71,\n        \"max\": 82,\n        \"num_unique_values\": 5,\n        \"samples\": [],\n        \"semantic_type\": \"\",\n        \"description\": \"\"\n      }\n    },\n    {\n      \"column\": \"origin\",\n      \"properties\": {\n        \"dtype\": \"number\",\n        \"std\": 0,\n        \"min\": 1,\n        \"max\": 2,\n        \"num_unique_values\": 2,\n        \"samples\": [],\n        \"semantic_type\": \"\",\n        \"description\": \"\"\n      }\n    },\n    {\n      \"column\": \"car name\",\n      \"properties\": {\n        \"dtype\": \"string\",\n        \"num_unique_values\": 6,\n        \"samples\": [],\n        \"semantic_type\": \"\",\n        \"description\": \"\"\n      }\n    }\n  ]\n}"
            }
          },
          "metadata": {},
          "execution_count": 503
        }
      ]
    },
    {
      "cell_type": "markdown",
      "source": [
        "Заполним пропуски основываясь на информации найденой в интернете:\n",
        "\n",
        "  * https://www.automobile-catalog.com/make/ford_usa/pinto/pinto_2-door_sedan/1971.html\n",
        "\n",
        "  * https://www.automobile-catalog.com/car/1974/985790/ford_maverick_gt.html\n",
        "\n",
        "  * https://www.automobile-catalog.com/car/1983/2928260/renault_le_car_4-door.html\n",
        "\n",
        "  * https://www.automobile-catalog.com/make/ford_usa/mustang_3gen/mustang_3gen_cobra/1980.html\n",
        "\n",
        "  * https://www.automobile-catalog.com/make/renault/18/18i_wagon/1981.html\n",
        "\n",
        "  * https://www.automobile-catalog.com/make/amc/concord/concord_2-door_dl/1982.html\n",
        "\n",
        "\n"
      ],
      "metadata": {
        "id": "NSQb45iReKmu"
      }
    },
    {
      "cell_type": "code",
      "source": [
        "horsepower_corrections = {\n",
        "    'ford pinto': 75,\n",
        "    'ford maverick': 135,\n",
        "    'renault lecar deluxe': 51,\n",
        "    'ford mustang cobra': 120,\n",
        "    'renault 18i': 82,\n",
        "    'amc concord dl': 110,\n",
        "}\n",
        "\n",
        "missing_mask = dataset[sign].isnull()\n",
        "dataset.loc[missing_mask, sign] = dataset.loc[missing_mask, 'car name'].map(horsepower_corrections)"
      ],
      "metadata": {
        "id": "m0GaTxu3eyW5"
      },
      "execution_count": 504,
      "outputs": []
    },
    {
      "cell_type": "markdown",
      "source": [
        "Проверим устанение пропусков"
      ],
      "metadata": {
        "id": "yo6bSD0bieUt"
      }
    },
    {
      "cell_type": "code",
      "source": [
        "dataset[dataset[sign].isnull()]"
      ],
      "metadata": {
        "id": "QfLO8xHDeQwU",
        "colab": {
          "base_uri": "https://localhost:8080/",
          "height": 0
        },
        "outputId": "3fb20d22-c945-49f2-b1bc-bd9780b5e49b"
      },
      "execution_count": 505,
      "outputs": [
        {
          "output_type": "execute_result",
          "data": {
            "text/plain": [
              "Empty DataFrame\n",
              "Columns: [mpg, cylinders, displacement, horsepower, weight, acceleration, model year, origin, car name]\n",
              "Index: []"
            ],
            "text/html": [
              "\n",
              "  <div id=\"df-a1142a00-061b-46bf-8dc1-86e44a6b1d5e\" class=\"colab-df-container\">\n",
              "    <div>\n",
              "<style scoped>\n",
              "    .dataframe tbody tr th:only-of-type {\n",
              "        vertical-align: middle;\n",
              "    }\n",
              "\n",
              "    .dataframe tbody tr th {\n",
              "        vertical-align: top;\n",
              "    }\n",
              "\n",
              "    .dataframe thead th {\n",
              "        text-align: right;\n",
              "    }\n",
              "</style>\n",
              "<table border=\"1\" class=\"dataframe\">\n",
              "  <thead>\n",
              "    <tr style=\"text-align: right;\">\n",
              "      <th></th>\n",
              "      <th>mpg</th>\n",
              "      <th>cylinders</th>\n",
              "      <th>displacement</th>\n",
              "      <th>horsepower</th>\n",
              "      <th>weight</th>\n",
              "      <th>acceleration</th>\n",
              "      <th>model year</th>\n",
              "      <th>origin</th>\n",
              "      <th>car name</th>\n",
              "    </tr>\n",
              "  </thead>\n",
              "  <tbody>\n",
              "  </tbody>\n",
              "</table>\n",
              "</div>\n",
              "    <div class=\"colab-df-buttons\">\n",
              "\n",
              "  <div class=\"colab-df-container\">\n",
              "    <button class=\"colab-df-convert\" onclick=\"convertToInteractive('df-a1142a00-061b-46bf-8dc1-86e44a6b1d5e')\"\n",
              "            title=\"Convert this dataframe to an interactive table.\"\n",
              "            style=\"display:none;\">\n",
              "\n",
              "  <svg xmlns=\"http://www.w3.org/2000/svg\" height=\"24px\" viewBox=\"0 -960 960 960\">\n",
              "    <path d=\"M120-120v-720h720v720H120Zm60-500h600v-160H180v160Zm220 220h160v-160H400v160Zm0 220h160v-160H400v160ZM180-400h160v-160H180v160Zm440 0h160v-160H620v160ZM180-180h160v-160H180v160Zm440 0h160v-160H620v160Z\"/>\n",
              "  </svg>\n",
              "    </button>\n",
              "\n",
              "  <style>\n",
              "    .colab-df-container {\n",
              "      display:flex;\n",
              "      gap: 12px;\n",
              "    }\n",
              "\n",
              "    .colab-df-convert {\n",
              "      background-color: #E8F0FE;\n",
              "      border: none;\n",
              "      border-radius: 50%;\n",
              "      cursor: pointer;\n",
              "      display: none;\n",
              "      fill: #1967D2;\n",
              "      height: 32px;\n",
              "      padding: 0 0 0 0;\n",
              "      width: 32px;\n",
              "    }\n",
              "\n",
              "    .colab-df-convert:hover {\n",
              "      background-color: #E2EBFA;\n",
              "      box-shadow: 0px 1px 2px rgba(60, 64, 67, 0.3), 0px 1px 3px 1px rgba(60, 64, 67, 0.15);\n",
              "      fill: #174EA6;\n",
              "    }\n",
              "\n",
              "    .colab-df-buttons div {\n",
              "      margin-bottom: 4px;\n",
              "    }\n",
              "\n",
              "    [theme=dark] .colab-df-convert {\n",
              "      background-color: #3B4455;\n",
              "      fill: #D2E3FC;\n",
              "    }\n",
              "\n",
              "    [theme=dark] .colab-df-convert:hover {\n",
              "      background-color: #434B5C;\n",
              "      box-shadow: 0px 1px 3px 1px rgba(0, 0, 0, 0.15);\n",
              "      filter: drop-shadow(0px 1px 2px rgba(0, 0, 0, 0.3));\n",
              "      fill: #FFFFFF;\n",
              "    }\n",
              "  </style>\n",
              "\n",
              "    <script>\n",
              "      const buttonEl =\n",
              "        document.querySelector('#df-a1142a00-061b-46bf-8dc1-86e44a6b1d5e button.colab-df-convert');\n",
              "      buttonEl.style.display =\n",
              "        google.colab.kernel.accessAllowed ? 'block' : 'none';\n",
              "\n",
              "      async function convertToInteractive(key) {\n",
              "        const element = document.querySelector('#df-a1142a00-061b-46bf-8dc1-86e44a6b1d5e');\n",
              "        const dataTable =\n",
              "          await google.colab.kernel.invokeFunction('convertToInteractive',\n",
              "                                                    [key], {});\n",
              "        if (!dataTable) return;\n",
              "\n",
              "        const docLinkHtml = 'Like what you see? Visit the ' +\n",
              "          '<a target=\"_blank\" href=https://colab.research.google.com/notebooks/data_table.ipynb>data table notebook</a>'\n",
              "          + ' to learn more about interactive tables.';\n",
              "        element.innerHTML = '';\n",
              "        dataTable['output_type'] = 'display_data';\n",
              "        await google.colab.output.renderOutput(dataTable, element);\n",
              "        const docLink = document.createElement('div');\n",
              "        docLink.innerHTML = docLinkHtml;\n",
              "        element.appendChild(docLink);\n",
              "      }\n",
              "    </script>\n",
              "  </div>\n",
              "\n",
              "    </div>\n",
              "  </div>\n"
            ],
            "application/vnd.google.colaboratory.intrinsic+json": {
              "type": "dataframe",
              "repr_error": "Out of range float values are not JSON compliant: nan"
            }
          },
          "metadata": {},
          "execution_count": 505
        }
      ]
    },
    {
      "cell_type": "markdown",
      "source": [
        "Посмотрим информацию о датасете"
      ],
      "metadata": {
        "id": "vNHvkCPHkF2A"
      }
    },
    {
      "cell_type": "code",
      "source": [
        "dataset.info()"
      ],
      "metadata": {
        "colab": {
          "base_uri": "https://localhost:8080/"
        },
        "id": "Zsq50SlnkHOi",
        "outputId": "982e7ff7-ead9-45b7-a8d5-4ecf9e27be36"
      },
      "execution_count": 506,
      "outputs": [
        {
          "output_type": "stream",
          "name": "stdout",
          "text": [
            "<class 'pandas.core.frame.DataFrame'>\n",
            "RangeIndex: 398 entries, 0 to 397\n",
            "Data columns (total 9 columns):\n",
            " #   Column        Non-Null Count  Dtype  \n",
            "---  ------        --------------  -----  \n",
            " 0   mpg           398 non-null    float64\n",
            " 1   cylinders     398 non-null    int64  \n",
            " 2   displacement  398 non-null    float64\n",
            " 3   horsepower    398 non-null    float64\n",
            " 4   weight        398 non-null    int64  \n",
            " 5   acceleration  398 non-null    float64\n",
            " 6   model year    398 non-null    int64  \n",
            " 7   origin        398 non-null    int64  \n",
            " 8   car name      398 non-null    object \n",
            "dtypes: float64(4), int64(4), object(1)\n",
            "memory usage: 28.1+ KB\n"
          ]
        }
      ]
    },
    {
      "cell_type": "markdown",
      "source": [
        "Выводы по обработке признака:\n",
        "\n",
        "  - В признаке были обнаружены пропуски\n",
        "\n",
        "  - Пропущенные значения были восстановлены с помощью информации из интернета\n",
        "\n",
        "  - После обработки количество признаков и наблюдений не изменилось"
      ],
      "metadata": {
        "id": "plpt672ZVaih"
      }
    },
    {
      "cell_type": "markdown",
      "source": [
        "### 4.5 Признак weight"
      ],
      "metadata": {
        "id": "wE_YUY16GuvF"
      }
    },
    {
      "cell_type": "markdown",
      "source": [
        "Запишем имя признака в переменную sign"
      ],
      "metadata": {
        "id": "TDFQ8aAwGuvH"
      }
    },
    {
      "cell_type": "code",
      "source": [
        "sign = 'weight'"
      ],
      "metadata": {
        "id": "zobDimRUGuvI"
      },
      "execution_count": 507,
      "outputs": []
    },
    {
      "cell_type": "markdown",
      "source": [
        "Выведем признак для просмотра содержимого"
      ],
      "metadata": {
        "id": "OUEnMeADGuvJ"
      }
    },
    {
      "cell_type": "code",
      "source": [
        "dataset[sign].head(10)"
      ],
      "metadata": {
        "colab": {
          "base_uri": "https://localhost:8080/",
          "height": 0
        },
        "id": "d35xq0E1GuvK",
        "outputId": "e3362879-a1b6-4a77-a98f-0de5cad8df4a"
      },
      "execution_count": 508,
      "outputs": [
        {
          "output_type": "execute_result",
          "data": {
            "text/plain": [
              "0    3504\n",
              "1    3693\n",
              "2    3436\n",
              "3    3433\n",
              "4    3449\n",
              "5    4341\n",
              "6    4354\n",
              "7    4312\n",
              "8    4425\n",
              "9    3850\n",
              "Name: weight, dtype: int64"
            ],
            "text/html": [
              "<div>\n",
              "<style scoped>\n",
              "    .dataframe tbody tr th:only-of-type {\n",
              "        vertical-align: middle;\n",
              "    }\n",
              "\n",
              "    .dataframe tbody tr th {\n",
              "        vertical-align: top;\n",
              "    }\n",
              "\n",
              "    .dataframe thead th {\n",
              "        text-align: right;\n",
              "    }\n",
              "</style>\n",
              "<table border=\"1\" class=\"dataframe\">\n",
              "  <thead>\n",
              "    <tr style=\"text-align: right;\">\n",
              "      <th></th>\n",
              "      <th>weight</th>\n",
              "    </tr>\n",
              "  </thead>\n",
              "  <tbody>\n",
              "    <tr>\n",
              "      <th>0</th>\n",
              "      <td>3504</td>\n",
              "    </tr>\n",
              "    <tr>\n",
              "      <th>1</th>\n",
              "      <td>3693</td>\n",
              "    </tr>\n",
              "    <tr>\n",
              "      <th>2</th>\n",
              "      <td>3436</td>\n",
              "    </tr>\n",
              "    <tr>\n",
              "      <th>3</th>\n",
              "      <td>3433</td>\n",
              "    </tr>\n",
              "    <tr>\n",
              "      <th>4</th>\n",
              "      <td>3449</td>\n",
              "    </tr>\n",
              "    <tr>\n",
              "      <th>5</th>\n",
              "      <td>4341</td>\n",
              "    </tr>\n",
              "    <tr>\n",
              "      <th>6</th>\n",
              "      <td>4354</td>\n",
              "    </tr>\n",
              "    <tr>\n",
              "      <th>7</th>\n",
              "      <td>4312</td>\n",
              "    </tr>\n",
              "    <tr>\n",
              "      <th>8</th>\n",
              "      <td>4425</td>\n",
              "    </tr>\n",
              "    <tr>\n",
              "      <th>9</th>\n",
              "      <td>3850</td>\n",
              "    </tr>\n",
              "  </tbody>\n",
              "</table>\n",
              "</div><br><label><b>dtype:</b> int64</label>"
            ]
          },
          "metadata": {},
          "execution_count": 508
        }
      ]
    },
    {
      "cell_type": "markdown",
      "source": [
        "Выведем уникальные значения"
      ],
      "metadata": {
        "id": "0snHv9RcGuvL"
      }
    },
    {
      "cell_type": "code",
      "source": [
        "dataset[sign].unique()"
      ],
      "metadata": {
        "colab": {
          "base_uri": "https://localhost:8080/"
        },
        "id": "S-MZdi4PGuvL",
        "outputId": "7ac462e3-3e73-4333-fc1c-ec4ec3a443c1"
      },
      "execution_count": 509,
      "outputs": [
        {
          "output_type": "execute_result",
          "data": {
            "text/plain": [
              "array([3504, 3693, 3436, 3433, 3449, 4341, 4354, 4312, 4425, 3850, 3563,\n",
              "       3609, 3761, 3086, 2372, 2833, 2774, 2587, 2130, 1835, 2672, 2430,\n",
              "       2375, 2234, 2648, 4615, 4376, 4382, 4732, 2264, 2228, 2046, 2634,\n",
              "       3439, 3329, 3302, 3288, 4209, 4464, 4154, 4096, 4955, 4746, 5140,\n",
              "       2962, 2408, 3282, 3139, 2220, 2123, 2074, 2065, 1773, 1613, 1834,\n",
              "       1955, 2278, 2126, 2254, 2226, 4274, 4385, 4135, 4129, 3672, 4633,\n",
              "       4502, 4456, 4422, 2330, 3892, 4098, 4294, 4077, 2933, 2511, 2979,\n",
              "       2189, 2395, 2288, 2506, 2164, 2100, 4100, 3988, 4042, 3777, 4952,\n",
              "       4363, 4237, 4735, 4951, 3821, 3121, 3278, 2945, 3021, 2904, 1950,\n",
              "       4997, 4906, 4654, 4499, 2789, 2279, 2401, 2379, 2124, 2310, 2472,\n",
              "       2265, 4082, 4278, 1867, 2158, 2582, 2868, 3399, 2660, 2807, 3664,\n",
              "       3102, 2875, 2901, 3336, 2451, 1836, 2542, 3781, 3632, 3613, 4141,\n",
              "       4699, 4457, 4638, 4257, 2219, 1963, 2300, 1649, 2003, 2125, 2108,\n",
              "       2246, 2489, 2391, 2000, 3264, 3459, 3432, 3158, 4668, 4440, 4498,\n",
              "       4657, 3907, 3897, 3730, 3785, 3039, 3221, 3169, 2171, 2639, 2914,\n",
              "       2592, 2702, 2223, 2545, 2984, 1937, 3211, 2694, 2957, 2671, 1795,\n",
              "       2464, 2572, 2255, 2202, 4215, 4190, 3962, 3233, 3353, 3012, 3085,\n",
              "       2035, 3651, 3574, 3645, 3193, 1825, 1990, 2155, 2565, 3150, 3940,\n",
              "       3270, 2930, 3820, 4380, 4055, 3870, 3755, 2045, 1945, 3880, 4060,\n",
              "       4140, 4295, 3520, 3425, 3630, 3525, 4220, 4165, 4325, 4335, 1940,\n",
              "       2740, 2755, 2051, 2075, 1985, 2190, 2815, 2600, 2720, 1800, 2070,\n",
              "       3365, 3735, 3570, 3535, 3155, 2965, 3430, 3210, 3380, 3070, 3620,\n",
              "       3410, 3445, 3205, 4080, 2560, 2230, 2515, 2745, 2855, 2405, 2830,\n",
              "       3140, 2795, 2135, 3245, 2990, 2890, 3265, 3360, 3840, 3725, 3955,\n",
              "       3830, 4360, 4054, 3605, 1925, 1975, 1915, 2670, 3530, 3900, 3190,\n",
              "       3420, 2200, 2150, 2020, 2595, 2700, 2556, 2144, 1968, 2120, 2019,\n",
              "       2678, 2870, 3003, 3381, 2188, 2711, 2434, 2110, 2800, 2085, 2335,\n",
              "       2950, 3250, 1850, 2145, 1845, 2910, 2420, 2500, 2905, 2290, 2490,\n",
              "       2635, 2620, 2725, 2385, 1755, 1875, 1760, 2050, 2215, 2380, 2320,\n",
              "       2210, 2350, 2615, 3230, 3160, 2900, 3415, 3060, 3465, 2605, 2640,\n",
              "       2575, 2525, 2735, 2865, 3035, 1980, 2025, 1970, 2160, 2205, 2245,\n",
              "       1965, 1995, 3015, 2585, 2835, 2665, 2370, 2790, 2295, 2625])"
            ]
          },
          "metadata": {},
          "execution_count": 509
        }
      ]
    },
    {
      "cell_type": "markdown",
      "source": [
        "Выведем количество уникальных значений"
      ],
      "metadata": {
        "id": "Wd77pBrxGuvM"
      }
    },
    {
      "cell_type": "code",
      "source": [
        "dataset[sign].unique().shape"
      ],
      "metadata": {
        "colab": {
          "base_uri": "https://localhost:8080/"
        },
        "id": "INn2IkD7GuvM",
        "outputId": "c25dccad-fc32-4b85-d5a3-54e991f69e84"
      },
      "execution_count": 510,
      "outputs": [
        {
          "output_type": "execute_result",
          "data": {
            "text/plain": [
              "(351,)"
            ]
          },
          "metadata": {},
          "execution_count": 510
        }
      ]
    },
    {
      "cell_type": "markdown",
      "source": [
        "Посмотрим наличие дубликатов"
      ],
      "metadata": {
        "id": "oEdnqkgUGuvN"
      }
    },
    {
      "cell_type": "code",
      "source": [
        "dataset.duplicated(subset=sign).sum()"
      ],
      "metadata": {
        "colab": {
          "base_uri": "https://localhost:8080/"
        },
        "id": "fVvlMHNhGuvN",
        "outputId": "e32c45be-c195-4f8c-8797-25524ea080a4"
      },
      "execution_count": 511,
      "outputs": [
        {
          "output_type": "execute_result",
          "data": {
            "text/plain": [
              "np.int64(47)"
            ]
          },
          "metadata": {},
          "execution_count": 511
        }
      ]
    },
    {
      "cell_type": "markdown",
      "source": [
        "Построим графически на пропущенные значения"
      ],
      "metadata": {
        "id": "2Mw-XL34GuvO"
      }
    },
    {
      "cell_type": "code",
      "source": [
        "sns.set()\n",
        "msno.bar(dataset[[sign]], figsize=(14, 8))\n",
        "plt.show()"
      ],
      "metadata": {
        "colab": {
          "base_uri": "https://localhost:8080/",
          "height": 0
        },
        "id": "30kyFGMYGuvO",
        "outputId": "411ee8ba-3cc8-448f-f45b-a2fd8ae6c2e2"
      },
      "execution_count": 512,
      "outputs": [
        {
          "output_type": "display_data",
          "data": {
            "text/plain": [
              "<Figure size 1400x800 with 3 Axes>"
            ],
            "image/png": "[encoded data removed]"
          },
          "metadata": {}
        }
      ]
    },
    {
      "cell_type": "markdown",
      "source": [
        "Посмотрим информациб о датасете"
      ],
      "metadata": {
        "id": "hmOAASn-0bJQ"
      }
    },
    {
      "cell_type": "code",
      "source": [
        "dataset.info()"
      ],
      "metadata": {
        "colab": {
          "base_uri": "https://localhost:8080/"
        },
        "id": "hyDnHkeB0bJQ",
        "outputId": "70bb4173-a964-4b1b-e388-2cd6b4bbc527"
      },
      "execution_count": 513,
      "outputs": [
        {
          "output_type": "stream",
          "name": "stdout",
          "text": [
            "<class 'pandas.core.frame.DataFrame'>\n",
            "RangeIndex: 398 entries, 0 to 397\n",
            "Data columns (total 9 columns):\n",
            " #   Column        Non-Null Count  Dtype  \n",
            "---  ------        --------------  -----  \n",
            " 0   mpg           398 non-null    float64\n",
            " 1   cylinders     398 non-null    int64  \n",
            " 2   displacement  398 non-null    float64\n",
            " 3   horsepower    398 non-null    float64\n",
            " 4   weight        398 non-null    int64  \n",
            " 5   acceleration  398 non-null    float64\n",
            " 6   model year    398 non-null    int64  \n",
            " 7   origin        398 non-null    int64  \n",
            " 8   car name      398 non-null    object \n",
            "dtypes: float64(4), int64(4), object(1)\n",
            "memory usage: 28.1+ KB\n"
          ]
        }
      ]
    },
    {
      "cell_type": "markdown",
      "source": [
        "Выводы по обработке признака:\n",
        "\n",
        "  - Аномалии не были найдены\n",
        "\n",
        "  - После обработки количество признаков и наблюдений не изменилось"
      ],
      "metadata": {
        "id": "fQtmB-xbGuvP"
      }
    },
    {
      "cell_type": "markdown",
      "source": [
        "### 4.6 Признак acceleration"
      ],
      "metadata": {
        "id": "FQvNqeu-H35B"
      }
    },
    {
      "cell_type": "markdown",
      "source": [
        "Запишем имя признака в переменную sign"
      ],
      "metadata": {
        "id": "dnu2Y2htH35D"
      }
    },
    {
      "cell_type": "code",
      "source": [
        "sign = 'acceleration'"
      ],
      "metadata": {
        "id": "gNxaStIjH35D"
      },
      "execution_count": 514,
      "outputs": []
    },
    {
      "cell_type": "markdown",
      "source": [
        "Выведем признак для просмотра содержимого"
      ],
      "metadata": {
        "id": "iysXqrI6H35E"
      }
    },
    {
      "cell_type": "code",
      "source": [
        "dataset[sign].head(10)"
      ],
      "metadata": {
        "colab": {
          "base_uri": "https://localhost:8080/",
          "height": 0
        },
        "outputId": "87eed399-2970-41ec-d986-01a78e4d2cda",
        "id": "lBIM_0YBH35E"
      },
      "execution_count": 515,
      "outputs": [
        {
          "output_type": "execute_result",
          "data": {
            "text/plain": [
              "0    12.0\n",
              "1    11.5\n",
              "2    11.0\n",
              "3    12.0\n",
              "4    10.5\n",
              "5    10.0\n",
              "6     9.0\n",
              "7     8.5\n",
              "8    10.0\n",
              "9     8.5\n",
              "Name: acceleration, dtype: float64"
            ],
            "text/html": [
              "<div>\n",
              "<style scoped>\n",
              "    .dataframe tbody tr th:only-of-type {\n",
              "        vertical-align: middle;\n",
              "    }\n",
              "\n",
              "    .dataframe tbody tr th {\n",
              "        vertical-align: top;\n",
              "    }\n",
              "\n",
              "    .dataframe thead th {\n",
              "        text-align: right;\n",
              "    }\n",
              "</style>\n",
              "<table border=\"1\" class=\"dataframe\">\n",
              "  <thead>\n",
              "    <tr style=\"text-align: right;\">\n",
              "      <th></th>\n",
              "      <th>acceleration</th>\n",
              "    </tr>\n",
              "  </thead>\n",
              "  <tbody>\n",
              "    <tr>\n",
              "      <th>0</th>\n",
              "      <td>12.0</td>\n",
              "    </tr>\n",
              "    <tr>\n",
              "      <th>1</th>\n",
              "      <td>11.5</td>\n",
              "    </tr>\n",
              "    <tr>\n",
              "      <th>2</th>\n",
              "      <td>11.0</td>\n",
              "    </tr>\n",
              "    <tr>\n",
              "      <th>3</th>\n",
              "      <td>12.0</td>\n",
              "    </tr>\n",
              "    <tr>\n",
              "      <th>4</th>\n",
              "      <td>10.5</td>\n",
              "    </tr>\n",
              "    <tr>\n",
              "      <th>5</th>\n",
              "      <td>10.0</td>\n",
              "    </tr>\n",
              "    <tr>\n",
              "      <th>6</th>\n",
              "      <td>9.0</td>\n",
              "    </tr>\n",
              "    <tr>\n",
              "      <th>7</th>\n",
              "      <td>8.5</td>\n",
              "    </tr>\n",
              "    <tr>\n",
              "      <th>8</th>\n",
              "      <td>10.0</td>\n",
              "    </tr>\n",
              "    <tr>\n",
              "      <th>9</th>\n",
              "      <td>8.5</td>\n",
              "    </tr>\n",
              "  </tbody>\n",
              "</table>\n",
              "</div><br><label><b>dtype:</b> float64</label>"
            ]
          },
          "metadata": {},
          "execution_count": 515
        }
      ]
    },
    {
      "cell_type": "markdown",
      "source": [
        "Выведем уникальные значения"
      ],
      "metadata": {
        "id": "2queFL0mH35F"
      }
    },
    {
      "cell_type": "code",
      "source": [
        "dataset[sign].unique()"
      ],
      "metadata": {
        "colab": {
          "base_uri": "https://localhost:8080/"
        },
        "outputId": "de587fcf-19bf-4e00-ae82-b72065f16e27",
        "id": "klULdNrpH35F"
      },
      "execution_count": 516,
      "outputs": [
        {
          "output_type": "execute_result",
          "data": {
            "text/plain": [
              "array([12. , 11.5, 11. , 10.5, 10. ,  9. ,  8.5,  8. ,  9.5, 15. , 15.5,\n",
              "       16. , 14.5, 20.5, 17.5, 12.5, 14. , 13.5, 18.5, 19. , 13. , 19.5,\n",
              "       18. , 17. , 23.5, 16.5, 21. , 16.9, 14.9, 17.7, 15.3, 13.9, 12.8,\n",
              "       15.4, 17.6, 22.2, 22.1, 14.2, 17.4, 16.2, 17.8, 12.2, 16.4, 13.6,\n",
              "       15.7, 13.2, 21.9, 16.7, 12.1, 14.8, 18.6, 16.8, 13.7, 11.1, 11.4,\n",
              "       18.2, 15.8, 15.9, 14.1, 21.5, 14.4, 19.4, 19.2, 17.2, 18.7, 15.1,\n",
              "       13.4, 11.2, 14.7, 16.6, 17.3, 15.2, 14.3, 20.1, 24.8, 11.3, 12.9,\n",
              "       18.8, 18.1, 17.9, 21.7, 23.7, 19.9, 21.8, 13.8, 12.6, 16.1, 20.7,\n",
              "       18.3, 20.4, 19.6, 17.1, 15.6, 24.6, 11.6])"
            ]
          },
          "metadata": {},
          "execution_count": 516
        }
      ]
    },
    {
      "cell_type": "markdown",
      "source": [
        "Выведем количество уникальных значений"
      ],
      "metadata": {
        "id": "WenEMOkaH35G"
      }
    },
    {
      "cell_type": "code",
      "source": [
        "dataset[sign].unique().shape"
      ],
      "metadata": {
        "colab": {
          "base_uri": "https://localhost:8080/"
        },
        "outputId": "b610e6b4-ac7c-4b5b-e5fb-5f38dfc9316a",
        "id": "ryrp7WRBH35G"
      },
      "execution_count": 517,
      "outputs": [
        {
          "output_type": "execute_result",
          "data": {
            "text/plain": [
              "(95,)"
            ]
          },
          "metadata": {},
          "execution_count": 517
        }
      ]
    },
    {
      "cell_type": "markdown",
      "source": [
        "Посмотрим наличие дубликатов"
      ],
      "metadata": {
        "id": "BkmblDLrH35H"
      }
    },
    {
      "cell_type": "code",
      "source": [
        "dataset.duplicated(subset=sign).sum()"
      ],
      "metadata": {
        "colab": {
          "base_uri": "https://localhost:8080/"
        },
        "outputId": "89c221c2-1ffd-4840-e54e-37ad969999b8",
        "id": "Qh0n7qSZH35I"
      },
      "execution_count": 518,
      "outputs": [
        {
          "output_type": "execute_result",
          "data": {
            "text/plain": [
              "np.int64(303)"
            ]
          },
          "metadata": {},
          "execution_count": 518
        }
      ]
    },
    {
      "cell_type": "markdown",
      "source": [
        "Построим графически на пропущенные значения"
      ],
      "metadata": {
        "id": "UwSDnQwMH35I"
      }
    },
    {
      "cell_type": "code",
      "source": [
        "sns.set()\n",
        "msno.bar(dataset[[sign]], figsize=(14, 8))\n",
        "plt.show()"
      ],
      "metadata": {
        "colab": {
          "base_uri": "https://localhost:8080/",
          "height": 0
        },
        "outputId": "74ebd2aa-e87c-4cef-dace-adfb6a4490ef",
        "id": "vv2RuR0wH35I"
      },
      "execution_count": 519,
      "outputs": [
        {
          "output_type": "display_data",
          "data": {
            "text/plain": [
              "<Figure size 1400x800 with 3 Axes>"
            ],
            "image/png": "[encoded data removed]"
          },
          "metadata": {}
        }
      ]
    },
    {
      "cell_type": "markdown",
      "source": [
        "Посмотрим информациб о датасете"
      ],
      "metadata": {
        "id": "4PjzozjO0Tci"
      }
    },
    {
      "cell_type": "code",
      "source": [
        "dataset.info()"
      ],
      "metadata": {
        "colab": {
          "base_uri": "https://localhost:8080/"
        },
        "id": "xaUVsKa80Tci",
        "outputId": "35c61366-5773-44f8-ab08-7ae2d77ea814"
      },
      "execution_count": 520,
      "outputs": [
        {
          "output_type": "stream",
          "name": "stdout",
          "text": [
            "<class 'pandas.core.frame.DataFrame'>\n",
            "RangeIndex: 398 entries, 0 to 397\n",
            "Data columns (total 9 columns):\n",
            " #   Column        Non-Null Count  Dtype  \n",
            "---  ------        --------------  -----  \n",
            " 0   mpg           398 non-null    float64\n",
            " 1   cylinders     398 non-null    int64  \n",
            " 2   displacement  398 non-null    float64\n",
            " 3   horsepower    398 non-null    float64\n",
            " 4   weight        398 non-null    int64  \n",
            " 5   acceleration  398 non-null    float64\n",
            " 6   model year    398 non-null    int64  \n",
            " 7   origin        398 non-null    int64  \n",
            " 8   car name      398 non-null    object \n",
            "dtypes: float64(4), int64(4), object(1)\n",
            "memory usage: 28.1+ KB\n"
          ]
        }
      ]
    },
    {
      "cell_type": "markdown",
      "source": [
        "Выводы по обработке признака:\n",
        "\n",
        "  - Аномалии не были найдены\n",
        "\n",
        "  - После обработки количество признаков и наблюдений не изменилось"
      ],
      "metadata": {
        "id": "AlV29VN0H35J"
      }
    },
    {
      "cell_type": "markdown",
      "source": [
        "### 4.7 Признак model year"
      ],
      "metadata": {
        "id": "ibaWWYTIItTp"
      }
    },
    {
      "cell_type": "markdown",
      "source": [
        "Запишем имя признака в переменную sign"
      ],
      "metadata": {
        "id": "9a5lZcTNItTq"
      }
    },
    {
      "cell_type": "code",
      "source": [
        "sign = 'model year'"
      ],
      "metadata": {
        "id": "6A7QUKnhItTq"
      },
      "execution_count": 521,
      "outputs": []
    },
    {
      "cell_type": "markdown",
      "source": [
        "Выведем признак для просмотра содержимого"
      ],
      "metadata": {
        "id": "_lGjeGVeItTr"
      }
    },
    {
      "cell_type": "code",
      "source": [
        "dataset[sign].head(10)"
      ],
      "metadata": {
        "colab": {
          "base_uri": "https://localhost:8080/",
          "height": 0
        },
        "outputId": "a8ff3f24-6e5f-466b-80f5-38e273f6a308",
        "id": "h-VLXYx4ItTr"
      },
      "execution_count": 522,
      "outputs": [
        {
          "output_type": "execute_result",
          "data": {
            "text/plain": [
              "0    70\n",
              "1    70\n",
              "2    70\n",
              "3    70\n",
              "4    70\n",
              "5    70\n",
              "6    70\n",
              "7    70\n",
              "8    70\n",
              "9    70\n",
              "Name: model year, dtype: int64"
            ],
            "text/html": [
              "<div>\n",
              "<style scoped>\n",
              "    .dataframe tbody tr th:only-of-type {\n",
              "        vertical-align: middle;\n",
              "    }\n",
              "\n",
              "    .dataframe tbody tr th {\n",
              "        vertical-align: top;\n",
              "    }\n",
              "\n",
              "    .dataframe thead th {\n",
              "        text-align: right;\n",
              "    }\n",
              "</style>\n",
              "<table border=\"1\" class=\"dataframe\">\n",
              "  <thead>\n",
              "    <tr style=\"text-align: right;\">\n",
              "      <th></th>\n",
              "      <th>model year</th>\n",
              "    </tr>\n",
              "  </thead>\n",
              "  <tbody>\n",
              "    <tr>\n",
              "      <th>0</th>\n",
              "      <td>70</td>\n",
              "    </tr>\n",
              "    <tr>\n",
              "      <th>1</th>\n",
              "      <td>70</td>\n",
              "    </tr>\n",
              "    <tr>\n",
              "      <th>2</th>\n",
              "      <td>70</td>\n",
              "    </tr>\n",
              "    <tr>\n",
              "      <th>3</th>\n",
              "      <td>70</td>\n",
              "    </tr>\n",
              "    <tr>\n",
              "      <th>4</th>\n",
              "      <td>70</td>\n",
              "    </tr>\n",
              "    <tr>\n",
              "      <th>5</th>\n",
              "      <td>70</td>\n",
              "    </tr>\n",
              "    <tr>\n",
              "      <th>6</th>\n",
              "      <td>70</td>\n",
              "    </tr>\n",
              "    <tr>\n",
              "      <th>7</th>\n",
              "      <td>70</td>\n",
              "    </tr>\n",
              "    <tr>\n",
              "      <th>8</th>\n",
              "      <td>70</td>\n",
              "    </tr>\n",
              "    <tr>\n",
              "      <th>9</th>\n",
              "      <td>70</td>\n",
              "    </tr>\n",
              "  </tbody>\n",
              "</table>\n",
              "</div><br><label><b>dtype:</b> int64</label>"
            ]
          },
          "metadata": {},
          "execution_count": 522
        }
      ]
    },
    {
      "cell_type": "markdown",
      "source": [
        "Выведем уникальные значения"
      ],
      "metadata": {
        "id": "VH4Iho5dItTs"
      }
    },
    {
      "cell_type": "code",
      "source": [
        "dataset[sign].unique()"
      ],
      "metadata": {
        "colab": {
          "base_uri": "https://localhost:8080/"
        },
        "outputId": "04c63c71-73e4-43aa-a1d9-6089e1d6edec",
        "id": "FwMsPyG4ItTt"
      },
      "execution_count": 523,
      "outputs": [
        {
          "output_type": "execute_result",
          "data": {
            "text/plain": [
              "array([70, 71, 72, 73, 74, 75, 76, 77, 78, 79, 80, 81, 82])"
            ]
          },
          "metadata": {},
          "execution_count": 523
        }
      ]
    },
    {
      "cell_type": "markdown",
      "source": [
        "Выведем количество уникальных значений"
      ],
      "metadata": {
        "id": "nLnZ7umTItTt"
      }
    },
    {
      "cell_type": "code",
      "source": [
        "dataset[sign].unique().shape"
      ],
      "metadata": {
        "colab": {
          "base_uri": "https://localhost:8080/"
        },
        "outputId": "2ccf392c-2da2-4c78-c025-d8dba5be46f5",
        "id": "kERiqHC7ItTu"
      },
      "execution_count": 524,
      "outputs": [
        {
          "output_type": "execute_result",
          "data": {
            "text/plain": [
              "(13,)"
            ]
          },
          "metadata": {},
          "execution_count": 524
        }
      ]
    },
    {
      "cell_type": "markdown",
      "source": [
        "Посмотрим наличие дубликатов"
      ],
      "metadata": {
        "id": "v77ewLaLItTv"
      }
    },
    {
      "cell_type": "code",
      "source": [
        "dataset.duplicated(subset=sign).sum()"
      ],
      "metadata": {
        "colab": {
          "base_uri": "https://localhost:8080/"
        },
        "outputId": "9c8a8e75-9b22-4436-d1d9-66f64d072fef",
        "id": "yAPSQ03TItTv"
      },
      "execution_count": 525,
      "outputs": [
        {
          "output_type": "execute_result",
          "data": {
            "text/plain": [
              "np.int64(385)"
            ]
          },
          "metadata": {},
          "execution_count": 525
        }
      ]
    },
    {
      "cell_type": "markdown",
      "source": [
        "Построим графически на пропущенные значения"
      ],
      "metadata": {
        "id": "B9B59f84ItTw"
      }
    },
    {
      "cell_type": "code",
      "source": [
        "sns.set()\n",
        "msno.bar(dataset[[sign]], figsize=(14, 8))\n",
        "plt.show()"
      ],
      "metadata": {
        "colab": {
          "base_uri": "https://localhost:8080/",
          "height": 0
        },
        "outputId": "ddd1f1d2-0018-4550-8bee-b9b0985d6ea3",
        "id": "26bShO2-ItTw"
      },
      "execution_count": 526,
      "outputs": [
        {
          "output_type": "display_data",
          "data": {
            "text/plain": [
              "<Figure size 1400x800 with 3 Axes>"
            ],
            "image/png": "[encoded data removed]"
          },
          "metadata": {}
        }
      ]
    },
    {
      "cell_type": "markdown",
      "source": [
        "Посмотрим информациб о датасете"
      ],
      "metadata": {
        "id": "DS-jWGfa0Pgc"
      }
    },
    {
      "cell_type": "code",
      "source": [
        "dataset.info()"
      ],
      "metadata": {
        "colab": {
          "base_uri": "https://localhost:8080/"
        },
        "id": "7wbVWmoN0Pgc",
        "outputId": "e45260f2-a027-4417-d032-6b38d8d5f9f8"
      },
      "execution_count": 527,
      "outputs": [
        {
          "output_type": "stream",
          "name": "stdout",
          "text": [
            "<class 'pandas.core.frame.DataFrame'>\n",
            "RangeIndex: 398 entries, 0 to 397\n",
            "Data columns (total 9 columns):\n",
            " #   Column        Non-Null Count  Dtype  \n",
            "---  ------        --------------  -----  \n",
            " 0   mpg           398 non-null    float64\n",
            " 1   cylinders     398 non-null    int64  \n",
            " 2   displacement  398 non-null    float64\n",
            " 3   horsepower    398 non-null    float64\n",
            " 4   weight        398 non-null    int64  \n",
            " 5   acceleration  398 non-null    float64\n",
            " 6   model year    398 non-null    int64  \n",
            " 7   origin        398 non-null    int64  \n",
            " 8   car name      398 non-null    object \n",
            "dtypes: float64(4), int64(4), object(1)\n",
            "memory usage: 28.1+ KB\n"
          ]
        }
      ]
    },
    {
      "cell_type": "markdown",
      "source": [
        "Выводы по обработке признака:\n",
        "\n",
        "  - Аномалии не были найдены\n",
        "\n",
        "  - После обработки количество признаков и наблюдений не изменилось"
      ],
      "metadata": {
        "id": "5CEY5WX4ItTx"
      }
    },
    {
      "cell_type": "markdown",
      "source": [
        "### 4.8 Признак origin\n",
        "\n",
        "\n",
        "\n"
      ],
      "metadata": {
        "id": "YMFhBg8jJAGj"
      }
    },
    {
      "cell_type": "markdown",
      "source": [
        "Запишем имя признака в переменную sign"
      ],
      "metadata": {
        "id": "qbnIFRxdJAGk"
      }
    },
    {
      "cell_type": "code",
      "source": [
        "sign = 'origin'"
      ],
      "metadata": {
        "id": "iWQP9PWgJAGk"
      },
      "execution_count": 528,
      "outputs": []
    },
    {
      "cell_type": "markdown",
      "source": [
        "Выведем признак для просмотра содержимого"
      ],
      "metadata": {
        "id": "WvGbDqreJAGl"
      }
    },
    {
      "cell_type": "code",
      "source": [
        "dataset[sign].head(10)"
      ],
      "metadata": {
        "colab": {
          "base_uri": "https://localhost:8080/",
          "height": 398
        },
        "outputId": "10186c2d-ba75-4b50-ac1e-cbb1904d040a",
        "id": "Q6Sjzg1vJAGl"
      },
      "execution_count": 529,
      "outputs": [
        {
          "output_type": "execute_result",
          "data": {
            "text/plain": [
              "0    1\n",
              "1    1\n",
              "2    1\n",
              "3    1\n",
              "4    1\n",
              "5    1\n",
              "6    1\n",
              "7    1\n",
              "8    1\n",
              "9    1\n",
              "Name: origin, dtype: int64"
            ],
            "text/html": [
              "<div>\n",
              "<style scoped>\n",
              "    .dataframe tbody tr th:only-of-type {\n",
              "        vertical-align: middle;\n",
              "    }\n",
              "\n",
              "    .dataframe tbody tr th {\n",
              "        vertical-align: top;\n",
              "    }\n",
              "\n",
              "    .dataframe thead th {\n",
              "        text-align: right;\n",
              "    }\n",
              "</style>\n",
              "<table border=\"1\" class=\"dataframe\">\n",
              "  <thead>\n",
              "    <tr style=\"text-align: right;\">\n",
              "      <th></th>\n",
              "      <th>origin</th>\n",
              "    </tr>\n",
              "  </thead>\n",
              "  <tbody>\n",
              "    <tr>\n",
              "      <th>0</th>\n",
              "      <td>1</td>\n",
              "    </tr>\n",
              "    <tr>\n",
              "      <th>1</th>\n",
              "      <td>1</td>\n",
              "    </tr>\n",
              "    <tr>\n",
              "      <th>2</th>\n",
              "      <td>1</td>\n",
              "    </tr>\n",
              "    <tr>\n",
              "      <th>3</th>\n",
              "      <td>1</td>\n",
              "    </tr>\n",
              "    <tr>\n",
              "      <th>4</th>\n",
              "      <td>1</td>\n",
              "    </tr>\n",
              "    <tr>\n",
              "      <th>5</th>\n",
              "      <td>1</td>\n",
              "    </tr>\n",
              "    <tr>\n",
              "      <th>6</th>\n",
              "      <td>1</td>\n",
              "    </tr>\n",
              "    <tr>\n",
              "      <th>7</th>\n",
              "      <td>1</td>\n",
              "    </tr>\n",
              "    <tr>\n",
              "      <th>8</th>\n",
              "      <td>1</td>\n",
              "    </tr>\n",
              "    <tr>\n",
              "      <th>9</th>\n",
              "      <td>1</td>\n",
              "    </tr>\n",
              "  </tbody>\n",
              "</table>\n",
              "</div><br><label><b>dtype:</b> int64</label>"
            ]
          },
          "metadata": {},
          "execution_count": 529
        }
      ]
    },
    {
      "cell_type": "markdown",
      "source": [
        "Выведем уникальные значения"
      ],
      "metadata": {
        "id": "--nPZ1vIJAGn"
      }
    },
    {
      "cell_type": "code",
      "source": [
        "dataset[sign].unique()"
      ],
      "metadata": {
        "colab": {
          "base_uri": "https://localhost:8080/"
        },
        "outputId": "eed9384a-06d9-46eb-810c-36c175c8db80",
        "id": "ULva5tFUJAGn"
      },
      "execution_count": 530,
      "outputs": [
        {
          "output_type": "execute_result",
          "data": {
            "text/plain": [
              "array([1, 3, 2])"
            ]
          },
          "metadata": {},
          "execution_count": 530
        }
      ]
    },
    {
      "cell_type": "markdown",
      "source": [
        "Выведем количество уникальных значений"
      ],
      "metadata": {
        "id": "iQ0DKoNvJAGo"
      }
    },
    {
      "cell_type": "code",
      "source": [
        "dataset[sign].unique().shape"
      ],
      "metadata": {
        "colab": {
          "base_uri": "https://localhost:8080/"
        },
        "outputId": "9f11448a-a0c9-4e11-eb9a-821f3d3f207f",
        "id": "gNCSAUJ0JAGo"
      },
      "execution_count": 531,
      "outputs": [
        {
          "output_type": "execute_result",
          "data": {
            "text/plain": [
              "(3,)"
            ]
          },
          "metadata": {},
          "execution_count": 531
        }
      ]
    },
    {
      "cell_type": "markdown",
      "source": [
        "Посмотрим наличие дубликатов"
      ],
      "metadata": {
        "id": "t_ZOvxXJJAGp"
      }
    },
    {
      "cell_type": "code",
      "source": [
        "dataset.duplicated(subset=sign).sum()"
      ],
      "metadata": {
        "colab": {
          "base_uri": "https://localhost:8080/"
        },
        "outputId": "e654dc7d-c1d2-463a-e252-ed01def75852",
        "id": "BgXa2XhaJAGp"
      },
      "execution_count": 532,
      "outputs": [
        {
          "output_type": "execute_result",
          "data": {
            "text/plain": [
              "np.int64(395)"
            ]
          },
          "metadata": {},
          "execution_count": 532
        }
      ]
    },
    {
      "cell_type": "markdown",
      "source": [
        "Построим графически на пропущенные значения"
      ],
      "metadata": {
        "id": "GKVMUu3JJAGq"
      }
    },
    {
      "cell_type": "code",
      "source": [
        "sns.set()\n",
        "msno.bar(dataset[[sign]], figsize=(14, 8))\n",
        "plt.show()"
      ],
      "metadata": {
        "colab": {
          "base_uri": "https://localhost:8080/",
          "height": 782
        },
        "outputId": "eefcd940-4241-4572-9ab2-00908857580a",
        "id": "OU9PKL3mJAGq"
      },
      "execution_count": 533,
      "outputs": [
        {
          "output_type": "display_data",
          "data": {
            "text/plain": [
              "<Figure size 1400x800 with 3 Axes>"
            ],
            "image/png": "[encoded data removed]"
          },
          "metadata": {}
        }
      ]
    },
    {
      "cell_type": "markdown",
      "source": [
        "Приведём признак к типу category"
      ],
      "metadata": {
        "id": "NckgcgDnz2tW"
      }
    },
    {
      "cell_type": "code",
      "source": [
        "origin_mapping = {1: 'USA', 2: 'Europe', 3: 'Asia'}\n",
        "origin_dummies = pd.get_dummies(\n",
        "    dataset[sign].map(origin_mapping),\n",
        "    prefix=sign\n",
        ")\n",
        "dataset.drop(columns=[sign], inplace=True)\n",
        "dataset = pd.concat([dataset, origin_dummies], axis=1)"
      ],
      "metadata": {
        "id": "RBcexsf-z3SC"
      },
      "execution_count": 534,
      "outputs": []
    },
    {
      "cell_type": "markdown",
      "source": [
        "Посмотрим информациб о датасете"
      ],
      "metadata": {
        "id": "2RhXl55fz-Za"
      }
    },
    {
      "cell_type": "code",
      "source": [
        "dataset.info()"
      ],
      "metadata": {
        "colab": {
          "base_uri": "https://localhost:8080/"
        },
        "id": "xdCX7ws1z-yf",
        "outputId": "b9ba147b-0ab3-477a-ca0f-06f38d28b064"
      },
      "execution_count": 535,
      "outputs": [
        {
          "output_type": "stream",
          "name": "stdout",
          "text": [
            "<class 'pandas.core.frame.DataFrame'>\n",
            "RangeIndex: 398 entries, 0 to 397\n",
            "Data columns (total 11 columns):\n",
            " #   Column         Non-Null Count  Dtype  \n",
            "---  ------         --------------  -----  \n",
            " 0   mpg            398 non-null    float64\n",
            " 1   cylinders      398 non-null    int64  \n",
            " 2   displacement   398 non-null    float64\n",
            " 3   horsepower     398 non-null    float64\n",
            " 4   weight         398 non-null    int64  \n",
            " 5   acceleration   398 non-null    float64\n",
            " 6   model year     398 non-null    int64  \n",
            " 7   car name       398 non-null    object \n",
            " 8   origin_Asia    398 non-null    bool   \n",
            " 9   origin_Europe  398 non-null    bool   \n",
            " 10  origin_USA     398 non-null    bool   \n",
            "dtypes: bool(3), float64(4), int64(3), object(1)\n",
            "memory usage: 26.2+ KB\n"
          ]
        }
      ]
    },
    {
      "cell_type": "markdown",
      "source": [
        "Выводы по обработке признака:\n",
        "\n",
        "  - Аномалии не были найдены\n",
        "\n",
        "  - Было применено Dummy-кодирование\n",
        "\n",
        "  - После обработки количество признаков увеличилось на два, а наблюдений не изменилось"
      ],
      "metadata": {
        "id": "VS-W24B2JAGq"
      }
    },
    {
      "cell_type": "markdown",
      "metadata": {
        "id": "eGqoF4wA7J3m"
      },
      "source": [
        "### 4.9 Признак car name"
      ]
    },
    {
      "cell_type": "markdown",
      "metadata": {
        "id": "P6Y8E_zH7kgt"
      },
      "source": [
        "Запишем имя признака в переменную sign"
      ]
    },
    {
      "cell_type": "code",
      "source": [
        "sign = 'car name'"
      ],
      "metadata": {
        "id": "wJpubgnFF5kG"
      },
      "execution_count": 536,
      "outputs": []
    },
    {
      "cell_type": "markdown",
      "source": [
        "Удалим признак"
      ],
      "metadata": {
        "id": "ySyK1L4XF8BS"
      }
    },
    {
      "cell_type": "code",
      "source": [
        "dataset.drop(columns=sign, inplace=True)\n",
        "dataset"
      ],
      "metadata": {
        "colab": {
          "base_uri": "https://localhost:8080/",
          "height": 0
        },
        "id": "8mT_snl7F9cW",
        "outputId": "98a6602f-0f52-4657-e023-07d84cabdeb2"
      },
      "execution_count": 537,
      "outputs": [
        {
          "output_type": "execute_result",
          "data": {
            "text/plain": [
              "      mpg  cylinders  displacement  horsepower  weight  acceleration  \\\n",
              "0    18.0          8         307.0       130.0    3504          12.0   \n",
              "1    15.0          8         350.0       165.0    3693          11.5   \n",
              "2    18.0          8         318.0       150.0    3436          11.0   \n",
              "3    16.0          8         304.0       150.0    3433          12.0   \n",
              "4    17.0          8         302.0       140.0    3449          10.5   \n",
              "..    ...        ...           ...         ...     ...           ...   \n",
              "393  27.0          4         140.0        86.0    2790          15.6   \n",
              "394  44.0          4          97.0        52.0    2130          24.6   \n",
              "395  32.0          4         135.0        84.0    2295          11.6   \n",
              "396  28.0          4         120.0        79.0    2625          18.6   \n",
              "397  31.0          4         119.0        82.0    2720          19.4   \n",
              "\n",
              "     model year  origin_Asia  origin_Europe  origin_USA  \n",
              "0            70        False          False        True  \n",
              "1            70        False          False        True  \n",
              "2            70        False          False        True  \n",
              "3            70        False          False        True  \n",
              "4            70        False          False        True  \n",
              "..          ...          ...            ...         ...  \n",
              "393          82        False          False        True  \n",
              "394          82        False           True       False  \n",
              "395          82        False          False        True  \n",
              "396          82        False          False        True  \n",
              "397          82        False          False        True  \n",
              "\n",
              "[398 rows x 10 columns]"
            ],
            "text/html": [
              "\n",
              "  <div id=\"df-f0924698-855c-41b0-b55a-268069bc62d1\" class=\"colab-df-container\">\n",
              "    <div>\n",
              "<style scoped>\n",
              "    .dataframe tbody tr th:only-of-type {\n",
              "        vertical-align: middle;\n",
              "    }\n",
              "\n",
              "    .dataframe tbody tr th {\n",
              "        vertical-align: top;\n",
              "    }\n",
              "\n",
              "    .dataframe thead th {\n",
              "        text-align: right;\n",
              "    }\n",
              "</style>\n",
              "<table border=\"1\" class=\"dataframe\">\n",
              "  <thead>\n",
              "    <tr style=\"text-align: right;\">\n",
              "      <th></th>\n",
              "      <th>mpg</th>\n",
              "      <th>cylinders</th>\n",
              "      <th>displacement</th>\n",
              "      <th>horsepower</th>\n",
              "      <th>weight</th>\n",
              "      <th>acceleration</th>\n",
              "      <th>model year</th>\n",
              "      <th>origin_Asia</th>\n",
              "      <th>origin_Europe</th>\n",
              "      <th>origin_USA</th>\n",
              "    </tr>\n",
              "  </thead>\n",
              "  <tbody>\n",
              "    <tr>\n",
              "      <th>0</th>\n",
              "      <td>18.0</td>\n",
              "      <td>8</td>\n",
              "      <td>307.0</td>\n",
              "      <td>130.0</td>\n",
              "      <td>3504</td>\n",
              "      <td>12.0</td>\n",
              "      <td>70</td>\n",
              "      <td>False</td>\n",
              "      <td>False</td>\n",
              "      <td>True</td>\n",
              "    </tr>\n",
              "    <tr>\n",
              "      <th>1</th>\n",
              "      <td>15.0</td>\n",
              "      <td>8</td>\n",
              "      <td>350.0</td>\n",
              "      <td>165.0</td>\n",
              "      <td>3693</td>\n",
              "      <td>11.5</td>\n",
              "      <td>70</td>\n",
              "      <td>False</td>\n",
              "      <td>False</td>\n",
              "      <td>True</td>\n",
              "    </tr>\n",
              "    <tr>\n",
              "      <th>2</th>\n",
              "      <td>18.0</td>\n",
              "      <td>8</td>\n",
              "      <td>318.0</td>\n",
              "      <td>150.0</td>\n",
              "      <td>3436</td>\n",
              "      <td>11.0</td>\n",
              "      <td>70</td>\n",
              "      <td>False</td>\n",
              "      <td>False</td>\n",
              "      <td>True</td>\n",
              "    </tr>\n",
              "    <tr>\n",
              "      <th>3</th>\n",
              "      <td>16.0</td>\n",
              "      <td>8</td>\n",
              "      <td>304.0</td>\n",
              "      <td>150.0</td>\n",
              "      <td>3433</td>\n",
              "      <td>12.0</td>\n",
              "      <td>70</td>\n",
              "      <td>False</td>\n",
              "      <td>False</td>\n",
              "      <td>True</td>\n",
              "    </tr>\n",
              "    <tr>\n",
              "      <th>4</th>\n",
              "      <td>17.0</td>\n",
              "      <td>8</td>\n",
              "      <td>302.0</td>\n",
              "      <td>140.0</td>\n",
              "      <td>3449</td>\n",
              "      <td>10.5</td>\n",
              "      <td>70</td>\n",
              "      <td>False</td>\n",
              "      <td>False</td>\n",
              "      <td>True</td>\n",
              "    </tr>\n",
              "    <tr>\n",
              "      <th>...</th>\n",
              "      <td>...</td>\n",
              "      <td>...</td>\n",
              "      <td>...</td>\n",
              "      <td>...</td>\n",
              "      <td>...</td>\n",
              "      <td>...</td>\n",
              "      <td>...</td>\n",
              "      <td>...</td>\n",
              "      <td>...</td>\n",
              "      <td>...</td>\n",
              "    </tr>\n",
              "    <tr>\n",
              "      <th>393</th>\n",
              "      <td>27.0</td>\n",
              "      <td>4</td>\n",
              "      <td>140.0</td>\n",
              "      <td>86.0</td>\n",
              "      <td>2790</td>\n",
              "      <td>15.6</td>\n",
              "      <td>82</td>\n",
              "      <td>False</td>\n",
              "      <td>False</td>\n",
              "      <td>True</td>\n",
              "    </tr>\n",
              "    <tr>\n",
              "      <th>394</th>\n",
              "      <td>44.0</td>\n",
              "      <td>4</td>\n",
              "      <td>97.0</td>\n",
              "      <td>52.0</td>\n",
              "      <td>2130</td>\n",
              "      <td>24.6</td>\n",
              "      <td>82</td>\n",
              "      <td>False</td>\n",
              "      <td>True</td>\n",
              "      <td>False</td>\n",
              "    </tr>\n",
              "    <tr>\n",
              "      <th>395</th>\n",
              "      <td>32.0</td>\n",
              "      <td>4</td>\n",
              "      <td>135.0</td>\n",
              "      <td>84.0</td>\n",
              "      <td>2295</td>\n",
              "      <td>11.6</td>\n",
              "      <td>82</td>\n",
              "      <td>False</td>\n",
              "      <td>False</td>\n",
              "      <td>True</td>\n",
              "    </tr>\n",
              "    <tr>\n",
              "      <th>396</th>\n",
              "      <td>28.0</td>\n",
              "      <td>4</td>\n",
              "      <td>120.0</td>\n",
              "      <td>79.0</td>\n",
              "      <td>2625</td>\n",
              "      <td>18.6</td>\n",
              "      <td>82</td>\n",
              "      <td>False</td>\n",
              "      <td>False</td>\n",
              "      <td>True</td>\n",
              "    </tr>\n",
              "    <tr>\n",
              "      <th>397</th>\n",
              "      <td>31.0</td>\n",
              "      <td>4</td>\n",
              "      <td>119.0</td>\n",
              "      <td>82.0</td>\n",
              "      <td>2720</td>\n",
              "      <td>19.4</td>\n",
              "      <td>82</td>\n",
              "      <td>False</td>\n",
              "      <td>False</td>\n",
              "      <td>True</td>\n",
              "    </tr>\n",
              "  </tbody>\n",
              "</table>\n",
              "<p>398 rows × 10 columns</p>\n",
              "</div>\n",
              "    <div class=\"colab-df-buttons\">\n",
              "\n",
              "  <div class=\"colab-df-container\">\n",
              "    <button class=\"colab-df-convert\" onclick=\"convertToInteractive('df-f0924698-855c-41b0-b55a-268069bc62d1')\"\n",
              "            title=\"Convert this dataframe to an interactive table.\"\n",
              "            style=\"display:none;\">\n",
              "\n",
              "  <svg xmlns=\"http://www.w3.org/2000/svg\" height=\"24px\" viewBox=\"0 -960 960 960\">\n",
              "    <path d=\"M120-120v-720h720v720H120Zm60-500h600v-160H180v160Zm220 220h160v-160H400v160Zm0 220h160v-160H400v160ZM180-400h160v-160H180v160Zm440 0h160v-160H620v160ZM180-180h160v-160H180v160Zm440 0h160v-160H620v160Z\"/>\n",
              "  </svg>\n",
              "    </button>\n",
              "\n",
              "  <style>\n",
              "    .colab-df-container {\n",
              "      display:flex;\n",
              "      gap: 12px;\n",
              "    }\n",
              "\n",
              "    .colab-df-convert {\n",
              "      background-color: #E8F0FE;\n",
              "      border: none;\n",
              "      border-radius: 50%;\n",
              "      cursor: pointer;\n",
              "      display: none;\n",
              "      fill: #1967D2;\n",
              "      height: 32px;\n",
              "      padding: 0 0 0 0;\n",
              "      width: 32px;\n",
              "    }\n",
              "\n",
              "    .colab-df-convert:hover {\n",
              "      background-color: #E2EBFA;\n",
              "      box-shadow: 0px 1px 2px rgba(60, 64, 67, 0.3), 0px 1px 3px 1px rgba(60, 64, 67, 0.15);\n",
              "      fill: #174EA6;\n",
              "    }\n",
              "\n",
              "    .colab-df-buttons div {\n",
              "      margin-bottom: 4px;\n",
              "    }\n",
              "\n",
              "    [theme=dark] .colab-df-convert {\n",
              "      background-color: #3B4455;\n",
              "      fill: #D2E3FC;\n",
              "    }\n",
              "\n",
              "    [theme=dark] .colab-df-convert:hover {\n",
              "      background-color: #434B5C;\n",
              "      box-shadow: 0px 1px 3px 1px rgba(0, 0, 0, 0.15);\n",
              "      filter: drop-shadow(0px 1px 2px rgba(0, 0, 0, 0.3));\n",
              "      fill: #FFFFFF;\n",
              "    }\n",
              "  </style>\n",
              "\n",
              "    <script>\n",
              "      const buttonEl =\n",
              "        document.querySelector('#df-f0924698-855c-41b0-b55a-268069bc62d1 button.colab-df-convert');\n",
              "      buttonEl.style.display =\n",
              "        google.colab.kernel.accessAllowed ? 'block' : 'none';\n",
              "\n",
              "      async function convertToInteractive(key) {\n",
              "        const element = document.querySelector('#df-f0924698-855c-41b0-b55a-268069bc62d1');\n",
              "        const dataTable =\n",
              "          await google.colab.kernel.invokeFunction('convertToInteractive',\n",
              "                                                    [key], {});\n",
              "        if (!dataTable) return;\n",
              "\n",
              "        const docLinkHtml = 'Like what you see? Visit the ' +\n",
              "          '<a target=\"_blank\" href=https://colab.research.google.com/notebooks/data_table.ipynb>data table notebook</a>'\n",
              "          + ' to learn more about interactive tables.';\n",
              "        element.innerHTML = '';\n",
              "        dataTable['output_type'] = 'display_data';\n",
              "        await google.colab.output.renderOutput(dataTable, element);\n",
              "        const docLink = document.createElement('div');\n",
              "        docLink.innerHTML = docLinkHtml;\n",
              "        element.appendChild(docLink);\n",
              "      }\n",
              "    </script>\n",
              "  </div>\n",
              "\n",
              "\n",
              "    <div id=\"df-628c7773-c620-4830-b75e-50b5aed90e83\">\n",
              "      <button class=\"colab-df-quickchart\" onclick=\"quickchart('df-628c7773-c620-4830-b75e-50b5aed90e83')\"\n",
              "                title=\"Suggest charts\"\n",
              "                style=\"display:none;\">\n",
              "\n",
              "<svg xmlns=\"http://www.w3.org/2000/svg\" height=\"24px\"viewBox=\"0 0 24 24\"\n",
              "     width=\"24px\">\n",
              "    <g>\n",
              "        <path d=\"M19 3H5c-1.1 0-2 .9-2 2v14c0 1.1.9 2 2 2h14c1.1 0 2-.9 2-2V5c0-1.1-.9-2-2-2zM9 17H7v-7h2v7zm4 0h-2V7h2v10zm4 0h-2v-4h2v4z\"/>\n",
              "    </g>\n",
              "</svg>\n",
              "      </button>\n",
              "\n",
              "<style>\n",
              "  .colab-df-quickchart {\n",
              "      --bg-color: #E8F0FE;\n",
              "      --fill-color: #1967D2;\n",
              "      --hover-bg-color: #E2EBFA;\n",
              "      --hover-fill-color: #174EA6;\n",
              "      --disabled-fill-color: #AAA;\n",
              "      --disabled-bg-color: #DDD;\n",
              "  }\n",
              "\n",
              "  [theme=dark] .colab-df-quickchart {\n",
              "      --bg-color: #3B4455;\n",
              "      --fill-color: #D2E3FC;\n",
              "      --hover-bg-color: #434B5C;\n",
              "      --hover-fill-color: #FFFFFF;\n",
              "      --disabled-bg-color: #3B4455;\n",
              "      --disabled-fill-color: #666;\n",
              "  }\n",
              "\n",
              "  .colab-df-quickchart {\n",
              "    background-color: var(--bg-color);\n",
              "    border: none;\n",
              "    border-radius: 50%;\n",
              "    cursor: pointer;\n",
              "    display: none;\n",
              "    fill: var(--fill-color);\n",
              "    height: 32px;\n",
              "    padding: 0;\n",
              "    width: 32px;\n",
              "  }\n",
              "\n",
              "  .colab-df-quickchart:hover {\n",
              "    background-color: var(--hover-bg-color);\n",
              "    box-shadow: 0 1px 2px rgba(60, 64, 67, 0.3), 0 1px 3px 1px rgba(60, 64, 67, 0.15);\n",
              "    fill: var(--button-hover-fill-color);\n",
              "  }\n",
              "\n",
              "  .colab-df-quickchart-complete:disabled,\n",
              "  .colab-df-quickchart-complete:disabled:hover {\n",
              "    background-color: var(--disabled-bg-color);\n",
              "    fill: var(--disabled-fill-color);\n",
              "    box-shadow: none;\n",
              "  }\n",
              "\n",
              "  .colab-df-spinner {\n",
              "    border: 2px solid var(--fill-color);\n",
              "    border-color: transparent;\n",
              "    border-bottom-color: var(--fill-color);\n",
              "    animation:\n",
              "      spin 1s steps(1) infinite;\n",
              "  }\n",
              "\n",
              "  @keyframes spin {\n",
              "    0% {\n",
              "      border-color: transparent;\n",
              "      border-bottom-color: var(--fill-color);\n",
              "      border-left-color: var(--fill-color);\n",
              "    }\n",
              "    20% {\n",
              "      border-color: transparent;\n",
              "      border-left-color: var(--fill-color);\n",
              "      border-top-color: var(--fill-color);\n",
              "    }\n",
              "    30% {\n",
              "      border-color: transparent;\n",
              "      border-left-color: var(--fill-color);\n",
              "      border-top-color: var(--fill-color);\n",
              "      border-right-color: var(--fill-color);\n",
              "    }\n",
              "    40% {\n",
              "      border-color: transparent;\n",
              "      border-right-color: var(--fill-color);\n",
              "      border-top-color: var(--fill-color);\n",
              "    }\n",
              "    60% {\n",
              "      border-color: transparent;\n",
              "      border-right-color: var(--fill-color);\n",
              "    }\n",
              "    80% {\n",
              "      border-color: transparent;\n",
              "      border-right-color: var(--fill-color);\n",
              "      border-bottom-color: var(--fill-color);\n",
              "    }\n",
              "    90% {\n",
              "      border-color: transparent;\n",
              "      border-bottom-color: var(--fill-color);\n",
              "    }\n",
              "  }\n",
              "</style>\n",
              "\n",
              "      <script>\n",
              "        async function quickchart(key) {\n",
              "          const quickchartButtonEl =\n",
              "            document.querySelector('#' + key + ' button');\n",
              "          quickchartButtonEl.disabled = true;  // To prevent multiple clicks.\n",
              "          quickchartButtonEl.classList.add('colab-df-spinner');\n",
              "          try {\n",
              "            const charts = await google.colab.kernel.invokeFunction(\n",
              "                'suggestCharts', [key], {});\n",
              "          } catch (error) {\n",
              "            console.error('Error during call to suggestCharts:', error);\n",
              "          }\n",
              "          quickchartButtonEl.classList.remove('colab-df-spinner');\n",
              "          quickchartButtonEl.classList.add('colab-df-quickchart-complete');\n",
              "        }\n",
              "        (() => {\n",
              "          let quickchartButtonEl =\n",
              "            document.querySelector('#df-628c7773-c620-4830-b75e-50b5aed90e83 button');\n",
              "          quickchartButtonEl.style.display =\n",
              "            google.colab.kernel.accessAllowed ? 'block' : 'none';\n",
              "        })();\n",
              "      </script>\n",
              "    </div>\n",
              "    </div>\n",
              "  </div>\n"
            ],
            "application/vnd.google.colaboratory.intrinsic+json": {
              "type": "dataframe",
              "variable_name": "dataset",
              "summary": "{\n  \"name\": \"dataset\",\n  \"rows\": 398,\n  \"fields\": [\n    {\n      \"column\": \"mpg\",\n      \"properties\": {\n        \"dtype\": \"number\",\n        \"std\": 7.815984312565782,\n        \"min\": 9.0,\n        \"max\": 46.6,\n        \"num_unique_values\": 129,\n        \"samples\": [\n          17.7,\n          30.5,\n          30.0\n        ],\n        \"semantic_type\": \"\",\n        \"description\": \"\"\n      }\n    },\n    {\n      \"column\": \"cylinders\",\n      \"properties\": {\n        \"dtype\": \"number\",\n        \"std\": 1,\n        \"min\": 3,\n        \"max\": 8,\n        \"num_unique_values\": 5,\n        \"samples\": [\n          4,\n          5,\n          6\n        ],\n        \"semantic_type\": \"\",\n        \"description\": \"\"\n      }\n    },\n    {\n      \"column\": \"displacement\",\n      \"properties\": {\n        \"dtype\": \"number\",\n        \"std\": 104.26983817119581,\n        \"min\": 68.0,\n        \"max\": 455.0,\n        \"num_unique_values\": 82,\n        \"samples\": [\n          122.0,\n          307.0,\n          360.0\n        ],\n        \"semantic_type\": \"\",\n        \"description\": \"\"\n      }\n    },\n    {\n      \"column\": \"horsepower\",\n      \"properties\": {\n        \"dtype\": \"number\",\n        \"std\": 38.37776418802291,\n        \"min\": 46.0,\n        \"max\": 230.0,\n        \"num_unique_values\": 94,\n        \"samples\": [\n          112.0,\n          75.0,\n          78.0\n        ],\n        \"semantic_type\": \"\",\n        \"description\": \"\"\n      }\n    },\n    {\n      \"column\": \"weight\",\n      \"properties\": {\n        \"dtype\": \"number\",\n        \"std\": 846,\n        \"min\": 1613,\n        \"max\": 5140,\n        \"num_unique_values\": 351,\n        \"samples\": [\n          3730,\n          1995,\n          2215\n        ],\n        \"semantic_type\": \"\",\n        \"description\": \"\"\n      }\n    },\n    {\n      \"column\": \"acceleration\",\n      \"properties\": {\n        \"dtype\": \"number\",\n        \"std\": 2.7576889298126757,\n        \"min\": 8.0,\n        \"max\": 24.8,\n        \"num_unique_values\": 95,\n        \"samples\": [\n          14.7,\n          18.0,\n          14.3\n        ],\n        \"semantic_type\": \"\",\n        \"description\": \"\"\n      }\n    },\n    {\n      \"column\": \"model year\",\n      \"properties\": {\n        \"dtype\": \"number\",\n        \"std\": 3,\n        \"min\": 70,\n        \"max\": 82,\n        \"num_unique_values\": 13,\n        \"samples\": [\n          81,\n          79,\n          70\n        ],\n        \"semantic_type\": \"\",\n        \"description\": \"\"\n      }\n    },\n    {\n      \"column\": \"origin_Asia\",\n      \"properties\": {\n        \"dtype\": \"boolean\",\n        \"num_unique_values\": 2,\n        \"samples\": [\n          true,\n          false\n        ],\n        \"semantic_type\": \"\",\n        \"description\": \"\"\n      }\n    },\n    {\n      \"column\": \"origin_Europe\",\n      \"properties\": {\n        \"dtype\": \"boolean\",\n        \"num_unique_values\": 2,\n        \"samples\": [\n          true,\n          false\n        ],\n        \"semantic_type\": \"\",\n        \"description\": \"\"\n      }\n    },\n    {\n      \"column\": \"origin_USA\",\n      \"properties\": {\n        \"dtype\": \"boolean\",\n        \"num_unique_values\": 2,\n        \"samples\": [\n          false,\n          true\n        ],\n        \"semantic_type\": \"\",\n        \"description\": \"\"\n      }\n    }\n  ]\n}"
            }
          },
          "metadata": {},
          "execution_count": 537
        }
      ]
    },
    {
      "cell_type": "markdown",
      "source": [
        "Посмотрим информациб о датасете"
      ],
      "metadata": {
        "id": "fBOjsy7jGNLT"
      }
    },
    {
      "cell_type": "code",
      "source": [
        "dataset.info()"
      ],
      "metadata": {
        "colab": {
          "base_uri": "https://localhost:8080/"
        },
        "id": "oViktevrGNq-",
        "outputId": "bd42d3e7-0590-4d67-c71c-0adbe5ca7e0f"
      },
      "execution_count": 538,
      "outputs": [
        {
          "output_type": "stream",
          "name": "stdout",
          "text": [
            "<class 'pandas.core.frame.DataFrame'>\n",
            "RangeIndex: 398 entries, 0 to 397\n",
            "Data columns (total 10 columns):\n",
            " #   Column         Non-Null Count  Dtype  \n",
            "---  ------         --------------  -----  \n",
            " 0   mpg            398 non-null    float64\n",
            " 1   cylinders      398 non-null    int64  \n",
            " 2   displacement   398 non-null    float64\n",
            " 3   horsepower     398 non-null    float64\n",
            " 4   weight         398 non-null    int64  \n",
            " 5   acceleration   398 non-null    float64\n",
            " 6   model year     398 non-null    int64  \n",
            " 7   origin_Asia    398 non-null    bool   \n",
            " 8   origin_Europe  398 non-null    bool   \n",
            " 9   origin_USA     398 non-null    bool   \n",
            "dtypes: bool(3), float64(4), int64(3)\n",
            "memory usage: 23.1 KB\n"
          ]
        }
      ]
    },
    {
      "cell_type": "markdown",
      "source": [
        "Выводы по обработке признака:\n",
        "\n",
        "  - Аномалии не были найдены\n",
        "\n",
        "  - Количество наблюдений после обработки признака не изменилось, а признаков уменьшилось на один\n",
        "\n",
        "  - Признак удалён"
      ],
      "metadata": {
        "id": "mp6AE2WcGVAr"
      }
    },
    {
      "cell_type": "markdown",
      "metadata": {
        "id": "VAtYS0y6pnC_"
      },
      "source": [
        "## 5. Датасет после предобработки"
      ]
    },
    {
      "cell_type": "markdown",
      "metadata": {
        "id": "udnJ20u8JCYZ"
      },
      "source": [
        "Признаки, которые будут использованы для дальнейшего анализа:\n",
        "\n",
        "  * Количественные признаки:\n",
        "  \n",
        "    - mpg\n",
        "\n",
        "    - cylinders\n",
        "\n",
        "    - displacement\n",
        "\n",
        "    - horsepower\n",
        "\n",
        "    - weight\n",
        "\n",
        "    - acceleration\n",
        "\n",
        "    - model year\n",
        "\n",
        "  * Категориальные признаки:\n",
        "\n",
        "    - origin_Asia\n",
        "\n",
        "    - origin_Europe\n",
        "\n",
        "    - origin_USA"
      ]
    },
    {
      "cell_type": "markdown",
      "metadata": {
        "id": "9NQFo1qTGyYE"
      },
      "source": [
        "Посмотрим на размеры датасета"
      ]
    },
    {
      "cell_type": "code",
      "execution_count": 539,
      "metadata": {
        "id": "56-gkbYlGnpv",
        "colab": {
          "base_uri": "https://localhost:8080/"
        },
        "outputId": "47a972b3-2fc4-4861-b333-0448c4aa7a87"
      },
      "outputs": [
        {
          "output_type": "execute_result",
          "data": {
            "text/plain": [
              "(398, 10)"
            ]
          },
          "metadata": {},
          "execution_count": 539
        }
      ],
      "source": [
        "dataset.shape"
      ]
    },
    {
      "cell_type": "markdown",
      "metadata": {
        "id": "xmELA4VWHO0a"
      },
      "source": [
        "Посмотрим количество пропусков в датасете"
      ]
    },
    {
      "cell_type": "code",
      "execution_count": 540,
      "metadata": {
        "id": "yqJ2P9uKHT9x",
        "colab": {
          "base_uri": "https://localhost:8080/",
          "height": 398
        },
        "outputId": "6902303a-81d6-4521-e0f4-409f2bed0015"
      },
      "outputs": [
        {
          "output_type": "execute_result",
          "data": {
            "text/plain": [
              "mpg              0\n",
              "cylinders        0\n",
              "displacement     0\n",
              "horsepower       0\n",
              "weight           0\n",
              "acceleration     0\n",
              "model year       0\n",
              "origin_Asia      0\n",
              "origin_Europe    0\n",
              "origin_USA       0\n",
              "dtype: int64"
            ],
            "text/html": [
              "<div>\n",
              "<style scoped>\n",
              "    .dataframe tbody tr th:only-of-type {\n",
              "        vertical-align: middle;\n",
              "    }\n",
              "\n",
              "    .dataframe tbody tr th {\n",
              "        vertical-align: top;\n",
              "    }\n",
              "\n",
              "    .dataframe thead th {\n",
              "        text-align: right;\n",
              "    }\n",
              "</style>\n",
              "<table border=\"1\" class=\"dataframe\">\n",
              "  <thead>\n",
              "    <tr style=\"text-align: right;\">\n",
              "      <th></th>\n",
              "      <th>0</th>\n",
              "    </tr>\n",
              "  </thead>\n",
              "  <tbody>\n",
              "    <tr>\n",
              "      <th>mpg</th>\n",
              "      <td>0</td>\n",
              "    </tr>\n",
              "    <tr>\n",
              "      <th>cylinders</th>\n",
              "      <td>0</td>\n",
              "    </tr>\n",
              "    <tr>\n",
              "      <th>displacement</th>\n",
              "      <td>0</td>\n",
              "    </tr>\n",
              "    <tr>\n",
              "      <th>horsepower</th>\n",
              "      <td>0</td>\n",
              "    </tr>\n",
              "    <tr>\n",
              "      <th>weight</th>\n",
              "      <td>0</td>\n",
              "    </tr>\n",
              "    <tr>\n",
              "      <th>acceleration</th>\n",
              "      <td>0</td>\n",
              "    </tr>\n",
              "    <tr>\n",
              "      <th>model year</th>\n",
              "      <td>0</td>\n",
              "    </tr>\n",
              "    <tr>\n",
              "      <th>origin_Asia</th>\n",
              "      <td>0</td>\n",
              "    </tr>\n",
              "    <tr>\n",
              "      <th>origin_Europe</th>\n",
              "      <td>0</td>\n",
              "    </tr>\n",
              "    <tr>\n",
              "      <th>origin_USA</th>\n",
              "      <td>0</td>\n",
              "    </tr>\n",
              "  </tbody>\n",
              "</table>\n",
              "</div><br><label><b>dtype:</b> int64</label>"
            ]
          },
          "metadata": {},
          "execution_count": 540
        }
      ],
      "source": [
        "dataset.isnull().sum()"
      ]
    },
    {
      "cell_type": "markdown",
      "metadata": {
        "id": "rTc1w5_YHIIk"
      },
      "source": [
        "Посмотрим информацию о датасете"
      ]
    },
    {
      "cell_type": "code",
      "execution_count": 541,
      "metadata": {
        "id": "IbpwOjxBHHrH",
        "colab": {
          "base_uri": "https://localhost:8080/"
        },
        "outputId": "714fc234-ffd2-474f-99fd-c8cd3ebc8845"
      },
      "outputs": [
        {
          "output_type": "stream",
          "name": "stdout",
          "text": [
            "<class 'pandas.core.frame.DataFrame'>\n",
            "RangeIndex: 398 entries, 0 to 397\n",
            "Data columns (total 10 columns):\n",
            " #   Column         Non-Null Count  Dtype  \n",
            "---  ------         --------------  -----  \n",
            " 0   mpg            398 non-null    float64\n",
            " 1   cylinders      398 non-null    int64  \n",
            " 2   displacement   398 non-null    float64\n",
            " 3   horsepower     398 non-null    float64\n",
            " 4   weight         398 non-null    int64  \n",
            " 5   acceleration   398 non-null    float64\n",
            " 6   model year     398 non-null    int64  \n",
            " 7   origin_Asia    398 non-null    bool   \n",
            " 8   origin_Europe  398 non-null    bool   \n",
            " 9   origin_USA     398 non-null    bool   \n",
            "dtypes: bool(3), float64(4), int64(3)\n",
            "memory usage: 23.1 KB\n"
          ]
        }
      ],
      "source": [
        "dataset.info()"
      ]
    }
  ],
  "metadata": {
    "colab": {
      "collapsed_sections": [
        "IHfWX8WHHiYg",
        "BQBuAPeKTFgR",
        "SEXcvzuA6_Nb",
        "4b32tAjOP0qV",
        "oTldGMorUW2e",
        "OrC2TZ8KVaiZ",
        "wE_YUY16GuvF",
        "FQvNqeu-H35B",
        "ibaWWYTIItTp",
        "YMFhBg8jJAGj",
        "eGqoF4wA7J3m"
      ],
      "provenance": [],
      "include_colab_link": true
    },
    "kernelspec": {
      "display_name": "Python 3",
      "name": "python3"
    },
    "language_info": {
      "name": "python"
    }
  },
  "nbformat": 4,
  "nbformat_minor": 0
}